{
  "nbformat": 4,
  "nbformat_minor": 0,
  "metadata": {
    "colab": {
      "provenance": [],
      "collapsed_sections": [
        "87VSMWdWATL_",
        "mMarXAGVaYpn",
        "H_mOw4d61txe",
        "RtT83Eq01z8Y",
        "mG-SJ8nncr6V"
      ]
    },
    "kernelspec": {
      "name": "python3",
      "display_name": "Python 3"
    },
    "language_info": {
      "name": "python"
    }
  },
  "cells": [
    {
      "cell_type": "markdown",
      "source": [
        "<h1 style=\"text-align:center;\"><font color='red' size=10><b> Before you start! </b></font></h1>\n",
        "\n",
        "This project is divided in 3 parts:\n",
        "\n",
        "**1) ETL, where we will Extract, Transform and Load data into an AWS RDS.  <font color='red'>-> you are here</font>**\n",
        "\n",
        "https://colab.research.google.com/drive/1w9bPc49joLrceMWAF_RlEgXo73s1Eeee?usp=sharing\n",
        "\n",
        "<br><br>\n",
        "\n",
        "2) Data Analysis: exploratory data analysis to identify key features\n",
        "\n",
        "https://colab.research.google.com/drive/1a_Etj5kwEaq5epwoV9TVPNS3ShRRd7wU?usp=sharing\n",
        "\n",
        "<br><br>\n",
        "\n",
        "3) Prediction models: model building and comparison.\n",
        "\n",
        "https://colab.research.google.com/drive/1Nbj6TM5HaK2krMRa9R1oiolDhDronYQB?usp=sharing\n",
        "\n",
        "<br><br>\n",
        "\n",
        "Summary of this project: https://colab.research.google.com/drive/1CUjP7SdFGldPjuSVSIbHAk9UPWYp_RYz?usp=sharing\n",
        "\n",
        "<br><br>\n",
        "\n",
        "\n",
        "A summary of the data can be visualized on this <font color='red'>**Power BI dashboard:**</font> https://app.powerbi.com/view?r=eyJrIjoiNTkzZjNmY2UtNmQ5Mi00MTJhLTliNzgtZGU2NzRlYzQ5NDA1IiwidCI6IjE2OGQ0MTM3LWQ2ZjYtNDVmOC1hYWE3LWQxYTcwMjMzMDk1ZSIsImMiOjR9&pageName=ReportSection4f69a4c8629ea033a165"
      ],
      "metadata": {
        "id": "bO2wUSavERh6"
      }
    },
    {
      "cell_type": "markdown",
      "source": [
        "# **Analyzing Youtube channels that I am subscribed to using its API.**\n",
        "\n",
        "I love watching Youtube. It's a very diverse streaming service (even before video streaming was a thing), with videos ranging from comedy to science and curiosity, short or long, from channels with millions of subscribers to small comunnities with just a few hundred. \n",
        "\n",
        "But content creators suffer from \"punitive algorithms\" (in their words) that increase or decrease their visibility based on a plethora of metrics, more often than ever unknown to them. From YT perspective it's actually understandable, since a lot of viewers are migrating to other platforms (Tiktok, Twitch and an ever growing streaming services options). They need to maximize the amount of viewers and time spent on each video to justify that Youtube is actually a good platform to place ads.\n",
        "\n",
        "With this in mind I decided to use its API to collect some data and try to predict a video \"view count\" at the time it was published. Some models were built using video title features, thumbnail color, day and hour it was published, and so on. If successful, it could be used for example to fine tune ad placement in terms of expected return it will give. If unsuccessful it can at least be improved in future iterations.\n",
        "\n",
        "\n",
        "\n"
      ],
      "metadata": {
        "id": "yQEFZpNHZhLB"
      }
    },
    {
      "cell_type": "markdown",
      "source": [
        "# **0) Import libraries**"
      ],
      "metadata": {
        "id": "87VSMWdWATL_"
      }
    },
    {
      "cell_type": "code",
      "source": [
        "#!pip install psycopg2\n",
        "!pip install python-dotenv\n",
        "\n",
        "# Import libraries\n",
        "import requests\n",
        "import pandas as pd\n",
        "import time\n",
        "import datetime\n",
        "import pytz\n",
        "import numpy as np\n",
        "import psycopg2 as ps\n",
        "from google.colab import drive\n",
        "import os\n",
        "\n",
        "# Regular expressions\n",
        "import re\n",
        "\n",
        "# Environment variables\n",
        "from dotenv import load_dotenv\n",
        "\n",
        "# Image processing\n",
        "import matplotlib.image as img\n",
        "import matplotlib.pyplot as plt\n",
        "from skimage import io\n",
        "from PIL import Image\n",
        "from io import BytesIO\n",
        "import seaborn as sns"
      ],
      "metadata": {
        "id": "A9Zx1pwlAUmZ",
        "colab": {
          "base_uri": "https://localhost:8080/"
        },
        "outputId": "40eda7ec-f766-42c5-a881-c431368d65be"
      },
      "execution_count": 2,
      "outputs": [
        {
          "output_type": "stream",
          "name": "stdout",
          "text": [
            "Looking in indexes: https://pypi.org/simple, https://us-python.pkg.dev/colab-wheels/public/simple/\n",
            "Requirement already satisfied: python-dotenv in /usr/local/lib/python3.7/dist-packages (0.21.0)\n"
          ]
        }
      ]
    },
    {
      "cell_type": "markdown",
      "source": [
        "# **1) EXTRACT**"
      ],
      "metadata": {
        "id": "FZ-3NAXKGgv3"
      }
    },
    {
      "cell_type": "markdown",
      "source": [
        "## 1.1) Import API keys\n",
        "The API key is in an environment variable that needs to be loaded from a .env file. Since Google Colab won't persist files between sessions, you need to store the .env file on your Googl Drive and then import/copy that file from yout private Google Drive to this Colab Notebook."
      ],
      "metadata": {
        "id": "mMarXAGVaYpn"
      }
    },
    {
      "cell_type": "code",
      "source": [
        "drive.mount('/content/drive')"
      ],
      "metadata": {
        "colab": {
          "base_uri": "https://localhost:8080/"
        },
        "id": "cyG_xNCIf5IA",
        "outputId": "ed169353-4179-493d-d7fa-eb2868391e4a"
      },
      "execution_count": 3,
      "outputs": [
        {
          "output_type": "stream",
          "name": "stdout",
          "text": [
            "Mounted at /content/drive\n"
          ]
        }
      ]
    },
    {
      "cell_type": "code",
      "source": [
        "!cp /content/drive/My\\ Drive/Profissional/Data\\ Science/Projects/Youtube\\ DS/.env .env # this should be *YOUR* path inside Google Drive to the '.env' file\n",
        "drive.flush_and_unmount()\n",
        "load_dotenv()"
      ],
      "metadata": {
        "colab": {
          "base_uri": "https://localhost:8080/"
        },
        "id": "B6xDL3Zviy57",
        "outputId": "1444fccb-7eac-4369-fb57-3ec30e026987"
      },
      "execution_count": 4,
      "outputs": [
        {
          "output_type": "execute_result",
          "data": {
            "text/plain": [
              "True"
            ]
          },
          "metadata": {},
          "execution_count": 4
        }
      ]
    },
    {
      "cell_type": "code",
      "source": [
        "# Keys\n",
        "API_KEY = os.getenv(\"API_KEY\")"
      ],
      "metadata": {
        "id": "f8gL-Uqa1qrx"
      },
      "execution_count": 5,
      "outputs": []
    },
    {
      "cell_type": "markdown",
      "source": [
        "## 1.2) Methods to extract data from video uploads"
      ],
      "metadata": {
        "id": "H_mOw4d61txe"
      }
    },
    {
      "cell_type": "code",
      "source": [
        "def check_response_successful(response):\n",
        "    \"\"\" Checks if the response from a given request was succesful.\n",
        "    \n",
        "    Raise an exception if an error was found, or\n",
        "    returns True otherwise.\n",
        "    \"\"\"\n",
        "    try:\n",
        "        error = response['error']\n",
        "        error_code = error['code']\n",
        "        error_message = error['message']\n",
        "        raise Exception(f\"{error_code}. \\\"{error_message}\\\"\")\n",
        "    except KeyError:\n",
        "        return True\n",
        "        "
      ],
      "metadata": {
        "id": "DktW1YJBIyi-"
      },
      "execution_count": 6,
      "outputs": []
    },
    {
      "cell_type": "code",
      "source": [
        "def get_video_details(video_id):\n",
        "    \"\"\" Get the video details from a video_id\n",
        "    \n",
        "    Returns the channel id, video title, thumbnail url, \n",
        "    upload timestamp(ISO 8601 standard), video duration (ISO 8601 standard), \n",
        "    view count, like count and comment count.\n",
        "\n",
        "    Utilize 1 quota.\n",
        "    \"\"\"\n",
        "    url = base_url+f\"/videos?id={video_id}&part=snippet,contentDetails,statistics&key={API_KEY}\"\n",
        "    video_details = requests.get(url).json()\n",
        "    response_sucessful = check_response_successful(video_details)\n",
        "\n",
        "    channel_id = video_details['items'][0]['snippet']['channelId']\n",
        "    video_title = video_details['items'][0]['snippet']['title']\n",
        "    thumbnail_url = video_details['items'][0]['snippet']['thumbnails']['high']['url']\n",
        "    upload_date_time = video_details['items'][0]['snippet']['publishedAt']\n",
        "\n",
        "    video_duration = video_details['items'][0]['contentDetails']['duration']\n",
        "\n",
        "    view_count = video_details['items'][0]['statistics']['viewCount']\n",
        "    like_count = video_details['items'][0]['statistics']['likeCount']\n",
        "    #dislike_count = like_count = video_details['items'][0]['statistics']['dislikeCount'] # from Dec 13th 2021, Youtube doesn't return dislike counts anymore\n",
        "    comment_count = video_details['items'][0]['statistics']['commentCount']\n",
        "\n",
        "\n",
        "    return channel_id, video_title, thumbnail_url, upload_date_time, video_duration, view_count, like_count, comment_count"
      ],
      "metadata": {
        "id": "fqJAHXX4qT_3"
      },
      "execution_count": 7,
      "outputs": []
    },
    {
      "cell_type": "code",
      "source": [
        "def get_page_results(pageToken, channel_id, publishedAfter, publishedBefore):\n",
        "    \"\"\" Get search results from a given page that match the channel_id,\n",
        "    \n",
        "    Returns the response.\n",
        "\n",
        "    Utilize 100 quota.\n",
        "    \"\"\"\n",
        "    \n",
        "    url = base_url+f\"/search?key={API_KEY}&channelId={channel_id}&part=id&publishedAfter={publishedAfter}&publishedBefore={publishedBefore}&order=date&maxResults=10000&pageToken={pageToken}\"\n",
        "    response = requests.get(url).json()\n",
        "\n",
        "    return response"
      ],
      "metadata": {
        "id": "_-aSA_Z4GfJv"
      },
      "execution_count": 8,
      "outputs": []
    },
    {
      "cell_type": "code",
      "source": [
        "def get_videos_from_channel(df, channel_id, publishedAfter, publishedBefore):\n",
        "    \"\"\" Get all videos from a channel (iterate all page results), \n",
        "    published after some date and before some date, and store them into a pandas\n",
        "    df.\n",
        "\n",
        "    Returns a pandas df with video id, channel id, video title, thumbnail url,\n",
        "    upload date and time (ISO 8601 standard), video duration (ISO 8601 standard),\n",
        "    view count, like count and comment count.\n",
        "\n",
        "    Utilize 100 quota per page result and 1 quota per video of that page.\n",
        "    \"\"\"\n",
        "\n",
        "    pageToken = \"\"\n",
        "    # Iterate through all page results\n",
        "    while pageToken is not None:\n",
        "        # API call\n",
        "        response = get_page_results(pageToken, channel_id, publishedAfter, publishedBefore)\n",
        "        time.sleep(1)\n",
        "        response_successful = check_response_successful(response)\n",
        "                     \n",
        "        pageToken = response.get('nextPageToken', None)\n",
        "\n",
        "        # Iterate within page to get data\n",
        "        for video in response['items']:\n",
        "            if video['id']['kind'] == \"youtube#video\":\n",
        "                # Get video description\n",
        "                video_id = video['id']['videoId']\n",
        "\n",
        "                channel_id, video_title, thumbnail_url, upload_date_time, \\\n",
        "                    video_duration, view_count, like_count, comment_count = get_video_details(video_id)\n",
        "\n",
        "                # Save into pandas data frame\n",
        "                df = df.append(\n",
        "                    {\"video_id\": video_id,\n",
        "                    \"channel_id\": channel_id,\n",
        "                    \"video_title\": video_title,\n",
        "                    \"thumbnail_url\": thumbnail_url,\n",
        "                    \"upload_date_time\": upload_date_time,\n",
        "                    \"video_duration\": video_duration,\n",
        "                    \"view_count\": view_count,\n",
        "                    \"like_count\": like_count,\n",
        "                    \"comment_count\": comment_count},\n",
        "                    ignore_index=True\n",
        "                )\n",
        "\n",
        "    return df"
      ],
      "metadata": {
        "id": "Dv2UKolW5ryO"
      },
      "execution_count": 9,
      "outputs": []
    },
    {
      "cell_type": "code",
      "source": [
        "def get_videos_from_channel_list(df, channel_list, publishedAfter=\"\", publishedBefore=\"\"):\n",
        "    \"\"\" Get all videos from a channel list, published after some date and before\n",
        "    some date, and store it into a pandas df.\n",
        "\n",
        "    Features extracted from each video depend on get_videos_from_channel.\n",
        "\n",
        "    Returns a pandas df.\n",
        "\n",
        "    Utilize 100 quota per page result per channel and 1 quota per video.\n",
        "    \"\"\"\n",
        "\n",
        "    if publishedBefore==\"\":\n",
        "        d = datetime.datetime.now()\n",
        "        publishedBefore = d.strftime('%Y-%m-%dT%H:%M:%SZ')\n",
        "\n",
        "    df_tmp = df\n",
        "\n",
        "    for channel_id in channel_list:\n",
        "        try:\n",
        "            print(f\"Getting videos from channel {channel_id}.\\n\")\n",
        "            df_tmp = get_videos_from_channel(df, channel_id, publishedAfter, publishedBefore)\n",
        "            df = df_tmp # doesn't throw away previous results in the case of a bad request\n",
        "        except KeyError as e:\n",
        "            print(f\"Error: key not identified on response: {e}.\")\n",
        "        except Exception as e:\n",
        "            print(f\"Error: {e}.\")\n",
        "        \n",
        "    # Sometimes the Youtube API returns duplicate data, so we need to remove it -> https://stackoverflow.com/questions/72438701/youtube-data-api-search-returning-repeating-items\n",
        "    df = df.drop_duplicates(subset=['video_id'])\n",
        "    \n",
        "    return df"
      ],
      "metadata": {
        "id": "y3j5Jvqrcqxo"
      },
      "execution_count": 10,
      "outputs": []
    },
    {
      "cell_type": "markdown",
      "source": [
        "## 1.3) Methods to extract data from channels"
      ],
      "metadata": {
        "id": "RtT83Eq01z8Y"
      }
    },
    {
      "cell_type": "code",
      "source": [
        "def get_channel_details(df, channel_id):\n",
        "    \"\"\" Get channel details from a channel id.\n",
        "\n",
        "    Returns the channel title, country, total view count, subscriber count, \n",
        "    total number of videos and topic categories (a list of Wikipedia pages).\n",
        "    \n",
        "    Utilize 1 quota.\n",
        "    \"\"\"\n",
        "    \n",
        "    url = base_url+f\"/channels?key={API_KEY}&id={channel_id}&part=snippet,statistics,topicDetails\"\n",
        "    response = requests.get(url).json()\n",
        "    \n",
        "    channel_title = response['items'][0]['snippet']['title']\n",
        "    channel_country = response['items'][0]['snippet']['country']\n",
        "    total_view_count = response['items'][0]['statistics']['viewCount']\n",
        "    subscriber_count = response['items'][0]['statistics']['subscriberCount']\n",
        "    video_count = response['items'][0]['statistics']['videoCount']\n",
        "    topic_categories = response['items'][0]['topicDetails']['topicCategories']\n",
        "\n",
        "    return channel_title, channel_country, total_view_count, subscriber_count, video_count, topic_categories"
      ],
      "metadata": {
        "id": "KCaNk1HmwE1h"
      },
      "execution_count": 11,
      "outputs": []
    },
    {
      "cell_type": "code",
      "source": [
        "def get_channels_from_channel_list(df, channel_list):\n",
        "    \"\"\" Get all channels from a channel list store it into a pandas df.\n",
        "\n",
        "    Returns a pandas df with channel id, channel title, channel country,\n",
        "    total view count, subscriber count, video count and topic categories\n",
        "    (a list of Wikipedia pages).\n",
        "\n",
        "    Utilize 1 quota per channel.\n",
        "    \"\"\"\n",
        "\n",
        "    for channel_id in channel_list:\n",
        "        try:\n",
        "            print(f\"Getting channel details from channel {channel_id}.\\n\")\n",
        "\n",
        "            channel_title, channel_country, total_view_count, \\\n",
        "             subscriber_count, video_count, \\\n",
        "             topic_categories = get_channel_details(df, channel_id)\n",
        "            \n",
        "            # Save into pandas data frame\n",
        "            df = df.append(\n",
        "                {\"channel_id\": channel_id,\n",
        "                \"channel_title\": channel_title,\n",
        "                \"channel_country\": channel_country,\n",
        "                \"total_view_count\": total_view_count,\n",
        "                \"subscriber_count\": subscriber_count,\n",
        "                \"video_count\": video_count,\n",
        "                \"topic_categories\": topic_categories},\n",
        "                ignore_index=True\n",
        "            )\n",
        "        except KeyError as e:\n",
        "            print(f\"Error: key not identified on response: {e}.\")\n",
        "        except Exception as e:\n",
        "            print(f\"Error: {e}.\")\n",
        "            \n",
        "    return df"
      ],
      "metadata": {
        "id": "MGGDSCLV14LB"
      },
      "execution_count": 12,
      "outputs": []
    },
    {
      "cell_type": "code",
      "source": [
        "# url = base_url+f\"/search?key={API_KEY}&channelId=UCJLtfES4K2aYCLFz-i5teFA&part=snippet,id&order=date&maxResults=10000\"\n",
        "# response = requests.get(url).json()\n",
        "# response\n",
        "\n",
        "# url_statistics = base_url+f\"/videos?id={response['items'][0]['id']['videoId']}&part=snippet,contentDetails,topicDetails,statistics&key={API_KEY}\"\n",
        "# response_statistics = requests.get(url_statistics).json()\n",
        "# response_statistics\n",
        "\n",
        "#url = base_url+f\"/channels?key={API_KEY}&id=UCYO_jab_esuFRV4b17AJtAw&part=snippet,statistics,topicDetails\"\n",
        "# response = requests.get(url).json()\n",
        "# response"
      ],
      "metadata": {
        "id": "lZXLbnzkTWyN"
      },
      "execution_count": 13,
      "outputs": []
    },
    {
      "cell_type": "markdown",
      "source": [
        "## 1.4) Main\n",
        "Here we set the list of channels that we want to analyze, the start and end date, and then start the extraction process."
      ],
      "metadata": {
        "id": "mG-SJ8nncr6V"
      }
    },
    {
      "cell_type": "code",
      "source": [
        "base_url = \"https://www.googleapis.com/youtube/v3\""
      ],
      "metadata": {
        "id": "Gba7YWHH5u2X"
      },
      "execution_count": 14,
      "outputs": []
    },
    {
      "cell_type": "code",
      "source": [
        "CHANNEL_ID0 = \"UCHnyfMqiRRG1u-2MsSQLbXA\" # Veritasium\n",
        "CHANNEL_ID1 = \"UCYO_jab_esuFRV4b17AJtAw\" # 3Blue1Brown\n",
        "CHANNEL_ID2 = \"UCJLtfES4K2aYCLFz-i5teFA\" # Tá Gravando\n",
        "CHANNEL_ID3 = \"UCQxWq7wL4HY40mqbr3f0Z2A\" # UMotivo\n",
        "CHANNEL_ID4 = \"UCBFLqK7PAP9DQ3JpIrWFI7w\" # Pipocando\n",
        "CHANNEL_ID5 = \"UCK4AOYSWvdrgtKDEDDB6mMA\" # São Paulo nas Alturas\n",
        "CHANNEL_ID6 = \"UC6107grRI4m0o2-emgoDnAA\" # SmarterEveryDay\n",
        "CHANNEL_ID7 = \"UCm2CE2YfpmobBmF8ARLPzAw\" # Caue Moura\n",
        "CHANNEL_ID8 = \"UCW8Ews7tdKKkBT6GdtQaXvQ\" # StrataScratch\n",
        "CHANNEL_ID9 = \"UCYJv-TfmSU0xUuKI7N0zkJw\" # Carla Quem Disse\n",
        "\n",
        "channel_list = [CHANNEL_ID0, CHANNEL_ID1, CHANNEL_ID2, CHANNEL_ID3, CHANNEL_ID4,\n",
        "                CHANNEL_ID5, CHANNEL_ID6, CHANNEL_ID7, CHANNEL_ID8, CHANNEL_ID9]\n",
        "\n",
        "#channel_single_test = [CHANNEL_ID5]\n",
        "#channel_list = channel_single_test\n",
        "\n",
        "#last date: 2018-11-01\n",
        "publishedAfter = \"2022-11-16T00:00:00Z\"\n",
        "publishedBefore = \"2022-11-29T00:00:00Z\""
      ],
      "metadata": {
        "id": "nouu7r-vS30g"
      },
      "execution_count": 15,
      "outputs": []
    },
    {
      "cell_type": "code",
      "source": [
        "df_videos_temp = pd.DataFrame(columns=[\"video_id\",\"channel_id\",\"video_title\",\"thumbnail_url\",\"upload_date_time\",\"video_duration\",\"view_count\",\"like_count\",\"comment_count\"])\n",
        "\n",
        "df_videos_temp = get_videos_from_channel_list(df_videos_temp, channel_list, publishedAfter, publishedBefore)\n",
        "df_videos_api = df_videos_temp"
      ],
      "metadata": {
        "id": "HpziKDue1tjR",
        "colab": {
          "base_uri": "https://localhost:8080/"
        },
        "outputId": "ca7d730e-7873-48ca-dd48-40d7c90f66c0"
      },
      "execution_count": 16,
      "outputs": [
        {
          "output_type": "stream",
          "name": "stdout",
          "text": [
            "Getting videos from channel UCHnyfMqiRRG1u-2MsSQLbXA.\n",
            "\n",
            "Getting videos from channel UCYO_jab_esuFRV4b17AJtAw.\n",
            "\n",
            "Getting videos from channel UCJLtfES4K2aYCLFz-i5teFA.\n",
            "\n",
            "Getting videos from channel UCQxWq7wL4HY40mqbr3f0Z2A.\n",
            "\n",
            "Getting videos from channel UCBFLqK7PAP9DQ3JpIrWFI7w.\n",
            "\n",
            "Getting videos from channel UCK4AOYSWvdrgtKDEDDB6mMA.\n",
            "\n",
            "Getting videos from channel UC6107grRI4m0o2-emgoDnAA.\n",
            "\n",
            "Getting videos from channel UCm2CE2YfpmobBmF8ARLPzAw.\n",
            "\n",
            "Getting videos from channel UCW8Ews7tdKKkBT6GdtQaXvQ.\n",
            "\n",
            "Getting videos from channel UCYJv-TfmSU0xUuKI7N0zkJw.\n",
            "\n"
          ]
        }
      ]
    },
    {
      "cell_type": "code",
      "source": [
        "df_videos_api.head()"
      ],
      "metadata": {
        "colab": {
          "base_uri": "https://localhost:8080/",
          "height": 206
        },
        "id": "rnsV0CWGHvlI",
        "outputId": "1b0287a3-d972-41b2-89b3-b10d553f1bfc"
      },
      "execution_count": 17,
      "outputs": [
        {
          "output_type": "execute_result",
          "data": {
            "text/plain": [
              "      video_id                channel_id  \\\n",
              "0  QiVgJPVKRGI  UCHnyfMqiRRG1u-2MsSQLbXA   \n",
              "1  esQyYGezS7c  UCHnyfMqiRRG1u-2MsSQLbXA   \n",
              "2  KuXjwB4LzSA  UCYO_jab_esuFRV4b17AJtAw   \n",
              "3  55VfDUU1pyg  UCJLtfES4K2aYCLFz-i5teFA   \n",
              "4  bo53RcrZmc4  UCQxWq7wL4HY40mqbr3f0Z2A   \n",
              "\n",
              "                                         video_title  \\\n",
              "0                  Fire conducts electricity #shorts   \n",
              "1  The world depends on a strange collection of i...   \n",
              "2                         But what is a convolution?   \n",
              "3  POSSO COLOCAR MINHA LINGUA NA SUA BOCA? : MAND...   \n",
              "4  🐍 GRIXIS CROBA! O novo MID-RANGE do STANDARD! ...   \n",
              "\n",
              "                                      thumbnail_url      upload_date_time  \\\n",
              "0  https://i.ytimg.com/vi/QiVgJPVKRGI/hqdefault.jpg  2022-11-23T20:12:06Z   \n",
              "1  https://i.ytimg.com/vi/esQyYGezS7c/hqdefault.jpg  2022-11-19T14:00:24Z   \n",
              "2  https://i.ytimg.com/vi/KuXjwB4LzSA/hqdefault.jpg  2022-11-18T16:00:39Z   \n",
              "3  https://i.ytimg.com/vi/55VfDUU1pyg/hqdefault.jpg  2022-11-27T23:04:02Z   \n",
              "4  https://i.ytimg.com/vi/bo53RcrZmc4/hqdefault.jpg  2022-11-28T17:56:10Z   \n",
              "\n",
              "  video_duration view_count like_count comment_count  \n",
              "0          PT46S     485727      41891           466  \n",
              "1       PT18M32S    5692797     156666          9516  \n",
              "2        PT23M1S     833605      46089          1846  \n",
              "3       PT13M56S     327198      26979           934  \n",
              "4        PT1H35S       8038        717            44  "
            ],
            "text/html": [
              "\n",
              "  <div id=\"df-c26841c5-0d01-46d4-8101-a6ef5e5ce67d\">\n",
              "    <div class=\"colab-df-container\">\n",
              "      <div>\n",
              "<style scoped>\n",
              "    .dataframe tbody tr th:only-of-type {\n",
              "        vertical-align: middle;\n",
              "    }\n",
              "\n",
              "    .dataframe tbody tr th {\n",
              "        vertical-align: top;\n",
              "    }\n",
              "\n",
              "    .dataframe thead th {\n",
              "        text-align: right;\n",
              "    }\n",
              "</style>\n",
              "<table border=\"1\" class=\"dataframe\">\n",
              "  <thead>\n",
              "    <tr style=\"text-align: right;\">\n",
              "      <th></th>\n",
              "      <th>video_id</th>\n",
              "      <th>channel_id</th>\n",
              "      <th>video_title</th>\n",
              "      <th>thumbnail_url</th>\n",
              "      <th>upload_date_time</th>\n",
              "      <th>video_duration</th>\n",
              "      <th>view_count</th>\n",
              "      <th>like_count</th>\n",
              "      <th>comment_count</th>\n",
              "    </tr>\n",
              "  </thead>\n",
              "  <tbody>\n",
              "    <tr>\n",
              "      <th>0</th>\n",
              "      <td>QiVgJPVKRGI</td>\n",
              "      <td>UCHnyfMqiRRG1u-2MsSQLbXA</td>\n",
              "      <td>Fire conducts electricity #shorts</td>\n",
              "      <td>https://i.ytimg.com/vi/QiVgJPVKRGI/hqdefault.jpg</td>\n",
              "      <td>2022-11-23T20:12:06Z</td>\n",
              "      <td>PT46S</td>\n",
              "      <td>485727</td>\n",
              "      <td>41891</td>\n",
              "      <td>466</td>\n",
              "    </tr>\n",
              "    <tr>\n",
              "      <th>1</th>\n",
              "      <td>esQyYGezS7c</td>\n",
              "      <td>UCHnyfMqiRRG1u-2MsSQLbXA</td>\n",
              "      <td>The world depends on a strange collection of i...</td>\n",
              "      <td>https://i.ytimg.com/vi/esQyYGezS7c/hqdefault.jpg</td>\n",
              "      <td>2022-11-19T14:00:24Z</td>\n",
              "      <td>PT18M32S</td>\n",
              "      <td>5692797</td>\n",
              "      <td>156666</td>\n",
              "      <td>9516</td>\n",
              "    </tr>\n",
              "    <tr>\n",
              "      <th>2</th>\n",
              "      <td>KuXjwB4LzSA</td>\n",
              "      <td>UCYO_jab_esuFRV4b17AJtAw</td>\n",
              "      <td>But what is a convolution?</td>\n",
              "      <td>https://i.ytimg.com/vi/KuXjwB4LzSA/hqdefault.jpg</td>\n",
              "      <td>2022-11-18T16:00:39Z</td>\n",
              "      <td>PT23M1S</td>\n",
              "      <td>833605</td>\n",
              "      <td>46089</td>\n",
              "      <td>1846</td>\n",
              "    </tr>\n",
              "    <tr>\n",
              "      <th>3</th>\n",
              "      <td>55VfDUU1pyg</td>\n",
              "      <td>UCJLtfES4K2aYCLFz-i5teFA</td>\n",
              "      <td>POSSO COLOCAR MINHA LINGUA NA SUA BOCA? : MAND...</td>\n",
              "      <td>https://i.ytimg.com/vi/55VfDUU1pyg/hqdefault.jpg</td>\n",
              "      <td>2022-11-27T23:04:02Z</td>\n",
              "      <td>PT13M56S</td>\n",
              "      <td>327198</td>\n",
              "      <td>26979</td>\n",
              "      <td>934</td>\n",
              "    </tr>\n",
              "    <tr>\n",
              "      <th>4</th>\n",
              "      <td>bo53RcrZmc4</td>\n",
              "      <td>UCQxWq7wL4HY40mqbr3f0Z2A</td>\n",
              "      <td>🐍 GRIXIS CROBA! O novo MID-RANGE do STANDARD! ...</td>\n",
              "      <td>https://i.ytimg.com/vi/bo53RcrZmc4/hqdefault.jpg</td>\n",
              "      <td>2022-11-28T17:56:10Z</td>\n",
              "      <td>PT1H35S</td>\n",
              "      <td>8038</td>\n",
              "      <td>717</td>\n",
              "      <td>44</td>\n",
              "    </tr>\n",
              "  </tbody>\n",
              "</table>\n",
              "</div>\n",
              "      <button class=\"colab-df-convert\" onclick=\"convertToInteractive('df-c26841c5-0d01-46d4-8101-a6ef5e5ce67d')\"\n",
              "              title=\"Convert this dataframe to an interactive table.\"\n",
              "              style=\"display:none;\">\n",
              "        \n",
              "  <svg xmlns=\"http://www.w3.org/2000/svg\" height=\"24px\"viewBox=\"0 0 24 24\"\n",
              "       width=\"24px\">\n",
              "    <path d=\"M0 0h24v24H0V0z\" fill=\"none\"/>\n",
              "    <path d=\"M18.56 5.44l.94 2.06.94-2.06 2.06-.94-2.06-.94-.94-2.06-.94 2.06-2.06.94zm-11 1L8.5 8.5l.94-2.06 2.06-.94-2.06-.94L8.5 2.5l-.94 2.06-2.06.94zm10 10l.94 2.06.94-2.06 2.06-.94-2.06-.94-.94-2.06-.94 2.06-2.06.94z\"/><path d=\"M17.41 7.96l-1.37-1.37c-.4-.4-.92-.59-1.43-.59-.52 0-1.04.2-1.43.59L10.3 9.45l-7.72 7.72c-.78.78-.78 2.05 0 2.83L4 21.41c.39.39.9.59 1.41.59.51 0 1.02-.2 1.41-.59l7.78-7.78 2.81-2.81c.8-.78.8-2.07 0-2.86zM5.41 20L4 18.59l7.72-7.72 1.47 1.35L5.41 20z\"/>\n",
              "  </svg>\n",
              "      </button>\n",
              "      \n",
              "  <style>\n",
              "    .colab-df-container {\n",
              "      display:flex;\n",
              "      flex-wrap:wrap;\n",
              "      gap: 12px;\n",
              "    }\n",
              "\n",
              "    .colab-df-convert {\n",
              "      background-color: #E8F0FE;\n",
              "      border: none;\n",
              "      border-radius: 50%;\n",
              "      cursor: pointer;\n",
              "      display: none;\n",
              "      fill: #1967D2;\n",
              "      height: 32px;\n",
              "      padding: 0 0 0 0;\n",
              "      width: 32px;\n",
              "    }\n",
              "\n",
              "    .colab-df-convert:hover {\n",
              "      background-color: #E2EBFA;\n",
              "      box-shadow: 0px 1px 2px rgba(60, 64, 67, 0.3), 0px 1px 3px 1px rgba(60, 64, 67, 0.15);\n",
              "      fill: #174EA6;\n",
              "    }\n",
              "\n",
              "    [theme=dark] .colab-df-convert {\n",
              "      background-color: #3B4455;\n",
              "      fill: #D2E3FC;\n",
              "    }\n",
              "\n",
              "    [theme=dark] .colab-df-convert:hover {\n",
              "      background-color: #434B5C;\n",
              "      box-shadow: 0px 1px 3px 1px rgba(0, 0, 0, 0.15);\n",
              "      filter: drop-shadow(0px 1px 2px rgba(0, 0, 0, 0.3));\n",
              "      fill: #FFFFFF;\n",
              "    }\n",
              "  </style>\n",
              "\n",
              "      <script>\n",
              "        const buttonEl =\n",
              "          document.querySelector('#df-c26841c5-0d01-46d4-8101-a6ef5e5ce67d button.colab-df-convert');\n",
              "        buttonEl.style.display =\n",
              "          google.colab.kernel.accessAllowed ? 'block' : 'none';\n",
              "\n",
              "        async function convertToInteractive(key) {\n",
              "          const element = document.querySelector('#df-c26841c5-0d01-46d4-8101-a6ef5e5ce67d');\n",
              "          const dataTable =\n",
              "            await google.colab.kernel.invokeFunction('convertToInteractive',\n",
              "                                                     [key], {});\n",
              "          if (!dataTable) return;\n",
              "\n",
              "          const docLinkHtml = 'Like what you see? Visit the ' +\n",
              "            '<a target=\"_blank\" href=https://colab.research.google.com/notebooks/data_table.ipynb>data table notebook</a>'\n",
              "            + ' to learn more about interactive tables.';\n",
              "          element.innerHTML = '';\n",
              "          dataTable['output_type'] = 'display_data';\n",
              "          await google.colab.output.renderOutput(dataTable, element);\n",
              "          const docLink = document.createElement('div');\n",
              "          docLink.innerHTML = docLinkHtml;\n",
              "          element.appendChild(docLink);\n",
              "        }\n",
              "      </script>\n",
              "    </div>\n",
              "  </div>\n",
              "  "
            ]
          },
          "metadata": {},
          "execution_count": 17
        }
      ]
    },
    {
      "cell_type": "code",
      "source": [
        "df_channels_temp = pd.DataFrame(columns=[\"channel_id\", \"channel_title\", \"channel_country\", \"total_view_count\", \"subscriber_count\", \"video_count\", \"topic_categories\"])\n",
        "df_channels_temp = get_channels_from_channel_list(df_channels_temp, channel_list)\n",
        "df_channels_api = df_channels_temp"
      ],
      "metadata": {
        "colab": {
          "base_uri": "https://localhost:8080/"
        },
        "id": "sKxi0BaRvh6c",
        "outputId": "eeaa0d30-3482-47ec-83eb-948df7c7ecff"
      },
      "execution_count": 18,
      "outputs": [
        {
          "output_type": "stream",
          "name": "stdout",
          "text": [
            "Getting channel details from channel UCHnyfMqiRRG1u-2MsSQLbXA.\n",
            "\n",
            "Getting channel details from channel UCYO_jab_esuFRV4b17AJtAw.\n",
            "\n",
            "Getting channel details from channel UCJLtfES4K2aYCLFz-i5teFA.\n",
            "\n",
            "Getting channel details from channel UCQxWq7wL4HY40mqbr3f0Z2A.\n",
            "\n",
            "Getting channel details from channel UCBFLqK7PAP9DQ3JpIrWFI7w.\n",
            "\n",
            "Getting channel details from channel UCK4AOYSWvdrgtKDEDDB6mMA.\n",
            "\n",
            "Getting channel details from channel UC6107grRI4m0o2-emgoDnAA.\n",
            "\n",
            "Getting channel details from channel UCm2CE2YfpmobBmF8ARLPzAw.\n",
            "\n",
            "Getting channel details from channel UCW8Ews7tdKKkBT6GdtQaXvQ.\n",
            "\n",
            "Getting channel details from channel UCYJv-TfmSU0xUuKI7N0zkJw.\n",
            "\n"
          ]
        }
      ]
    },
    {
      "cell_type": "code",
      "source": [
        "df_channels_api.head()"
      ],
      "metadata": {
        "colab": {
          "base_uri": "https://localhost:8080/",
          "height": 206
        },
        "id": "tiK3HWPN1o7H",
        "outputId": "cc06ddf5-626d-4661-dc51-2e298d0fbc1a"
      },
      "execution_count": 19,
      "outputs": [
        {
          "output_type": "execute_result",
          "data": {
            "text/plain": [
              "                 channel_id channel_title channel_country total_view_count  \\\n",
              "0  UCHnyfMqiRRG1u-2MsSQLbXA    Veritasium              US       1891837444   \n",
              "1  UCYO_jab_esuFRV4b17AJtAw   3Blue1Brown              US        311356579   \n",
              "2  UCJLtfES4K2aYCLFz-i5teFA   Tá Gravando              BR        257307314   \n",
              "3  UCQxWq7wL4HY40mqbr3f0Z2A       UMotivo              BR         27752172   \n",
              "4  UCBFLqK7PAP9DQ3JpIrWFI7w     Pipocando              BR        689510386   \n",
              "\n",
              "  subscriber_count video_count  \\\n",
              "0         13100000         343   \n",
              "1          4840000         127   \n",
              "2          1600000         321   \n",
              "3           103000        2528   \n",
              "4          4320000        1343   \n",
              "\n",
              "                                    topic_categories  \n",
              "0  [https://en.wikipedia.org/wiki/Knowledge, http...  \n",
              "1          [https://en.wikipedia.org/wiki/Knowledge]  \n",
              "2  [https://en.wikipedia.org/wiki/Entertainment, ...  \n",
              "3  [https://en.wikipedia.org/wiki/Strategy_video_...  \n",
              "4  [https://en.wikipedia.org/wiki/Entertainment, ...  "
            ],
            "text/html": [
              "\n",
              "  <div id=\"df-2e95e228-51a5-4af6-a19d-b78812c23442\">\n",
              "    <div class=\"colab-df-container\">\n",
              "      <div>\n",
              "<style scoped>\n",
              "    .dataframe tbody tr th:only-of-type {\n",
              "        vertical-align: middle;\n",
              "    }\n",
              "\n",
              "    .dataframe tbody tr th {\n",
              "        vertical-align: top;\n",
              "    }\n",
              "\n",
              "    .dataframe thead th {\n",
              "        text-align: right;\n",
              "    }\n",
              "</style>\n",
              "<table border=\"1\" class=\"dataframe\">\n",
              "  <thead>\n",
              "    <tr style=\"text-align: right;\">\n",
              "      <th></th>\n",
              "      <th>channel_id</th>\n",
              "      <th>channel_title</th>\n",
              "      <th>channel_country</th>\n",
              "      <th>total_view_count</th>\n",
              "      <th>subscriber_count</th>\n",
              "      <th>video_count</th>\n",
              "      <th>topic_categories</th>\n",
              "    </tr>\n",
              "  </thead>\n",
              "  <tbody>\n",
              "    <tr>\n",
              "      <th>0</th>\n",
              "      <td>UCHnyfMqiRRG1u-2MsSQLbXA</td>\n",
              "      <td>Veritasium</td>\n",
              "      <td>US</td>\n",
              "      <td>1891837444</td>\n",
              "      <td>13100000</td>\n",
              "      <td>343</td>\n",
              "      <td>[https://en.wikipedia.org/wiki/Knowledge, http...</td>\n",
              "    </tr>\n",
              "    <tr>\n",
              "      <th>1</th>\n",
              "      <td>UCYO_jab_esuFRV4b17AJtAw</td>\n",
              "      <td>3Blue1Brown</td>\n",
              "      <td>US</td>\n",
              "      <td>311356579</td>\n",
              "      <td>4840000</td>\n",
              "      <td>127</td>\n",
              "      <td>[https://en.wikipedia.org/wiki/Knowledge]</td>\n",
              "    </tr>\n",
              "    <tr>\n",
              "      <th>2</th>\n",
              "      <td>UCJLtfES4K2aYCLFz-i5teFA</td>\n",
              "      <td>Tá Gravando</td>\n",
              "      <td>BR</td>\n",
              "      <td>257307314</td>\n",
              "      <td>1600000</td>\n",
              "      <td>321</td>\n",
              "      <td>[https://en.wikipedia.org/wiki/Entertainment, ...</td>\n",
              "    </tr>\n",
              "    <tr>\n",
              "      <th>3</th>\n",
              "      <td>UCQxWq7wL4HY40mqbr3f0Z2A</td>\n",
              "      <td>UMotivo</td>\n",
              "      <td>BR</td>\n",
              "      <td>27752172</td>\n",
              "      <td>103000</td>\n",
              "      <td>2528</td>\n",
              "      <td>[https://en.wikipedia.org/wiki/Strategy_video_...</td>\n",
              "    </tr>\n",
              "    <tr>\n",
              "      <th>4</th>\n",
              "      <td>UCBFLqK7PAP9DQ3JpIrWFI7w</td>\n",
              "      <td>Pipocando</td>\n",
              "      <td>BR</td>\n",
              "      <td>689510386</td>\n",
              "      <td>4320000</td>\n",
              "      <td>1343</td>\n",
              "      <td>[https://en.wikipedia.org/wiki/Entertainment, ...</td>\n",
              "    </tr>\n",
              "  </tbody>\n",
              "</table>\n",
              "</div>\n",
              "      <button class=\"colab-df-convert\" onclick=\"convertToInteractive('df-2e95e228-51a5-4af6-a19d-b78812c23442')\"\n",
              "              title=\"Convert this dataframe to an interactive table.\"\n",
              "              style=\"display:none;\">\n",
              "        \n",
              "  <svg xmlns=\"http://www.w3.org/2000/svg\" height=\"24px\"viewBox=\"0 0 24 24\"\n",
              "       width=\"24px\">\n",
              "    <path d=\"M0 0h24v24H0V0z\" fill=\"none\"/>\n",
              "    <path d=\"M18.56 5.44l.94 2.06.94-2.06 2.06-.94-2.06-.94-.94-2.06-.94 2.06-2.06.94zm-11 1L8.5 8.5l.94-2.06 2.06-.94-2.06-.94L8.5 2.5l-.94 2.06-2.06.94zm10 10l.94 2.06.94-2.06 2.06-.94-2.06-.94-.94-2.06-.94 2.06-2.06.94z\"/><path d=\"M17.41 7.96l-1.37-1.37c-.4-.4-.92-.59-1.43-.59-.52 0-1.04.2-1.43.59L10.3 9.45l-7.72 7.72c-.78.78-.78 2.05 0 2.83L4 21.41c.39.39.9.59 1.41.59.51 0 1.02-.2 1.41-.59l7.78-7.78 2.81-2.81c.8-.78.8-2.07 0-2.86zM5.41 20L4 18.59l7.72-7.72 1.47 1.35L5.41 20z\"/>\n",
              "  </svg>\n",
              "      </button>\n",
              "      \n",
              "  <style>\n",
              "    .colab-df-container {\n",
              "      display:flex;\n",
              "      flex-wrap:wrap;\n",
              "      gap: 12px;\n",
              "    }\n",
              "\n",
              "    .colab-df-convert {\n",
              "      background-color: #E8F0FE;\n",
              "      border: none;\n",
              "      border-radius: 50%;\n",
              "      cursor: pointer;\n",
              "      display: none;\n",
              "      fill: #1967D2;\n",
              "      height: 32px;\n",
              "      padding: 0 0 0 0;\n",
              "      width: 32px;\n",
              "    }\n",
              "\n",
              "    .colab-df-convert:hover {\n",
              "      background-color: #E2EBFA;\n",
              "      box-shadow: 0px 1px 2px rgba(60, 64, 67, 0.3), 0px 1px 3px 1px rgba(60, 64, 67, 0.15);\n",
              "      fill: #174EA6;\n",
              "    }\n",
              "\n",
              "    [theme=dark] .colab-df-convert {\n",
              "      background-color: #3B4455;\n",
              "      fill: #D2E3FC;\n",
              "    }\n",
              "\n",
              "    [theme=dark] .colab-df-convert:hover {\n",
              "      background-color: #434B5C;\n",
              "      box-shadow: 0px 1px 3px 1px rgba(0, 0, 0, 0.15);\n",
              "      filter: drop-shadow(0px 1px 2px rgba(0, 0, 0, 0.3));\n",
              "      fill: #FFFFFF;\n",
              "    }\n",
              "  </style>\n",
              "\n",
              "      <script>\n",
              "        const buttonEl =\n",
              "          document.querySelector('#df-2e95e228-51a5-4af6-a19d-b78812c23442 button.colab-df-convert');\n",
              "        buttonEl.style.display =\n",
              "          google.colab.kernel.accessAllowed ? 'block' : 'none';\n",
              "\n",
              "        async function convertToInteractive(key) {\n",
              "          const element = document.querySelector('#df-2e95e228-51a5-4af6-a19d-b78812c23442');\n",
              "          const dataTable =\n",
              "            await google.colab.kernel.invokeFunction('convertToInteractive',\n",
              "                                                     [key], {});\n",
              "          if (!dataTable) return;\n",
              "\n",
              "          const docLinkHtml = 'Like what you see? Visit the ' +\n",
              "            '<a target=\"_blank\" href=https://colab.research.google.com/notebooks/data_table.ipynb>data table notebook</a>'\n",
              "            + ' to learn more about interactive tables.';\n",
              "          element.innerHTML = '';\n",
              "          dataTable['output_type'] = 'display_data';\n",
              "          await google.colab.output.renderOutput(dataTable, element);\n",
              "          const docLink = document.createElement('div');\n",
              "          docLink.innerHTML = docLinkHtml;\n",
              "          element.appendChild(docLink);\n",
              "        }\n",
              "      </script>\n",
              "    </div>\n",
              "  </div>\n",
              "  "
            ]
          },
          "metadata": {},
          "execution_count": 19
        }
      ]
    },
    {
      "cell_type": "markdown",
      "source": [
        "# **2) TRANSFORM**"
      ],
      "metadata": {
        "id": "3HmisldzGzZm"
      }
    },
    {
      "cell_type": "markdown",
      "source": [
        "## 2.1) Get number of words, questions marks, exclamation marks and ellipsis in a title\n",
        "For this we will use regular expressions (regex)."
      ],
      "metadata": {
        "id": "2XZVBqJfIB7Y"
      }
    },
    {
      "cell_type": "code",
      "source": [
        "df_videos_api['n_words_title'] = df_videos_api['video_title'].apply(lambda x: len(re.findall(r'\\w+', x)))\n",
        "df_videos_api['n_question_marks_title'] = df_videos_api['video_title'].apply(lambda x: len(re.findall(r'\\?+', x)))\n",
        "df_videos_api['n_exclamation_marks_title'] = df_videos_api['video_title'].apply(lambda x: len(re.findall(r'\\!+', x)))\n",
        "df_videos_api['n_ellipsis_title'] = df_videos_api['video_title'].apply(lambda x: len(re.findall(r'\\.{3,}', x)))"
      ],
      "metadata": {
        "id": "w9ojA7KOHBUG"
      },
      "execution_count": 20,
      "outputs": []
    },
    {
      "cell_type": "code",
      "source": [
        "df_videos_api[['video_title','n_words_title','n_question_marks_title','n_exclamation_marks_title','n_ellipsis_title']].head()"
      ],
      "metadata": {
        "colab": {
          "base_uri": "https://localhost:8080/",
          "height": 206
        },
        "id": "eIVePkG4H68e",
        "outputId": "750bbefd-b839-4cd8-9c30-2f8b4c510688"
      },
      "execution_count": 21,
      "outputs": [
        {
          "output_type": "execute_result",
          "data": {
            "text/plain": [
              "                                         video_title  n_words_title  \\\n",
              "0                  Fire conducts electricity #shorts              4   \n",
              "1  The world depends on a strange collection of i...             13   \n",
              "2                         But what is a convolution?              5   \n",
              "3  POSSO COLOCAR MINHA LINGUA NA SUA BOCA? : MAND...             11   \n",
              "4  🐍 GRIXIS CROBA! O novo MID-RANGE do STANDARD! ...             10   \n",
              "\n",
              "   n_question_marks_title  n_exclamation_marks_title  n_ellipsis_title  \n",
              "0                       0                          0                 0  \n",
              "1                       0                          0                 0  \n",
              "2                       1                          0                 0  \n",
              "3                       1                          0                 0  \n",
              "4                       0                          2                 0  "
            ],
            "text/html": [
              "\n",
              "  <div id=\"df-050bb94d-fd94-4c94-987d-49936de7ff2b\">\n",
              "    <div class=\"colab-df-container\">\n",
              "      <div>\n",
              "<style scoped>\n",
              "    .dataframe tbody tr th:only-of-type {\n",
              "        vertical-align: middle;\n",
              "    }\n",
              "\n",
              "    .dataframe tbody tr th {\n",
              "        vertical-align: top;\n",
              "    }\n",
              "\n",
              "    .dataframe thead th {\n",
              "        text-align: right;\n",
              "    }\n",
              "</style>\n",
              "<table border=\"1\" class=\"dataframe\">\n",
              "  <thead>\n",
              "    <tr style=\"text-align: right;\">\n",
              "      <th></th>\n",
              "      <th>video_title</th>\n",
              "      <th>n_words_title</th>\n",
              "      <th>n_question_marks_title</th>\n",
              "      <th>n_exclamation_marks_title</th>\n",
              "      <th>n_ellipsis_title</th>\n",
              "    </tr>\n",
              "  </thead>\n",
              "  <tbody>\n",
              "    <tr>\n",
              "      <th>0</th>\n",
              "      <td>Fire conducts electricity #shorts</td>\n",
              "      <td>4</td>\n",
              "      <td>0</td>\n",
              "      <td>0</td>\n",
              "      <td>0</td>\n",
              "    </tr>\n",
              "    <tr>\n",
              "      <th>1</th>\n",
              "      <td>The world depends on a strange collection of i...</td>\n",
              "      <td>13</td>\n",
              "      <td>0</td>\n",
              "      <td>0</td>\n",
              "      <td>0</td>\n",
              "    </tr>\n",
              "    <tr>\n",
              "      <th>2</th>\n",
              "      <td>But what is a convolution?</td>\n",
              "      <td>5</td>\n",
              "      <td>1</td>\n",
              "      <td>0</td>\n",
              "      <td>0</td>\n",
              "    </tr>\n",
              "    <tr>\n",
              "      <th>3</th>\n",
              "      <td>POSSO COLOCAR MINHA LINGUA NA SUA BOCA? : MAND...</td>\n",
              "      <td>11</td>\n",
              "      <td>1</td>\n",
              "      <td>0</td>\n",
              "      <td>0</td>\n",
              "    </tr>\n",
              "    <tr>\n",
              "      <th>4</th>\n",
              "      <td>🐍 GRIXIS CROBA! O novo MID-RANGE do STANDARD! ...</td>\n",
              "      <td>10</td>\n",
              "      <td>0</td>\n",
              "      <td>2</td>\n",
              "      <td>0</td>\n",
              "    </tr>\n",
              "  </tbody>\n",
              "</table>\n",
              "</div>\n",
              "      <button class=\"colab-df-convert\" onclick=\"convertToInteractive('df-050bb94d-fd94-4c94-987d-49936de7ff2b')\"\n",
              "              title=\"Convert this dataframe to an interactive table.\"\n",
              "              style=\"display:none;\">\n",
              "        \n",
              "  <svg xmlns=\"http://www.w3.org/2000/svg\" height=\"24px\"viewBox=\"0 0 24 24\"\n",
              "       width=\"24px\">\n",
              "    <path d=\"M0 0h24v24H0V0z\" fill=\"none\"/>\n",
              "    <path d=\"M18.56 5.44l.94 2.06.94-2.06 2.06-.94-2.06-.94-.94-2.06-.94 2.06-2.06.94zm-11 1L8.5 8.5l.94-2.06 2.06-.94-2.06-.94L8.5 2.5l-.94 2.06-2.06.94zm10 10l.94 2.06.94-2.06 2.06-.94-2.06-.94-.94-2.06-.94 2.06-2.06.94z\"/><path d=\"M17.41 7.96l-1.37-1.37c-.4-.4-.92-.59-1.43-.59-.52 0-1.04.2-1.43.59L10.3 9.45l-7.72 7.72c-.78.78-.78 2.05 0 2.83L4 21.41c.39.39.9.59 1.41.59.51 0 1.02-.2 1.41-.59l7.78-7.78 2.81-2.81c.8-.78.8-2.07 0-2.86zM5.41 20L4 18.59l7.72-7.72 1.47 1.35L5.41 20z\"/>\n",
              "  </svg>\n",
              "      </button>\n",
              "      \n",
              "  <style>\n",
              "    .colab-df-container {\n",
              "      display:flex;\n",
              "      flex-wrap:wrap;\n",
              "      gap: 12px;\n",
              "    }\n",
              "\n",
              "    .colab-df-convert {\n",
              "      background-color: #E8F0FE;\n",
              "      border: none;\n",
              "      border-radius: 50%;\n",
              "      cursor: pointer;\n",
              "      display: none;\n",
              "      fill: #1967D2;\n",
              "      height: 32px;\n",
              "      padding: 0 0 0 0;\n",
              "      width: 32px;\n",
              "    }\n",
              "\n",
              "    .colab-df-convert:hover {\n",
              "      background-color: #E2EBFA;\n",
              "      box-shadow: 0px 1px 2px rgba(60, 64, 67, 0.3), 0px 1px 3px 1px rgba(60, 64, 67, 0.15);\n",
              "      fill: #174EA6;\n",
              "    }\n",
              "\n",
              "    [theme=dark] .colab-df-convert {\n",
              "      background-color: #3B4455;\n",
              "      fill: #D2E3FC;\n",
              "    }\n",
              "\n",
              "    [theme=dark] .colab-df-convert:hover {\n",
              "      background-color: #434B5C;\n",
              "      box-shadow: 0px 1px 3px 1px rgba(0, 0, 0, 0.15);\n",
              "      filter: drop-shadow(0px 1px 2px rgba(0, 0, 0, 0.3));\n",
              "      fill: #FFFFFF;\n",
              "    }\n",
              "  </style>\n",
              "\n",
              "      <script>\n",
              "        const buttonEl =\n",
              "          document.querySelector('#df-050bb94d-fd94-4c94-987d-49936de7ff2b button.colab-df-convert');\n",
              "        buttonEl.style.display =\n",
              "          google.colab.kernel.accessAllowed ? 'block' : 'none';\n",
              "\n",
              "        async function convertToInteractive(key) {\n",
              "          const element = document.querySelector('#df-050bb94d-fd94-4c94-987d-49936de7ff2b');\n",
              "          const dataTable =\n",
              "            await google.colab.kernel.invokeFunction('convertToInteractive',\n",
              "                                                     [key], {});\n",
              "          if (!dataTable) return;\n",
              "\n",
              "          const docLinkHtml = 'Like what you see? Visit the ' +\n",
              "            '<a target=\"_blank\" href=https://colab.research.google.com/notebooks/data_table.ipynb>data table notebook</a>'\n",
              "            + ' to learn more about interactive tables.';\n",
              "          element.innerHTML = '';\n",
              "          dataTable['output_type'] = 'display_data';\n",
              "          await google.colab.output.renderOutput(dataTable, element);\n",
              "          const docLink = document.createElement('div');\n",
              "          docLink.innerHTML = docLinkHtml;\n",
              "          element.appendChild(docLink);\n",
              "        }\n",
              "      </script>\n",
              "    </div>\n",
              "  </div>\n",
              "  "
            ]
          },
          "metadata": {},
          "execution_count": 21
        }
      ]
    },
    {
      "cell_type": "markdown",
      "source": [
        "## 2.2) Transform video_duration to seconds\n",
        "Youtube API returns video duration in ISO8601 format. This is transformed to duration in seconds."
      ],
      "metadata": {
        "id": "jUSeWIsDJD9q"
      }
    },
    {
      "cell_type": "code",
      "source": [
        "def YTDurationToSeconds(duration):\n",
        "    \"\"\" Transform an ISO8601 duration (time interval) to seconds.\n",
        "\n",
        "    Refer to: https://stackoverflow.com/questions/16742381/how-to-convert-youtube-api-duration-to-seconds\n",
        "\n",
        "    Returns an integer containing the seconds.\n",
        "    \"\"\"\n",
        "    match = re.match('PT(\\d+H)?(\\d+M)?(\\d+S)?', duration).groups()\n",
        "    hours = _js_parseInt(match[0]) if match[0] else 0\n",
        "    minutes = _js_parseInt(match[1]) if match[1] else 0\n",
        "    seconds = _js_parseInt(match[2]) if match[2] else 0\n",
        "    return hours * 3600 + minutes * 60 + seconds\n",
        "\n",
        "# js-like parseInt\n",
        "# https://gist.github.com/douglasmiranda/2174255\n",
        "def _js_parseInt(string):\n",
        "    return int(''.join([x for x in string if x.isdigit()]))"
      ],
      "metadata": {
        "id": "uImct1G3Jc09"
      },
      "execution_count": 53,
      "outputs": []
    },
    {
      "cell_type": "code",
      "source": [
        "df_videos_api['video_duration'] = df_videos_api['video_duration'].apply(lambda x: YTDurationToSeconds(x))\n",
        "df_videos_api[['video_title','video_duration']].head()"
      ],
      "metadata": {
        "colab": {
          "base_uri": "https://localhost:8080/",
          "height": 0
        },
        "id": "hVyQl4r2LYko",
        "outputId": "8cafa8fd-5a59-4d64-8640-21f44665fe5b"
      },
      "execution_count": 54,
      "outputs": [
        {
          "output_type": "execute_result",
          "data": {
            "text/plain": [
              "                                         video_title  video_duration\n",
              "0                  Fire conducts electricity #shorts              46\n",
              "1  The world depends on a strange collection of i...            1112\n",
              "2                         But what is a convolution?            1381\n",
              "3  POSSO COLOCAR MINHA LINGUA NA SUA BOCA? : MAND...             836\n",
              "4  🐍 GRIXIS CROBA! O novo MID-RANGE do STANDARD! ...            3635"
            ],
            "text/html": [
              "\n",
              "  <div id=\"df-8011bbd2-709c-4be8-a2f8-d5a494ecb825\">\n",
              "    <div class=\"colab-df-container\">\n",
              "      <div>\n",
              "<style scoped>\n",
              "    .dataframe tbody tr th:only-of-type {\n",
              "        vertical-align: middle;\n",
              "    }\n",
              "\n",
              "    .dataframe tbody tr th {\n",
              "        vertical-align: top;\n",
              "    }\n",
              "\n",
              "    .dataframe thead th {\n",
              "        text-align: right;\n",
              "    }\n",
              "</style>\n",
              "<table border=\"1\" class=\"dataframe\">\n",
              "  <thead>\n",
              "    <tr style=\"text-align: right;\">\n",
              "      <th></th>\n",
              "      <th>video_title</th>\n",
              "      <th>video_duration</th>\n",
              "    </tr>\n",
              "  </thead>\n",
              "  <tbody>\n",
              "    <tr>\n",
              "      <th>0</th>\n",
              "      <td>Fire conducts electricity #shorts</td>\n",
              "      <td>46</td>\n",
              "    </tr>\n",
              "    <tr>\n",
              "      <th>1</th>\n",
              "      <td>The world depends on a strange collection of i...</td>\n",
              "      <td>1112</td>\n",
              "    </tr>\n",
              "    <tr>\n",
              "      <th>2</th>\n",
              "      <td>But what is a convolution?</td>\n",
              "      <td>1381</td>\n",
              "    </tr>\n",
              "    <tr>\n",
              "      <th>3</th>\n",
              "      <td>POSSO COLOCAR MINHA LINGUA NA SUA BOCA? : MAND...</td>\n",
              "      <td>836</td>\n",
              "    </tr>\n",
              "    <tr>\n",
              "      <th>4</th>\n",
              "      <td>🐍 GRIXIS CROBA! O novo MID-RANGE do STANDARD! ...</td>\n",
              "      <td>3635</td>\n",
              "    </tr>\n",
              "  </tbody>\n",
              "</table>\n",
              "</div>\n",
              "      <button class=\"colab-df-convert\" onclick=\"convertToInteractive('df-8011bbd2-709c-4be8-a2f8-d5a494ecb825')\"\n",
              "              title=\"Convert this dataframe to an interactive table.\"\n",
              "              style=\"display:none;\">\n",
              "        \n",
              "  <svg xmlns=\"http://www.w3.org/2000/svg\" height=\"24px\"viewBox=\"0 0 24 24\"\n",
              "       width=\"24px\">\n",
              "    <path d=\"M0 0h24v24H0V0z\" fill=\"none\"/>\n",
              "    <path d=\"M18.56 5.44l.94 2.06.94-2.06 2.06-.94-2.06-.94-.94-2.06-.94 2.06-2.06.94zm-11 1L8.5 8.5l.94-2.06 2.06-.94-2.06-.94L8.5 2.5l-.94 2.06-2.06.94zm10 10l.94 2.06.94-2.06 2.06-.94-2.06-.94-.94-2.06-.94 2.06-2.06.94z\"/><path d=\"M17.41 7.96l-1.37-1.37c-.4-.4-.92-.59-1.43-.59-.52 0-1.04.2-1.43.59L10.3 9.45l-7.72 7.72c-.78.78-.78 2.05 0 2.83L4 21.41c.39.39.9.59 1.41.59.51 0 1.02-.2 1.41-.59l7.78-7.78 2.81-2.81c.8-.78.8-2.07 0-2.86zM5.41 20L4 18.59l7.72-7.72 1.47 1.35L5.41 20z\"/>\n",
              "  </svg>\n",
              "      </button>\n",
              "      \n",
              "  <style>\n",
              "    .colab-df-container {\n",
              "      display:flex;\n",
              "      flex-wrap:wrap;\n",
              "      gap: 12px;\n",
              "    }\n",
              "\n",
              "    .colab-df-convert {\n",
              "      background-color: #E8F0FE;\n",
              "      border: none;\n",
              "      border-radius: 50%;\n",
              "      cursor: pointer;\n",
              "      display: none;\n",
              "      fill: #1967D2;\n",
              "      height: 32px;\n",
              "      padding: 0 0 0 0;\n",
              "      width: 32px;\n",
              "    }\n",
              "\n",
              "    .colab-df-convert:hover {\n",
              "      background-color: #E2EBFA;\n",
              "      box-shadow: 0px 1px 2px rgba(60, 64, 67, 0.3), 0px 1px 3px 1px rgba(60, 64, 67, 0.15);\n",
              "      fill: #174EA6;\n",
              "    }\n",
              "\n",
              "    [theme=dark] .colab-df-convert {\n",
              "      background-color: #3B4455;\n",
              "      fill: #D2E3FC;\n",
              "    }\n",
              "\n",
              "    [theme=dark] .colab-df-convert:hover {\n",
              "      background-color: #434B5C;\n",
              "      box-shadow: 0px 1px 3px 1px rgba(0, 0, 0, 0.15);\n",
              "      filter: drop-shadow(0px 1px 2px rgba(0, 0, 0, 0.3));\n",
              "      fill: #FFFFFF;\n",
              "    }\n",
              "  </style>\n",
              "\n",
              "      <script>\n",
              "        const buttonEl =\n",
              "          document.querySelector('#df-8011bbd2-709c-4be8-a2f8-d5a494ecb825 button.colab-df-convert');\n",
              "        buttonEl.style.display =\n",
              "          google.colab.kernel.accessAllowed ? 'block' : 'none';\n",
              "\n",
              "        async function convertToInteractive(key) {\n",
              "          const element = document.querySelector('#df-8011bbd2-709c-4be8-a2f8-d5a494ecb825');\n",
              "          const dataTable =\n",
              "            await google.colab.kernel.invokeFunction('convertToInteractive',\n",
              "                                                     [key], {});\n",
              "          if (!dataTable) return;\n",
              "\n",
              "          const docLinkHtml = 'Like what you see? Visit the ' +\n",
              "            '<a target=\"_blank\" href=https://colab.research.google.com/notebooks/data_table.ipynb>data table notebook</a>'\n",
              "            + ' to learn more about interactive tables.';\n",
              "          element.innerHTML = '';\n",
              "          dataTable['output_type'] = 'display_data';\n",
              "          await google.colab.output.renderOutput(dataTable, element);\n",
              "          const docLink = document.createElement('div');\n",
              "          docLink.innerHTML = docLinkHtml;\n",
              "          element.appendChild(docLink);\n",
              "        }\n",
              "      </script>\n",
              "    </div>\n",
              "  </div>\n",
              "  "
            ]
          },
          "metadata": {},
          "execution_count": 54
        }
      ]
    },
    {
      "cell_type": "markdown",
      "source": [
        "## 2.3) Get the main color of the thumbnail in RGB format\n"
      ],
      "metadata": {
        "id": "ZaEQkg_SIdXX"
      }
    },
    {
      "cell_type": "code",
      "source": [
        "def get_img_from_url(url):\n",
        "    \"\"\" Make a request for an url containing an image and returns an np array \n",
        "    containin the image.\n",
        "\n",
        "    Returns an np array containing an image.\n",
        "    \"\"\"\n",
        "    response = requests.get(url)\n",
        "    img = Image.open(BytesIO(response.content))\n",
        "    img = np.array(img)\n",
        "\n",
        "    return img\n",
        "\n",
        "# Test\n",
        "url = df_videos_api['thumbnail_url'][0]\n",
        "\n",
        "img = get_img_from_url(url)\n",
        "plt.imshow(img)"
      ],
      "metadata": {
        "id": "CqW09Z5gHC0A",
        "colab": {
          "base_uri": "https://localhost:8080/",
          "height": 0
        },
        "outputId": "9c74b391-51b7-414c-f41e-347282e8c368"
      },
      "execution_count": 22,
      "outputs": [
        {
          "output_type": "execute_result",
          "data": {
            "text/plain": [
              "<matplotlib.image.AxesImage at 0x7f8d69102790>"
            ]
          },
          "metadata": {},
          "execution_count": 22
        },
        {
          "output_type": "display_data",
          "data": {
            "text/plain": [
              "<Figure size 432x288 with 1 Axes>"
            ],
            "image/png": "[encoded data removed]"
          },
          "metadata": {
            "needs_background": "light"
          }
        }
      ]
    },
    {
      "cell_type": "code",
      "source": [
        "def remove_black_bars(img):\n",
        "    \"\"\" Remove black bars from the top and from the bottom of the image.\n",
        "\n",
        "    Returns an np array containing an image.\n",
        "    \"\"\"\n",
        "    h, w, c = img.shape\n",
        "    img = img[int(0.13*h):int(-0.13*h), :, :]\n",
        "\n",
        "    return img\n",
        "\n",
        "img = remove_black_bars(img)\n",
        "plt.imshow(img)"
      ],
      "metadata": {
        "id": "sr0pWlILHEON",
        "colab": {
          "base_uri": "https://localhost:8080/",
          "height": 0
        },
        "outputId": "3669d75b-3d3d-4884-a139-438966567df0"
      },
      "execution_count": 23,
      "outputs": [
        {
          "output_type": "execute_result",
          "data": {
            "text/plain": [
              "<matplotlib.image.AxesImage at 0x7f8d68b9f290>"
            ]
          },
          "metadata": {},
          "execution_count": 23
        },
        {
          "output_type": "display_data",
          "data": {
            "text/plain": [
              "<Figure size 432x288 with 1 Axes>"
            ],
            "image/png": "[encoded data removed]"
          },
          "metadata": {
            "needs_background": "light"
          }
        }
      ]
    },
    {
      "cell_type": "code",
      "source": [
        "def get_main_color_rgb(img):\n",
        "    \"\"\" Get the RGB values of the most frequent color of an image.\n",
        "\n",
        "    Returns a pandas series containing the red, green and blue values.\n",
        "\n",
        "    \"\"\"\n",
        "    # Get width and height of Image\n",
        "    width, height, channels = img.shape\n",
        " \n",
        "    # Initialize Variable\n",
        "    r_total = 0\n",
        "    g_total = 0\n",
        "    b_total = 0\n",
        " \n",
        "    count = 0\n",
        " \n",
        "    # Iterate through each pixel\n",
        "    for x in range(0, width):\n",
        "        for y in range(0, height):\n",
        "            # r,g,b value of pixel\n",
        "            r, g, b = img[x,y]\n",
        " \n",
        "            r_total += r\n",
        "            g_total += g\n",
        "            b_total += b\n",
        "            count += 1\n",
        " \n",
        "    return pd.Series([int(r_total/count), int(g_total/count), int(b_total/count)])\n",
        "    \n",
        "r,g,b = get_main_color_rgb(img)\n",
        "print(f\"r: {r}, g: {g}, b:{b}\")"
      ],
      "metadata": {
        "id": "fyDql_hNHJZ3",
        "colab": {
          "base_uri": "https://localhost:8080/"
        },
        "outputId": "4e38d3b2-6667-4281-ece9-4b46195caff4"
      },
      "execution_count": 24,
      "outputs": [
        {
          "output_type": "stream",
          "name": "stdout",
          "text": [
            "r: 22, g: 19, b:14\n"
          ]
        }
      ]
    },
    {
      "cell_type": "code",
      "source": [
        "df_videos_api[['thumb_red', 'thumb_green', 'thumb_blue']] = df_videos_api['thumbnail_url'].apply(lambda x: get_main_color_rgb(remove_black_bars(get_img_from_url(x))))"
      ],
      "metadata": {
        "id": "Tn-PoLR3HK3k"
      },
      "execution_count": 25,
      "outputs": []
    },
    {
      "cell_type": "code",
      "source": [
        "df_videos_api[['video_title','thumbnail_url','thumb_red','thumb_green','thumb_blue']].head()"
      ],
      "metadata": {
        "id": "A-I5ntGxHNUb",
        "colab": {
          "base_uri": "https://localhost:8080/",
          "height": 0
        },
        "outputId": "f8eb6b4a-cd1c-420c-b6aa-5bb81f79c045"
      },
      "execution_count": 26,
      "outputs": [
        {
          "output_type": "execute_result",
          "data": {
            "text/plain": [
              "                                         video_title  \\\n",
              "0                  Fire conducts electricity #shorts   \n",
              "1  The world depends on a strange collection of i...   \n",
              "2                         But what is a convolution?   \n",
              "3  POSSO COLOCAR MINHA LINGUA NA SUA BOCA? : MAND...   \n",
              "4  🐍 GRIXIS CROBA! O novo MID-RANGE do STANDARD! ...   \n",
              "\n",
              "                                      thumbnail_url  thumb_red  thumb_green  \\\n",
              "0  https://i.ytimg.com/vi/QiVgJPVKRGI/hqdefault.jpg         22           19   \n",
              "1  https://i.ytimg.com/vi/esQyYGezS7c/hqdefault.jpg        125          113   \n",
              "2  https://i.ytimg.com/vi/KuXjwB4LzSA/hqdefault.jpg         35           30   \n",
              "3  https://i.ytimg.com/vi/55VfDUU1pyg/hqdefault.jpg        104           96   \n",
              "4  https://i.ytimg.com/vi/bo53RcrZmc4/hqdefault.jpg         57           96   \n",
              "\n",
              "   thumb_blue  \n",
              "0          14  \n",
              "1         110  \n",
              "2          29  \n",
              "3         100  \n",
              "4          96  "
            ],
            "text/html": [
              "\n",
              "  <div id=\"df-29a022b1-024a-46fc-aa9a-cba131abeab8\">\n",
              "    <div class=\"colab-df-container\">\n",
              "      <div>\n",
              "<style scoped>\n",
              "    .dataframe tbody tr th:only-of-type {\n",
              "        vertical-align: middle;\n",
              "    }\n",
              "\n",
              "    .dataframe tbody tr th {\n",
              "        vertical-align: top;\n",
              "    }\n",
              "\n",
              "    .dataframe thead th {\n",
              "        text-align: right;\n",
              "    }\n",
              "</style>\n",
              "<table border=\"1\" class=\"dataframe\">\n",
              "  <thead>\n",
              "    <tr style=\"text-align: right;\">\n",
              "      <th></th>\n",
              "      <th>video_title</th>\n",
              "      <th>thumbnail_url</th>\n",
              "      <th>thumb_red</th>\n",
              "      <th>thumb_green</th>\n",
              "      <th>thumb_blue</th>\n",
              "    </tr>\n",
              "  </thead>\n",
              "  <tbody>\n",
              "    <tr>\n",
              "      <th>0</th>\n",
              "      <td>Fire conducts electricity #shorts</td>\n",
              "      <td>https://i.ytimg.com/vi/QiVgJPVKRGI/hqdefault.jpg</td>\n",
              "      <td>22</td>\n",
              "      <td>19</td>\n",
              "      <td>14</td>\n",
              "    </tr>\n",
              "    <tr>\n",
              "      <th>1</th>\n",
              "      <td>The world depends on a strange collection of i...</td>\n",
              "      <td>https://i.ytimg.com/vi/esQyYGezS7c/hqdefault.jpg</td>\n",
              "      <td>125</td>\n",
              "      <td>113</td>\n",
              "      <td>110</td>\n",
              "    </tr>\n",
              "    <tr>\n",
              "      <th>2</th>\n",
              "      <td>But what is a convolution?</td>\n",
              "      <td>https://i.ytimg.com/vi/KuXjwB4LzSA/hqdefault.jpg</td>\n",
              "      <td>35</td>\n",
              "      <td>30</td>\n",
              "      <td>29</td>\n",
              "    </tr>\n",
              "    <tr>\n",
              "      <th>3</th>\n",
              "      <td>POSSO COLOCAR MINHA LINGUA NA SUA BOCA? : MAND...</td>\n",
              "      <td>https://i.ytimg.com/vi/55VfDUU1pyg/hqdefault.jpg</td>\n",
              "      <td>104</td>\n",
              "      <td>96</td>\n",
              "      <td>100</td>\n",
              "    </tr>\n",
              "    <tr>\n",
              "      <th>4</th>\n",
              "      <td>🐍 GRIXIS CROBA! O novo MID-RANGE do STANDARD! ...</td>\n",
              "      <td>https://i.ytimg.com/vi/bo53RcrZmc4/hqdefault.jpg</td>\n",
              "      <td>57</td>\n",
              "      <td>96</td>\n",
              "      <td>96</td>\n",
              "    </tr>\n",
              "  </tbody>\n",
              "</table>\n",
              "</div>\n",
              "      <button class=\"colab-df-convert\" onclick=\"convertToInteractive('df-29a022b1-024a-46fc-aa9a-cba131abeab8')\"\n",
              "              title=\"Convert this dataframe to an interactive table.\"\n",
              "              style=\"display:none;\">\n",
              "        \n",
              "  <svg xmlns=\"http://www.w3.org/2000/svg\" height=\"24px\"viewBox=\"0 0 24 24\"\n",
              "       width=\"24px\">\n",
              "    <path d=\"M0 0h24v24H0V0z\" fill=\"none\"/>\n",
              "    <path d=\"M18.56 5.44l.94 2.06.94-2.06 2.06-.94-2.06-.94-.94-2.06-.94 2.06-2.06.94zm-11 1L8.5 8.5l.94-2.06 2.06-.94-2.06-.94L8.5 2.5l-.94 2.06-2.06.94zm10 10l.94 2.06.94-2.06 2.06-.94-2.06-.94-.94-2.06-.94 2.06-2.06.94z\"/><path d=\"M17.41 7.96l-1.37-1.37c-.4-.4-.92-.59-1.43-.59-.52 0-1.04.2-1.43.59L10.3 9.45l-7.72 7.72c-.78.78-.78 2.05 0 2.83L4 21.41c.39.39.9.59 1.41.59.51 0 1.02-.2 1.41-.59l7.78-7.78 2.81-2.81c.8-.78.8-2.07 0-2.86zM5.41 20L4 18.59l7.72-7.72 1.47 1.35L5.41 20z\"/>\n",
              "  </svg>\n",
              "      </button>\n",
              "      \n",
              "  <style>\n",
              "    .colab-df-container {\n",
              "      display:flex;\n",
              "      flex-wrap:wrap;\n",
              "      gap: 12px;\n",
              "    }\n",
              "\n",
              "    .colab-df-convert {\n",
              "      background-color: #E8F0FE;\n",
              "      border: none;\n",
              "      border-radius: 50%;\n",
              "      cursor: pointer;\n",
              "      display: none;\n",
              "      fill: #1967D2;\n",
              "      height: 32px;\n",
              "      padding: 0 0 0 0;\n",
              "      width: 32px;\n",
              "    }\n",
              "\n",
              "    .colab-df-convert:hover {\n",
              "      background-color: #E2EBFA;\n",
              "      box-shadow: 0px 1px 2px rgba(60, 64, 67, 0.3), 0px 1px 3px 1px rgba(60, 64, 67, 0.15);\n",
              "      fill: #174EA6;\n",
              "    }\n",
              "\n",
              "    [theme=dark] .colab-df-convert {\n",
              "      background-color: #3B4455;\n",
              "      fill: #D2E3FC;\n",
              "    }\n",
              "\n",
              "    [theme=dark] .colab-df-convert:hover {\n",
              "      background-color: #434B5C;\n",
              "      box-shadow: 0px 1px 3px 1px rgba(0, 0, 0, 0.15);\n",
              "      filter: drop-shadow(0px 1px 2px rgba(0, 0, 0, 0.3));\n",
              "      fill: #FFFFFF;\n",
              "    }\n",
              "  </style>\n",
              "\n",
              "      <script>\n",
              "        const buttonEl =\n",
              "          document.querySelector('#df-29a022b1-024a-46fc-aa9a-cba131abeab8 button.colab-df-convert');\n",
              "        buttonEl.style.display =\n",
              "          google.colab.kernel.accessAllowed ? 'block' : 'none';\n",
              "\n",
              "        async function convertToInteractive(key) {\n",
              "          const element = document.querySelector('#df-29a022b1-024a-46fc-aa9a-cba131abeab8');\n",
              "          const dataTable =\n",
              "            await google.colab.kernel.invokeFunction('convertToInteractive',\n",
              "                                                     [key], {});\n",
              "          if (!dataTable) return;\n",
              "\n",
              "          const docLinkHtml = 'Like what you see? Visit the ' +\n",
              "            '<a target=\"_blank\" href=https://colab.research.google.com/notebooks/data_table.ipynb>data table notebook</a>'\n",
              "            + ' to learn more about interactive tables.';\n",
              "          element.innerHTML = '';\n",
              "          dataTable['output_type'] = 'display_data';\n",
              "          await google.colab.output.renderOutput(dataTable, element);\n",
              "          const docLink = document.createElement('div');\n",
              "          docLink.innerHTML = docLinkHtml;\n",
              "          element.appendChild(docLink);\n",
              "        }\n",
              "      </script>\n",
              "    </div>\n",
              "  </div>\n",
              "  "
            ]
          },
          "metadata": {},
          "execution_count": 26
        }
      ]
    },
    {
      "cell_type": "markdown",
      "source": [
        "## 2.6) Get the number of words in the thumbnail (TO DO)"
      ],
      "metadata": {
        "id": "A2e27hp0TDch"
      }
    },
    {
      "cell_type": "markdown",
      "source": [
        "## 2.7) Get the number of human faces in the thumbnail (TO DO)"
      ],
      "metadata": {
        "id": "cqcWcKaeTH-p"
      }
    },
    {
      "cell_type": "markdown",
      "source": [
        "# **3) LOAD**"
      ],
      "metadata": {
        "id": "kXWhg1pxGwnB"
      }
    },
    {
      "cell_type": "markdown",
      "source": [
        "## 3.1) General methods to connect to DB"
      ],
      "metadata": {
        "id": "0nx5ZZRVBEQK"
      }
    },
    {
      "cell_type": "code",
      "source": [
        "def connect_to_db(host_name, database, port, username, password):\n",
        "    \"\"\" Connects to a database and returns the connection.\n",
        "    host_name = typically an IP from AWS\n",
        "    dbname = the type of the db (in my case, Postgres)\n",
        "    port = the port that gives access to the db\n",
        "    username = username of the db\n",
        "    password = password of the db\n",
        "\n",
        "    Returns a connection to a database.\n",
        "    \"\"\"\n",
        "    try:\n",
        "        conn = ps.connect(host=host_name, database=database, user=username, password=password, port=port)\n",
        "    except ps.OperationalError as e:\n",
        "        raise e\n",
        "    else:\n",
        "        print(\"Connected!\")\n",
        "    return conn"
      ],
      "metadata": {
        "id": "U8dilP7WalOj"
      },
      "execution_count": 27,
      "outputs": []
    },
    {
      "cell_type": "code",
      "source": [
        "# create table\n",
        "def create_table(curs, command):\n",
        "    \"\"\" Creates a database table.\n",
        "    curs = cursor for the postgres table\n",
        "    \"\"\"\n",
        "    curs.execute(command)\n",
        "    print(\"Table created!\")       "
      ],
      "metadata": {
        "id": "g2bhLF3YloyL"
      },
      "execution_count": 28,
      "outputs": []
    },
    {
      "cell_type": "markdown",
      "source": [
        "## 3.2) Methods for \"videos\" table"
      ],
      "metadata": {
        "id": "FvLscAodLu4S"
      }
    },
    {
      "cell_type": "code",
      "source": [
        "def update_videos_row(curr, video_id, channel_id, video_title, thumbnail_url,\n",
        "                    upload_date_time, video_duration, view_count, like_count, \n",
        "                    comment_count, n_words_title, n_question_marks_title,\n",
        "                    n_exclamation_marks_title, n_ellipsis_title,\n",
        "                    thumb_red, thumb_green, thumb_blue):\n",
        "    \"\"\" Update a specific video_id entry of the db table\n",
        "    \"\"\"\n",
        "\n",
        "    \n",
        "    query = (\n",
        "        \"\"\"UPDATE videos\n",
        "        SET video_title = %s,\n",
        "            channel_id = %s,\n",
        "            thumbnail_url = %s,\n",
        "            upload_date_time = %s,\n",
        "            video_duration = %s,\n",
        "            view_count = %s,\n",
        "            like_count = %s,\n",
        "            comment_count = %s,\n",
        "            n_words_title = %s,\n",
        "            n_question_marks_title = %s,\n",
        "            n_exclamation_marks_title = %s,\n",
        "            n_ellipsis_title = %s,\n",
        "            thumb_red = %s,\n",
        "            thumb_green = %s,\n",
        "            thumb_blue = %s\n",
        "        WHERE video_id = %s;\"\"\")\n",
        "\n",
        "    vars_to_update = (video_title, channel_id, thumbnail_url, \\\n",
        "                      upload_date_time, video_duration, view_count, \\\n",
        "                      like_count, comment_count,\\\n",
        "                      n_words_title, n_question_marks_title,\\\n",
        "                      n_exclamation_marks_title, n_ellipsis_title,\\\n",
        "                    thumb_red, thumb_green, thumb_blue, video_id)\n",
        "    curr.execute(query, vars_to_update)"
      ],
      "metadata": {
        "id": "1N6VVzsqw-ue"
      },
      "execution_count": 42,
      "outputs": []
    },
    {
      "cell_type": "code",
      "source": [
        "def update_videos_db(curr, df):\n",
        "    \"\"\" Update the videos table for all video_id, or if the entry doesn't exist\n",
        "    append it to a pandas df that will be returned.\n",
        "\n",
        "    Returns a pandas df with new videos.\n",
        "    \"\"\"\n",
        "\n",
        "    tmp_df = pd.DataFrame(columns=[\"video_id\",\"channel_id\",\"video_title\",\\\n",
        "            \"channel_title\",\"thumbnail_url\",\"upload_date_time\",\\\n",
        "            \"video_duration\", \"view_count\",\"like_count\",\"comment_count\", \\\n",
        "            \"n_words_title\", \"n_question_marks_title\", \\\n",
        "            \"n_exclamation_marks_title\", \"n_ellipsis_title\", \\\n",
        "            \"thumb_red\",\"thumb_green\", \"thumb_blue\"])\n",
        "\n",
        "    for i, row in df.iterrows():\n",
        "        if check_if_video_exists(curr, row['video_id']):\n",
        "            update_videos_row(curr, row['video_id'], row['channel_id'], \\\n",
        "                                row['video_title'], row['thumbnail_url'], row['upload_date_time'], \\\n",
        "                                row['video_duration'], row['view_count'], row['like_count'], \\\n",
        "                                row['comment_count'], row['n_words_title'], row['n_question_marks_title'], \\\n",
        "                                row['n_exclamation_marks_title'], row['n_ellipsis_title'], row['thumb_red'], \\\n",
        "                                row['thumb_green'], row['thumb_blue'])\n",
        "        else:\n",
        "            tmp_df = tmp_df.append(row)\n",
        "\n",
        "    return tmp_df"
      ],
      "metadata": {
        "id": "V9I9rnxyngbt"
      },
      "execution_count": 43,
      "outputs": []
    },
    {
      "cell_type": "code",
      "source": [
        "def check_if_video_exists(curr, video_id):\n",
        "    \"\"\" Check if a given video_id exists in the database.\n",
        "\n",
        "    \"\"\"\n",
        "    query = (\"\"\"SELECT video_id FROM videos WHERE video_id = %s\"\"\")\n",
        "    curr.execute(query, (video_id,))\n",
        "\n",
        "    return curr.fetchone() is not None"
      ],
      "metadata": {
        "id": "_ZMT2NE2vmJ4"
      },
      "execution_count": 44,
      "outputs": []
    },
    {
      "cell_type": "code",
      "source": [
        "def insert_into_videos_table(curr, video_id, channel_id, video_title, \\\n",
        "                            thumbnail_url, upload_date_time, video_duration, \\\n",
        "                            view_count, like_count, comment_count,\\\n",
        "                            n_words_title, n_question_marks_title, \\\n",
        "                            n_exclamation_marks_title, n_ellipsis_title, \\\n",
        "                            thumb_red, thumb_green, thumb_blue):\n",
        "    \n",
        "    \"\"\" Insert a new video entry into the database.\n",
        "\n",
        "    \"\"\"\n",
        "\n",
        "    insert_into_videos = (\n",
        "        \"\"\"INSERT INTO videos (video_id, channel_id, video_title, thumbnail_url, \n",
        "                upload_date_time, video_duration, view_count, like_count, \n",
        "                comment_count, n_words_title, n_question_marks_title,\n",
        "                n_exclamation_marks_title, n_ellipsis_title,\n",
        "                thumb_red, thumb_green, thumb_blue)\n",
        "            VALUES(%s, %s, %s, %s, %s, %s, %s, %s, %s, %s, %s, %s, %s, %s, %s, %s);\"\"\")\n",
        "\n",
        "    row_to_insert = (video_id, channel_id, video_title, thumbnail_url, \\\n",
        "                    upload_date_time, video_duration, view_count, like_count, \\\n",
        "                    comment_count, n_words_title, n_question_marks_title, \\\n",
        "                    n_exclamation_marks_title, n_ellipsis_title, \\\n",
        "                    thumb_red, thumb_green, thumb_blue)\n",
        "\n",
        "    curr.execute(insert_into_videos, row_to_insert)"
      ],
      "metadata": {
        "id": "rebCc5DE1LaF"
      },
      "execution_count": 45,
      "outputs": []
    },
    {
      "cell_type": "code",
      "source": [
        "def append_from_videos_df_to_db(curr, df):\n",
        "    \"\"\" Insert a list of videos from a pandas df in the database.\n",
        "\n",
        "    \"\"\"\n",
        "\n",
        "    for i, row in df.iterrows():\n",
        "        insert_into_videos_table(curr, row['video_id'], row['channel_id'], \\\n",
        "                                row['video_title'], row['thumbnail_url'], \\\n",
        "                                row['upload_date_time'], row['video_duration'],\\\n",
        "                                row['view_count'], row['like_count'],\\\n",
        "                                row['comment_count'], row['n_words_title'], \\\n",
        "                                row['n_question_marks_title'], row['n_exclamation_marks_title'], \\\n",
        "                                row['n_ellipsis_title'], row['thumb_red'], \\\n",
        "                                row['thumb_green'], row['thumb_blue'])"
      ],
      "metadata": {
        "id": "9LOWBmsb2JT2"
      },
      "execution_count": 46,
      "outputs": []
    },
    {
      "cell_type": "markdown",
      "source": [
        "## 3.3) Methods for \"channels\" table"
      ],
      "metadata": {
        "id": "Gr3IS3PfMGiy"
      }
    },
    {
      "cell_type": "code",
      "source": [
        "def update_channels_row(curr, channel_id, channel_title, channel_country, \n",
        "               total_view_count, subscriber_count, video_count, topic_categories):\n",
        "    \"\"\" Update a specific channel_id entry of the db table.\n",
        "    \"\"\"\n",
        "    query = (\n",
        "        \"\"\"UPDATE channels\n",
        "        SET channel_title = %s,\n",
        "            channel_country = %s,\n",
        "            total_view_count = %s,\n",
        "            subscriber_count = %s,\n",
        "            video_count = %s,\n",
        "            topic_categories = %s\n",
        "        WHERE channel_id = %s;\"\"\")\n",
        "\n",
        "    vars_to_update = (channel_title, channel_country, total_view_count, subscriber_count, video_count, topic_categories, channel_id)\n",
        "    curr.execute(query, vars_to_update)"
      ],
      "metadata": {
        "id": "2SwCaznvMI-A"
      },
      "execution_count": 47,
      "outputs": []
    },
    {
      "cell_type": "code",
      "source": [
        "def update_channels_db(curr, df):\n",
        "    \"\"\" Update the channels table for all channel_id, or if the entry doesn't exist,\n",
        "    append it to a pandas df that will be returned.\n",
        "\n",
        "    Returns a pandas df with new channels.\n",
        "    \"\"\"\n",
        "\n",
        "    tmp_df = pd.DataFrame(columns=[\"channel_id\",\"channel_title\",\"channel_country\",\"total_view_count\",\"subscriber_count\",\"video_count\",\"topic_categories\"])\n",
        "\n",
        "    for i, row in df.iterrows():\n",
        "        if check_if_channel_exists(curr, row['channel_id']):\n",
        "            update_channels_row(curr, row['channel_id'], row['channel_title'], row['channel_country'], row['total_view_count'], row['subscriber_count'], row['video_count'], row['topic_categories'])\n",
        "        else:\n",
        "            tmp_df = tmp_df.append(row)\n",
        "\n",
        "    return tmp_df"
      ],
      "metadata": {
        "id": "CbnJi6PgM2Zw"
      },
      "execution_count": 48,
      "outputs": []
    },
    {
      "cell_type": "code",
      "source": [
        "def check_if_channel_exists(curr, channel_id):\n",
        "    \"\"\" Check if a given channel_id exists in the database.\n",
        "\n",
        "    \"\"\"\n",
        "    query = (\"\"\"SELECT channel_id FROM channels WHERE channel_id = %s\"\"\")\n",
        "    curr.execute(query, (channel_id,))\n",
        "\n",
        "    return curr.fetchone() is not None"
      ],
      "metadata": {
        "id": "Q3X6rlxINs3T"
      },
      "execution_count": 49,
      "outputs": []
    },
    {
      "cell_type": "code",
      "source": [
        "def insert_into_channels_table(curr, channel_id, channel_title, channel_country, view_count, subscriber_count, video_count, topic_categories):\n",
        "    \"\"\" Insert a new channel entry in the database.\n",
        "\n",
        "    \"\"\"\n",
        "\n",
        "    insert_into_channels = (\n",
        "        \"\"\"INSERT INTO channels (channel_id, channel_title, channel_country, total_view_count, subscriber_count, video_count, topic_categories)\n",
        "            VALUES(%s, %s, %s, %s, %s, %s, %s);\"\"\")\n",
        "\n",
        "    row_to_insert = (channel_id, channel_title, channel_country, view_count, subscriber_count, video_count, topic_categories)\n",
        "\n",
        "    curr.execute(insert_into_channels, row_to_insert)"
      ],
      "metadata": {
        "id": "BYvTC2AxN5i0"
      },
      "execution_count": 50,
      "outputs": []
    },
    {
      "cell_type": "code",
      "source": [
        "def append_from_channels_df_to_db(curr, df):\n",
        "    \"\"\" Insert a list of channels from a pandas df in the database.\n",
        "\n",
        "    \"\"\"\n",
        "\n",
        "    for i, row in df.iterrows():\n",
        "        insert_into_channels_table(curr, row['channel_id'], row['channel_title'], row['channel_country'], row['total_view_count'], row['subscriber_count'], row['video_count'], row['topic_categories'])"
      ],
      "metadata": {
        "id": "mqAFPjViOgqj"
      },
      "execution_count": 51,
      "outputs": []
    },
    {
      "cell_type": "markdown",
      "source": [
        "## 3.4) Methods to add or remove a column from a table."
      ],
      "metadata": {
        "id": "sRbyJEl__et6"
      }
    },
    {
      "cell_type": "code",
      "source": [
        "def add_column_to_table(curs, table_name, column_name, column_type, default=\"\"):\n",
        "    \"\"\" Add column to a table if it doesn't exist.\n",
        "    curs = cursor for the postgres table\n",
        "    table_name = the name of the table\n",
        "    column_name = name of column\n",
        "    column_type = type of column\n",
        "    default = default value that the column will take\n",
        "    \"\"\"\n",
        "\n",
        "    if default!=\"\":\n",
        "        default=f\"DEFAULT {default}\"\n",
        "\n",
        "    add_column_command = (\n",
        "        f\"\"\" ALTER TABLE IF EXISTS {table_name} \n",
        "            ADD IF NOT EXISTS {column_name} {column_type} {default}\n",
        "        \"\"\"\n",
        "    )\n",
        "\n",
        "    curs.execute(add_column_command)\n",
        "    print(\"Column added!\")\n"
      ],
      "metadata": {
        "id": "PiOOMgdBWkAZ"
      },
      "execution_count": 35,
      "outputs": []
    },
    {
      "cell_type": "code",
      "source": [
        "def remove_column_from_table(curs, table_name, column_name):\n",
        "    \"\"\" Remove a column from a table if it exists.\n",
        "    curs = cursor for the postgres table\n",
        "    table_name = the name of the table\n",
        "    column_name = name of column\n",
        "    \"\"\"\n",
        "\n",
        "    remove_column_command = (\n",
        "        f\"\"\" ALTER TABLE IF EXISTS {table_name} \n",
        "            DROP COLUMN IF EXISTS {column_name}\n",
        "        \"\"\"\n",
        "    )\n",
        "\n",
        "    curs.execute(remove_column_command)\n",
        "    print(\"Column removed!\")"
      ],
      "metadata": {
        "id": "4S4q2awX4mJ-"
      },
      "execution_count": 36,
      "outputs": []
    },
    {
      "cell_type": "markdown",
      "source": [
        "## 3.5) Connect to AWS RDS and load the data."
      ],
      "metadata": {
        "id": "kCzIwteDn8eH"
      }
    },
    {
      "cell_type": "code",
      "source": [
        "host_name = \"datascience-youtube.cuxnfdexw55l.us-east-1.rds.amazonaws.com\"\n",
        "database = \"postgres\"\n",
        "port = \"5432\"\n",
        "db_username = os.getenv(\"db_username\")\n",
        "db_password = os.getenv(\"db_password\")\n",
        "conn = None\n",
        "\n",
        "conn = connect_to_db(host_name, database, port, db_username, db_password)"
      ],
      "metadata": {
        "colab": {
          "base_uri": "https://localhost:8080/"
        },
        "id": "EiYp8AB0Z0VG",
        "outputId": "71ded563-582a-48de-87cf-eeb19f7a4da4"
      },
      "execution_count": 55,
      "outputs": [
        {
          "output_type": "stream",
          "name": "stdout",
          "text": [
            "Connected!\n"
          ]
        }
      ]
    },
    {
      "cell_type": "code",
      "source": [
        "curs = conn.cursor() # allows us to run SQL commands and fetch results"
      ],
      "metadata": {
        "id": "K1wpuMZblmib"
      },
      "execution_count": 56,
      "outputs": []
    },
    {
      "cell_type": "code",
      "source": [
        "videos_create_command = (\n",
        "        \"\"\"CREATE TABLE IF NOT EXISTS videos (\n",
        "            video_id VARCHAR(255) PRIMARY KEY,\n",
        "            channel_id VARCHAR(255) NOT NULL,\n",
        "            video_title TEXT NOT NULL,\n",
        "            thumbnail_url TEXT NOT NULL,\n",
        "            upload_date_time TIMESTAMPTZ NOT NULL DEFAULT CURRENT_TIMESTAMP,\n",
        "            video_duration INTEGER NOT NULL,\n",
        "            view_count INTEGER NOT NULL,\n",
        "            like_count INTEGER NOT NULL,\n",
        "            comment_count INTEGER NOT NULL,\n",
        "            n_words_title INTEGER NOT NULL,\n",
        "            n_question_marks_title INTEGER NOT NULL,\n",
        "            n_exclamation_marks_title INTEGER NOT NULL,\n",
        "            n_ellipsis_title INTEGER NOT NULL,\n",
        "            thumb_red INTEGER NOT NULL,\n",
        "            thumb_green INTEGER NOT NULL,\n",
        "            thumb_blue INTEGER NOT NULL\n",
        "        )\"\"\")\n",
        "\n",
        "create_table(curs, videos_create_command)"
      ],
      "metadata": {
        "colab": {
          "base_uri": "https://localhost:8080/"
        },
        "id": "d7hONOhJ46f7",
        "outputId": "d1521303-5371-45a3-a0c3-fbdaf5893357"
      },
      "execution_count": 57,
      "outputs": [
        {
          "output_type": "stream",
          "name": "stdout",
          "text": [
            "Table created!\n"
          ]
        }
      ]
    },
    {
      "cell_type": "code",
      "source": [
        "channels_create_command = (\n",
        "    \"\"\"CREATE TABLE IF NOT EXISTS channels (\n",
        "            channel_id VARCHAR(255) PRIMARY KEY,\n",
        "            channel_title VARCHAR(255) NOT NULL,\n",
        "            channel_country VARCHAR(255) NOT NULL,\n",
        "            total_view_count INTEGER NOT NULL,\n",
        "            subscriber_count INTEGER NOT NULL,\n",
        "            video_count INTEGER NOT NULL,\n",
        "            topic_categorieS TEXT\n",
        "        )\"\"\")\n",
        "\n",
        "create_table(curs, channels_create_command)"
      ],
      "metadata": {
        "id": "kbUO9V_OmdOC",
        "colab": {
          "base_uri": "https://localhost:8080/"
        },
        "outputId": "cf464a54-56b1-4983-d9e4-033335dd9230"
      },
      "execution_count": 58,
      "outputs": [
        {
          "output_type": "stream",
          "name": "stdout",
          "text": [
            "Table created!\n"
          ]
        }
      ]
    },
    {
      "cell_type": "code",
      "source": [
        "# add_column_to_table(curs,\"videos\", \"upload_hour\", \"VARCHAR(10) NOT NULL\",0)\n",
        "# remove_column_from_table(curs,\"videos\",\"upload_hour\")\n",
        "# add_column_to_table(curs,\"channels\",\"total_view_count\",\"INTEGER NOT NULL\",\"0\")\n",
        "# remove_column_from_table(curs,\"videos\",\"video_duration\")"
      ],
      "metadata": {
        "id": "ITp220iQKdY9"
      },
      "execution_count": null,
      "outputs": []
    },
    {
      "cell_type": "code",
      "source": [
        "new_videos_df = update_videos_db(curs, df_videos_api)"
      ],
      "metadata": {
        "id": "pu3o-2v-LT9k"
      },
      "execution_count": 59,
      "outputs": []
    },
    {
      "cell_type": "code",
      "source": [
        "new_channels_df = update_channels_db(curs, df_channels_api)"
      ],
      "metadata": {
        "id": "Z4Rnb-emOyDF"
      },
      "execution_count": 60,
      "outputs": []
    },
    {
      "cell_type": "code",
      "source": [
        "append_from_videos_df_to_db(curs, new_videos_df)"
      ],
      "metadata": {
        "id": "qfNfk3Uv2sCw"
      },
      "execution_count": 61,
      "outputs": []
    },
    {
      "cell_type": "code",
      "source": [
        "append_from_channels_df_to_db(curs, new_channels_df)"
      ],
      "metadata": {
        "id": "927RIe_aO6Nc"
      },
      "execution_count": 62,
      "outputs": []
    },
    {
      "cell_type": "code",
      "source": [
        "conn.commit()"
      ],
      "metadata": {
        "id": "pTCgro4GmjPG"
      },
      "execution_count": 63,
      "outputs": []
    },
    {
      "cell_type": "markdown",
      "source": [
        "#**Conclusion**\n",
        "\n",
        "We have succesfuly used the Youtube API, extracted the data that we wanted (and we can always revisit this if we want to analyze other things or create more complex prediction models), transformed it (by applying regular expressions, changing some units and checking the main color of the thumbnail) and finished it up by loading the data in an AWS RDS running Postgres. \n",
        "\n",
        "In the next section we will analyze all this data!\n",
        "\n",
        "Let's go:  https://colab.research.google.com/drive/1a_Etj5kwEaq5epwoV9TVPNS3ShRRd7wU?usp=sharing"
      ],
      "metadata": {
        "id": "TDIIxbv-EsYO"
      }
    }
  ]
}