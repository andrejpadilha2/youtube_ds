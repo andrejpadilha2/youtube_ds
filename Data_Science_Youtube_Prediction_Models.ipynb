{
  "nbformat": 4,
  "nbformat_minor": 0,
  "metadata": {
    "colab": {
      "provenance": [],
      "collapsed_sections": [
        "pXW-UtwU_yUY",
        "kmCXQ6kVUR5f",
        "4ND5KEwoUbcf",
        "pJ8e4eDwj52t",
        "lX39XWA5l5wR"
      ]
    },
    "kernelspec": {
      "name": "python3",
      "display_name": "Python 3"
    },
    "language_info": {
      "name": "python"
    }
  },
  "cells": [
    {
      "cell_type": "markdown",
      "source": [
        "<h1 style=\"text-align:center;\"><font color='red' size=10><b> Before you start! </b></font></h1>\n",
        "\n",
        "This project is divided in 3 parts:\n",
        "\n",
        "1) ETL, where we will Extract, Transform and Load data into an AWS RDS.\n",
        "\n",
        "https://colab.research.google.com/drive/1w9bPc49joLrceMWAF_RlEgXo73s1Eeee?usp=sharing\n",
        "\n",
        "<br><br>\n",
        "\n",
        "2) Data Analysis: exploratory data analysis to identify key features.\n",
        "\n",
        "https://colab.research.google.com/drive/1a_Etj5kwEaq5epwoV9TVPNS3ShRRd7wU?usp=sharing\n",
        "\n",
        "<br><br>\n",
        "\n",
        "**3) Prediction models: model building and comparison. <font color='red'>-> you are here</font>**\n",
        "\n",
        "https://colab.research.google.com/drive/1Nbj6TM5HaK2krMRa9R1oiolDhDronYQB?usp=sharing\n",
        "\n",
        "<br><br>\n",
        "\n",
        "Summary of this project: https://colab.research.google.com/drive/1CUjP7SdFGldPjuSVSIbHAk9UPWYp_RYz?usp=sharing\n",
        "\n",
        "<br><br>\n",
        "\n",
        "A summary of the data can be visualized on this <font color='red'>**Power BI dashboard:**</font> https://app.powerbi.com/view?r=eyJrIjoiNTkzZjNmY2UtNmQ5Mi00MTJhLTliNzgtZGU2NzRlYzQ5NDA1IiwidCI6IjE2OGQ0MTM3LWQ2ZjYtNDVmOC1hYWE3LWQxYTcwMjMzMDk1ZSIsImMiOjR9&pageName=ReportSection4f69a4c8629ea033a165"
      ],
      "metadata": {
        "id": "Jn6p9_N8F8iQ"
      }
    },
    {
      "cell_type": "markdown",
      "source": [
        "# **Analyzing Youtube channels that I am subscribed to using its API.**\n",
        "\n",
        "I love watching Youtube. It's a very diverse streaming service (even before this word was cool), with videos ranging from comedy to science and curiosity, short or long, from channels with millions of subscribers to small comunnities with just a few hundred. \n",
        "\n",
        "But content creators suffer from \"punitive algorithms\" (in their words) that increase or decrease their visibility based on a plethora of metrics, more often than ever unknown to them. From YT perspective it's actually understandable, since a lot of viewers are migrating to other platforms (Tiktok, Twitch and an ever growing streaming services options). They need to maximize the amount of viewers and time spent on each video to justify that Youtube is actually a good platform to place ads.\n",
        "\n",
        "With this in mind I decided to use its API to collect some data and try to predict a video \"view count\" at the time it was published. Some models were built using video title features, thumbnail color, day and hour it was published, and so on. If successful, it could be used for example to fine tune ad placement in terms of expected return it will give. If unsuccessful it can at least be improved in future iterations."
      ],
      "metadata": {
        "id": "yQEFZpNHZhLB"
      }
    },
    {
      "cell_type": "markdown",
      "source": [
        "# **0) Import libraries**"
      ],
      "metadata": {
        "id": "pXW-UtwU_yUY"
      }
    },
    {
      "cell_type": "code",
      "source": [
        "# !pip install psycopg2\n",
        "import psycopg2 as ps\n",
        "import pandas.io.sql as sqlio\n",
        "import pandas as pd\n",
        "import numpy as np\n",
        "\n",
        "# Datetime libraries\n",
        "import datetime\n",
        "from datetime import datetime\n",
        "from pytz import country_timezones\n",
        "\n",
        "\n",
        "# Scikit learn libraries\n",
        "from sklearn.model_selection import train_test_split\n",
        "from sklearn.model_selection import GridSearchCV\n",
        "from sklearn.metrics import mean_squared_error\n",
        "from sklearn import tree\n",
        "from sklearn.compose import make_column_selector as selector\n",
        "from sklearn.preprocessing import OneHotEncoder, StandardScaler\n",
        "from sklearn.compose import ColumnTransformer\n",
        "from sklearn.tree import DecisionTreeRegressor\n",
        "from sklearn.pipeline import make_pipeline\n",
        "from sklearn.pipeline import Pipeline\n",
        "from sklearn.ensemble import HistGradientBoostingRegressor\n",
        "from sklearn.preprocessing import OrdinalEncoder\n",
        "from sklearn.ensemble import RandomForestRegressor"
      ],
      "metadata": {
        "id": "bjw3AHU1_0v4"
      },
      "execution_count": 1,
      "outputs": []
    },
    {
      "cell_type": "markdown",
      "source": [
        "# **1) Import data from AWS**"
      ],
      "metadata": {
        "id": "zxhG2G1kMXGo"
      }
    },
    {
      "cell_type": "markdown",
      "source": [
        "## 1.1) Define connection method"
      ],
      "metadata": {
        "id": "kmCXQ6kVUR5f"
      }
    },
    {
      "cell_type": "code",
      "source": [
        "def connect_to_db(host_name, database, port, username, password):\n",
        "    \"\"\" Connects to a database and returns the connection.\n",
        "    host_name = typically an IP from AWS\n",
        "    dbname = the type of the db (in my case, Postgres)\n",
        "    port = the port that gives access to the db\n",
        "    username = username of the db\n",
        "    password = password of the db\n",
        "    \"\"\"\n",
        "    try:\n",
        "        conn = ps.connect(host=host_name, database=database, user=username, password=password, port=port)\n",
        "    except ps.OperationalError as e:\n",
        "        raise e\n",
        "    else:\n",
        "        print(\"Connected!\")\n",
        "    return conn"
      ],
      "metadata": {
        "id": "LKeNYUulMXGs"
      },
      "execution_count": 2,
      "outputs": []
    },
    {
      "cell_type": "markdown",
      "source": [
        "## 1.2) Import data"
      ],
      "metadata": {
        "id": "4ND5KEwoUbcf"
      }
    },
    {
      "cell_type": "code",
      "source": [
        "host_name = \"datascience-youtube.cuxnfdexw55l.us-east-1.rds.amazonaws.com\"\n",
        "database = \"postgres\"\n",
        "port = \"5432\"\n",
        "username = \"main_read_only\" # read only user of the DB\n",
        "password = \"read_only_123\"\n",
        "conn = None\n",
        "\n",
        "conn = connect_to_db(host_name, database, port, username, password)"
      ],
      "metadata": {
        "colab": {
          "base_uri": "https://localhost:8080/"
        },
        "outputId": "2fd637f7-103e-4617-88a7-a6315133b539",
        "id": "wttLlAu7MXGt"
      },
      "execution_count": 3,
      "outputs": [
        {
          "output_type": "stream",
          "name": "stdout",
          "text": [
            "Connected!\n"
          ]
        }
      ]
    },
    {
      "cell_type": "code",
      "source": [
        "df_videos = pd.read_sql_query(\"SELECT * FROM videos\", con=conn)\n",
        "df_videos.head()"
      ],
      "metadata": {
        "colab": {
          "base_uri": "https://localhost:8080/",
          "height": 0
        },
        "outputId": "4f82e12a-d1df-4630-a4df-bb31c2612030",
        "id": "47V2C4YUMXGt"
      },
      "execution_count": 4,
      "outputs": [
        {
          "output_type": "execute_result",
          "data": {
            "text/plain": [
              "      video_id                                video_title  view_count  \\\n",
              "0  XxXKz9GtACg              LFA - Aula 13 - Dia 1/04/2022         350   \n",
              "1  g63dqkcDOG4              Mergesort (corretude e tempo)         823   \n",
              "2  pfCjJqTKvFY                             Insertion Sort        1190   \n",
              "3  xRkq-wMRHqk  Tempo de execução com notação assintótica        1225   \n",
              "4  JlHfhLQ2qrc       Tempo de execução (análise de casos)        1285   \n",
              "\n",
              "   like_count  comment_count                channel_id  \\\n",
              "0          11              3  UCYJv-TfmSU0xUuKI7N0zkJw   \n",
              "1          37              1  UCYJv-TfmSU0xUuKI7N0zkJw   \n",
              "2          48              1  UCYJv-TfmSU0xUuKI7N0zkJw   \n",
              "3          50              0  UCYJv-TfmSU0xUuKI7N0zkJw   \n",
              "4          66              2  UCYJv-TfmSU0xUuKI7N0zkJw   \n",
              "\n",
              "                                      thumbnail_url          upload_date_time  \\\n",
              "0  https://i.ytimg.com/vi/XxXKz9GtACg/hqdefault.jpg 2022-04-01 18:58:04+00:00   \n",
              "1  https://i.ytimg.com/vi/g63dqkcDOG4/hqdefault.jpg 2022-02-28 13:35:14+00:00   \n",
              "2  https://i.ytimg.com/vi/pfCjJqTKvFY/hqdefault.jpg 2022-02-18 18:19:10+00:00   \n",
              "3  https://i.ytimg.com/vi/xRkq-wMRHqk/hqdefault.jpg 2022-02-08 19:02:58+00:00   \n",
              "4  https://i.ytimg.com/vi/JlHfhLQ2qrc/hqdefault.jpg 2022-02-08 14:30:03+00:00   \n",
              "\n",
              "   n_words_title  n_question_marks_title  n_exclamation_marks_title  \\\n",
              "0              7                       0                          0   \n",
              "1              4                       0                          0   \n",
              "2              2                       0                          0   \n",
              "3              6                       0                          0   \n",
              "4              6                       0                          0   \n",
              "\n",
              "   n_ellipsis_title  thumb_red  thumb_green  thumb_blue  video_duration  \n",
              "0                 0         57           58          57            6170  \n",
              "1                 0         32           27          25            1424  \n",
              "2                 0         33           27          25            3204  \n",
              "3                 0         20           22          21            1366  \n",
              "4                 0         24           24          21             729  "
            ],
            "text/html": [
              "\n",
              "  <div id=\"df-68b6a499-ed33-4743-9b57-a5754423d59e\">\n",
              "    <div class=\"colab-df-container\">\n",
              "      <div>\n",
              "<style scoped>\n",
              "    .dataframe tbody tr th:only-of-type {\n",
              "        vertical-align: middle;\n",
              "    }\n",
              "\n",
              "    .dataframe tbody tr th {\n",
              "        vertical-align: top;\n",
              "    }\n",
              "\n",
              "    .dataframe thead th {\n",
              "        text-align: right;\n",
              "    }\n",
              "</style>\n",
              "<table border=\"1\" class=\"dataframe\">\n",
              "  <thead>\n",
              "    <tr style=\"text-align: right;\">\n",
              "      <th></th>\n",
              "      <th>video_id</th>\n",
              "      <th>video_title</th>\n",
              "      <th>view_count</th>\n",
              "      <th>like_count</th>\n",
              "      <th>comment_count</th>\n",
              "      <th>channel_id</th>\n",
              "      <th>thumbnail_url</th>\n",
              "      <th>upload_date_time</th>\n",
              "      <th>n_words_title</th>\n",
              "      <th>n_question_marks_title</th>\n",
              "      <th>n_exclamation_marks_title</th>\n",
              "      <th>n_ellipsis_title</th>\n",
              "      <th>thumb_red</th>\n",
              "      <th>thumb_green</th>\n",
              "      <th>thumb_blue</th>\n",
              "      <th>video_duration</th>\n",
              "    </tr>\n",
              "  </thead>\n",
              "  <tbody>\n",
              "    <tr>\n",
              "      <th>0</th>\n",
              "      <td>XxXKz9GtACg</td>\n",
              "      <td>LFA - Aula 13 - Dia 1/04/2022</td>\n",
              "      <td>350</td>\n",
              "      <td>11</td>\n",
              "      <td>3</td>\n",
              "      <td>UCYJv-TfmSU0xUuKI7N0zkJw</td>\n",
              "      <td>https://i.ytimg.com/vi/XxXKz9GtACg/hqdefault.jpg</td>\n",
              "      <td>2022-04-01 18:58:04+00:00</td>\n",
              "      <td>7</td>\n",
              "      <td>0</td>\n",
              "      <td>0</td>\n",
              "      <td>0</td>\n",
              "      <td>57</td>\n",
              "      <td>58</td>\n",
              "      <td>57</td>\n",
              "      <td>6170</td>\n",
              "    </tr>\n",
              "    <tr>\n",
              "      <th>1</th>\n",
              "      <td>g63dqkcDOG4</td>\n",
              "      <td>Mergesort (corretude e tempo)</td>\n",
              "      <td>823</td>\n",
              "      <td>37</td>\n",
              "      <td>1</td>\n",
              "      <td>UCYJv-TfmSU0xUuKI7N0zkJw</td>\n",
              "      <td>https://i.ytimg.com/vi/g63dqkcDOG4/hqdefault.jpg</td>\n",
              "      <td>2022-02-28 13:35:14+00:00</td>\n",
              "      <td>4</td>\n",
              "      <td>0</td>\n",
              "      <td>0</td>\n",
              "      <td>0</td>\n",
              "      <td>32</td>\n",
              "      <td>27</td>\n",
              "      <td>25</td>\n",
              "      <td>1424</td>\n",
              "    </tr>\n",
              "    <tr>\n",
              "      <th>2</th>\n",
              "      <td>pfCjJqTKvFY</td>\n",
              "      <td>Insertion Sort</td>\n",
              "      <td>1190</td>\n",
              "      <td>48</td>\n",
              "      <td>1</td>\n",
              "      <td>UCYJv-TfmSU0xUuKI7N0zkJw</td>\n",
              "      <td>https://i.ytimg.com/vi/pfCjJqTKvFY/hqdefault.jpg</td>\n",
              "      <td>2022-02-18 18:19:10+00:00</td>\n",
              "      <td>2</td>\n",
              "      <td>0</td>\n",
              "      <td>0</td>\n",
              "      <td>0</td>\n",
              "      <td>33</td>\n",
              "      <td>27</td>\n",
              "      <td>25</td>\n",
              "      <td>3204</td>\n",
              "    </tr>\n",
              "    <tr>\n",
              "      <th>3</th>\n",
              "      <td>xRkq-wMRHqk</td>\n",
              "      <td>Tempo de execução com notação assintótica</td>\n",
              "      <td>1225</td>\n",
              "      <td>50</td>\n",
              "      <td>0</td>\n",
              "      <td>UCYJv-TfmSU0xUuKI7N0zkJw</td>\n",
              "      <td>https://i.ytimg.com/vi/xRkq-wMRHqk/hqdefault.jpg</td>\n",
              "      <td>2022-02-08 19:02:58+00:00</td>\n",
              "      <td>6</td>\n",
              "      <td>0</td>\n",
              "      <td>0</td>\n",
              "      <td>0</td>\n",
              "      <td>20</td>\n",
              "      <td>22</td>\n",
              "      <td>21</td>\n",
              "      <td>1366</td>\n",
              "    </tr>\n",
              "    <tr>\n",
              "      <th>4</th>\n",
              "      <td>JlHfhLQ2qrc</td>\n",
              "      <td>Tempo de execução (análise de casos)</td>\n",
              "      <td>1285</td>\n",
              "      <td>66</td>\n",
              "      <td>2</td>\n",
              "      <td>UCYJv-TfmSU0xUuKI7N0zkJw</td>\n",
              "      <td>https://i.ytimg.com/vi/JlHfhLQ2qrc/hqdefault.jpg</td>\n",
              "      <td>2022-02-08 14:30:03+00:00</td>\n",
              "      <td>6</td>\n",
              "      <td>0</td>\n",
              "      <td>0</td>\n",
              "      <td>0</td>\n",
              "      <td>24</td>\n",
              "      <td>24</td>\n",
              "      <td>21</td>\n",
              "      <td>729</td>\n",
              "    </tr>\n",
              "  </tbody>\n",
              "</table>\n",
              "</div>\n",
              "      <button class=\"colab-df-convert\" onclick=\"convertToInteractive('df-68b6a499-ed33-4743-9b57-a5754423d59e')\"\n",
              "              title=\"Convert this dataframe to an interactive table.\"\n",
              "              style=\"display:none;\">\n",
              "        \n",
              "  <svg xmlns=\"http://www.w3.org/2000/svg\" height=\"24px\"viewBox=\"0 0 24 24\"\n",
              "       width=\"24px\">\n",
              "    <path d=\"M0 0h24v24H0V0z\" fill=\"none\"/>\n",
              "    <path d=\"M18.56 5.44l.94 2.06.94-2.06 2.06-.94-2.06-.94-.94-2.06-.94 2.06-2.06.94zm-11 1L8.5 8.5l.94-2.06 2.06-.94-2.06-.94L8.5 2.5l-.94 2.06-2.06.94zm10 10l.94 2.06.94-2.06 2.06-.94-2.06-.94-.94-2.06-.94 2.06-2.06.94z\"/><path d=\"M17.41 7.96l-1.37-1.37c-.4-.4-.92-.59-1.43-.59-.52 0-1.04.2-1.43.59L10.3 9.45l-7.72 7.72c-.78.78-.78 2.05 0 2.83L4 21.41c.39.39.9.59 1.41.59.51 0 1.02-.2 1.41-.59l7.78-7.78 2.81-2.81c.8-.78.8-2.07 0-2.86zM5.41 20L4 18.59l7.72-7.72 1.47 1.35L5.41 20z\"/>\n",
              "  </svg>\n",
              "      </button>\n",
              "      \n",
              "  <style>\n",
              "    .colab-df-container {\n",
              "      display:flex;\n",
              "      flex-wrap:wrap;\n",
              "      gap: 12px;\n",
              "    }\n",
              "\n",
              "    .colab-df-convert {\n",
              "      background-color: #E8F0FE;\n",
              "      border: none;\n",
              "      border-radius: 50%;\n",
              "      cursor: pointer;\n",
              "      display: none;\n",
              "      fill: #1967D2;\n",
              "      height: 32px;\n",
              "      padding: 0 0 0 0;\n",
              "      width: 32px;\n",
              "    }\n",
              "\n",
              "    .colab-df-convert:hover {\n",
              "      background-color: #E2EBFA;\n",
              "      box-shadow: 0px 1px 2px rgba(60, 64, 67, 0.3), 0px 1px 3px 1px rgba(60, 64, 67, 0.15);\n",
              "      fill: #174EA6;\n",
              "    }\n",
              "\n",
              "    [theme=dark] .colab-df-convert {\n",
              "      background-color: #3B4455;\n",
              "      fill: #D2E3FC;\n",
              "    }\n",
              "\n",
              "    [theme=dark] .colab-df-convert:hover {\n",
              "      background-color: #434B5C;\n",
              "      box-shadow: 0px 1px 3px 1px rgba(0, 0, 0, 0.15);\n",
              "      filter: drop-shadow(0px 1px 2px rgba(0, 0, 0, 0.3));\n",
              "      fill: #FFFFFF;\n",
              "    }\n",
              "  </style>\n",
              "\n",
              "      <script>\n",
              "        const buttonEl =\n",
              "          document.querySelector('#df-68b6a499-ed33-4743-9b57-a5754423d59e button.colab-df-convert');\n",
              "        buttonEl.style.display =\n",
              "          google.colab.kernel.accessAllowed ? 'block' : 'none';\n",
              "\n",
              "        async function convertToInteractive(key) {\n",
              "          const element = document.querySelector('#df-68b6a499-ed33-4743-9b57-a5754423d59e');\n",
              "          const dataTable =\n",
              "            await google.colab.kernel.invokeFunction('convertToInteractive',\n",
              "                                                     [key], {});\n",
              "          if (!dataTable) return;\n",
              "\n",
              "          const docLinkHtml = 'Like what you see? Visit the ' +\n",
              "            '<a target=\"_blank\" href=https://colab.research.google.com/notebooks/data_table.ipynb>data table notebook</a>'\n",
              "            + ' to learn more about interactive tables.';\n",
              "          element.innerHTML = '';\n",
              "          dataTable['output_type'] = 'display_data';\n",
              "          await google.colab.output.renderOutput(dataTable, element);\n",
              "          const docLink = document.createElement('div');\n",
              "          docLink.innerHTML = docLinkHtml;\n",
              "          element.appendChild(docLink);\n",
              "        }\n",
              "      </script>\n",
              "    </div>\n",
              "  </div>\n",
              "  "
            ]
          },
          "metadata": {},
          "execution_count": 4
        }
      ]
    },
    {
      "cell_type": "code",
      "source": [
        "df_channels = pd.read_sql_query(\"SELECT * FROM channels\", con=conn)\n",
        "df_channels.head()"
      ],
      "metadata": {
        "colab": {
          "base_uri": "https://localhost:8080/",
          "height": 0
        },
        "outputId": "8989971f-a5cb-4586-abc2-a16a723b1b38",
        "id": "LVzWn-JWMXGu"
      },
      "execution_count": 5,
      "outputs": [
        {
          "output_type": "execute_result",
          "data": {
            "text/plain": [
              "                 channel_id channel_title channel_country  subscriber_count  \\\n",
              "0  UCHnyfMqiRRG1u-2MsSQLbXA    Veritasium              US          13100000   \n",
              "1  UCYO_jab_esuFRV4b17AJtAw   3Blue1Brown              US           4840000   \n",
              "2  UCJLtfES4K2aYCLFz-i5teFA   Tá Gravando              BR           1600000   \n",
              "3  UCQxWq7wL4HY40mqbr3f0Z2A       UMotivo              BR            103000   \n",
              "4  UCBFLqK7PAP9DQ3JpIrWFI7w     Pipocando              BR           4320000   \n",
              "\n",
              "   video_count                                   topic_categories  \\\n",
              "0          343  {https://en.wikipedia.org/wiki/Knowledge,https...   \n",
              "1          127          {https://en.wikipedia.org/wiki/Knowledge}   \n",
              "2          321  {https://en.wikipedia.org/wiki/Entertainment,h...   \n",
              "3         2528  {https://en.wikipedia.org/wiki/Strategy_video_...   \n",
              "4         1343  {https://en.wikipedia.org/wiki/Entertainment,h...   \n",
              "\n",
              "   total_view_count  \n",
              "0        1891837444  \n",
              "1         311356579  \n",
              "2         257307314  \n",
              "3          27752172  \n",
              "4         689510386  "
            ],
            "text/html": [
              "\n",
              "  <div id=\"df-ff330ed2-6877-4bfc-bc31-81315f3b6060\">\n",
              "    <div class=\"colab-df-container\">\n",
              "      <div>\n",
              "<style scoped>\n",
              "    .dataframe tbody tr th:only-of-type {\n",
              "        vertical-align: middle;\n",
              "    }\n",
              "\n",
              "    .dataframe tbody tr th {\n",
              "        vertical-align: top;\n",
              "    }\n",
              "\n",
              "    .dataframe thead th {\n",
              "        text-align: right;\n",
              "    }\n",
              "</style>\n",
              "<table border=\"1\" class=\"dataframe\">\n",
              "  <thead>\n",
              "    <tr style=\"text-align: right;\">\n",
              "      <th></th>\n",
              "      <th>channel_id</th>\n",
              "      <th>channel_title</th>\n",
              "      <th>channel_country</th>\n",
              "      <th>subscriber_count</th>\n",
              "      <th>video_count</th>\n",
              "      <th>topic_categories</th>\n",
              "      <th>total_view_count</th>\n",
              "    </tr>\n",
              "  </thead>\n",
              "  <tbody>\n",
              "    <tr>\n",
              "      <th>0</th>\n",
              "      <td>UCHnyfMqiRRG1u-2MsSQLbXA</td>\n",
              "      <td>Veritasium</td>\n",
              "      <td>US</td>\n",
              "      <td>13100000</td>\n",
              "      <td>343</td>\n",
              "      <td>{https://en.wikipedia.org/wiki/Knowledge,https...</td>\n",
              "      <td>1891837444</td>\n",
              "    </tr>\n",
              "    <tr>\n",
              "      <th>1</th>\n",
              "      <td>UCYO_jab_esuFRV4b17AJtAw</td>\n",
              "      <td>3Blue1Brown</td>\n",
              "      <td>US</td>\n",
              "      <td>4840000</td>\n",
              "      <td>127</td>\n",
              "      <td>{https://en.wikipedia.org/wiki/Knowledge}</td>\n",
              "      <td>311356579</td>\n",
              "    </tr>\n",
              "    <tr>\n",
              "      <th>2</th>\n",
              "      <td>UCJLtfES4K2aYCLFz-i5teFA</td>\n",
              "      <td>Tá Gravando</td>\n",
              "      <td>BR</td>\n",
              "      <td>1600000</td>\n",
              "      <td>321</td>\n",
              "      <td>{https://en.wikipedia.org/wiki/Entertainment,h...</td>\n",
              "      <td>257307314</td>\n",
              "    </tr>\n",
              "    <tr>\n",
              "      <th>3</th>\n",
              "      <td>UCQxWq7wL4HY40mqbr3f0Z2A</td>\n",
              "      <td>UMotivo</td>\n",
              "      <td>BR</td>\n",
              "      <td>103000</td>\n",
              "      <td>2528</td>\n",
              "      <td>{https://en.wikipedia.org/wiki/Strategy_video_...</td>\n",
              "      <td>27752172</td>\n",
              "    </tr>\n",
              "    <tr>\n",
              "      <th>4</th>\n",
              "      <td>UCBFLqK7PAP9DQ3JpIrWFI7w</td>\n",
              "      <td>Pipocando</td>\n",
              "      <td>BR</td>\n",
              "      <td>4320000</td>\n",
              "      <td>1343</td>\n",
              "      <td>{https://en.wikipedia.org/wiki/Entertainment,h...</td>\n",
              "      <td>689510386</td>\n",
              "    </tr>\n",
              "  </tbody>\n",
              "</table>\n",
              "</div>\n",
              "      <button class=\"colab-df-convert\" onclick=\"convertToInteractive('df-ff330ed2-6877-4bfc-bc31-81315f3b6060')\"\n",
              "              title=\"Convert this dataframe to an interactive table.\"\n",
              "              style=\"display:none;\">\n",
              "        \n",
              "  <svg xmlns=\"http://www.w3.org/2000/svg\" height=\"24px\"viewBox=\"0 0 24 24\"\n",
              "       width=\"24px\">\n",
              "    <path d=\"M0 0h24v24H0V0z\" fill=\"none\"/>\n",
              "    <path d=\"M18.56 5.44l.94 2.06.94-2.06 2.06-.94-2.06-.94-.94-2.06-.94 2.06-2.06.94zm-11 1L8.5 8.5l.94-2.06 2.06-.94-2.06-.94L8.5 2.5l-.94 2.06-2.06.94zm10 10l.94 2.06.94-2.06 2.06-.94-2.06-.94-.94-2.06-.94 2.06-2.06.94z\"/><path d=\"M17.41 7.96l-1.37-1.37c-.4-.4-.92-.59-1.43-.59-.52 0-1.04.2-1.43.59L10.3 9.45l-7.72 7.72c-.78.78-.78 2.05 0 2.83L4 21.41c.39.39.9.59 1.41.59.51 0 1.02-.2 1.41-.59l7.78-7.78 2.81-2.81c.8-.78.8-2.07 0-2.86zM5.41 20L4 18.59l7.72-7.72 1.47 1.35L5.41 20z\"/>\n",
              "  </svg>\n",
              "      </button>\n",
              "      \n",
              "  <style>\n",
              "    .colab-df-container {\n",
              "      display:flex;\n",
              "      flex-wrap:wrap;\n",
              "      gap: 12px;\n",
              "    }\n",
              "\n",
              "    .colab-df-convert {\n",
              "      background-color: #E8F0FE;\n",
              "      border: none;\n",
              "      border-radius: 50%;\n",
              "      cursor: pointer;\n",
              "      display: none;\n",
              "      fill: #1967D2;\n",
              "      height: 32px;\n",
              "      padding: 0 0 0 0;\n",
              "      width: 32px;\n",
              "    }\n",
              "\n",
              "    .colab-df-convert:hover {\n",
              "      background-color: #E2EBFA;\n",
              "      box-shadow: 0px 1px 2px rgba(60, 64, 67, 0.3), 0px 1px 3px 1px rgba(60, 64, 67, 0.15);\n",
              "      fill: #174EA6;\n",
              "    }\n",
              "\n",
              "    [theme=dark] .colab-df-convert {\n",
              "      background-color: #3B4455;\n",
              "      fill: #D2E3FC;\n",
              "    }\n",
              "\n",
              "    [theme=dark] .colab-df-convert:hover {\n",
              "      background-color: #434B5C;\n",
              "      box-shadow: 0px 1px 3px 1px rgba(0, 0, 0, 0.15);\n",
              "      filter: drop-shadow(0px 1px 2px rgba(0, 0, 0, 0.3));\n",
              "      fill: #FFFFFF;\n",
              "    }\n",
              "  </style>\n",
              "\n",
              "      <script>\n",
              "        const buttonEl =\n",
              "          document.querySelector('#df-ff330ed2-6877-4bfc-bc31-81315f3b6060 button.colab-df-convert');\n",
              "        buttonEl.style.display =\n",
              "          google.colab.kernel.accessAllowed ? 'block' : 'none';\n",
              "\n",
              "        async function convertToInteractive(key) {\n",
              "          const element = document.querySelector('#df-ff330ed2-6877-4bfc-bc31-81315f3b6060');\n",
              "          const dataTable =\n",
              "            await google.colab.kernel.invokeFunction('convertToInteractive',\n",
              "                                                     [key], {});\n",
              "          if (!dataTable) return;\n",
              "\n",
              "          const docLinkHtml = 'Like what you see? Visit the ' +\n",
              "            '<a target=\"_blank\" href=https://colab.research.google.com/notebooks/data_table.ipynb>data table notebook</a>'\n",
              "            + ' to learn more about interactive tables.';\n",
              "          element.innerHTML = '';\n",
              "          dataTable['output_type'] = 'display_data';\n",
              "          await google.colab.output.renderOutput(dataTable, element);\n",
              "          const docLink = document.createElement('div');\n",
              "          docLink.innerHTML = docLinkHtml;\n",
              "          element.appendChild(docLink);\n",
              "        }\n",
              "      </script>\n",
              "    </div>\n",
              "  </div>\n",
              "  "
            ]
          },
          "metadata": {},
          "execution_count": 5
        }
      ]
    },
    {
      "cell_type": "code",
      "source": [
        "youtube_df = df_videos.merge(df_channels, on='channel_id', how='left')\n",
        "youtube_df"
      ],
      "metadata": {
        "id": "mD1uIDe4MXGu",
        "colab": {
          "base_uri": "https://localhost:8080/",
          "height": 0
        },
        "outputId": "9f6e3743-7f1b-48ba-ca8d-a0d5d5f5aa93"
      },
      "execution_count": 6,
      "outputs": [
        {
          "output_type": "execute_result",
          "data": {
            "text/plain": [
              "         video_id                                        video_title  \\\n",
              "0     XxXKz9GtACg                      LFA - Aula 13 - Dia 1/04/2022   \n",
              "1     g63dqkcDOG4                      Mergesort (corretude e tempo)   \n",
              "2     pfCjJqTKvFY                                     Insertion Sort   \n",
              "3     xRkq-wMRHqk          Tempo de execução com notação assintótica   \n",
              "4     JlHfhLQ2qrc               Tempo de execução (análise de casos)   \n",
              "...           ...                                                ...   \n",
              "2852  uo8-4cC87D0                            FOI MAL, TAVA DOIDÃO! 🥴   \n",
              "2853  JMhTeemmnYs                 OS MELHORES XINGAMENTOS CONTRA MIM   \n",
              "2854  YtscNYNOz6k  AZORIUS DRAW GO → Partidas ÉPICAS e INESQUECÍV...   \n",
              "2855  5mClePLmQOc  Uma boa opção para o formato ARTESÃO! (Magic A...   \n",
              "2856  jMT-cO9bsA0  FELIZES PARA SEMPRE → O deck das partidas ÉPIC...   \n",
              "\n",
              "      view_count  like_count  comment_count                channel_id  \\\n",
              "0            350          11              3  UCYJv-TfmSU0xUuKI7N0zkJw   \n",
              "1            823          37              1  UCYJv-TfmSU0xUuKI7N0zkJw   \n",
              "2           1190          48              1  UCYJv-TfmSU0xUuKI7N0zkJw   \n",
              "3           1225          50              0  UCYJv-TfmSU0xUuKI7N0zkJw   \n",
              "4           1285          66              2  UCYJv-TfmSU0xUuKI7N0zkJw   \n",
              "...          ...         ...            ...                       ...   \n",
              "2852      848421      117096           1228  UCm2CE2YfpmobBmF8ARLPzAw   \n",
              "2853      720839      105143           1846  UCm2CE2YfpmobBmF8ARLPzAw   \n",
              "2854       15396        1071             85  UCQxWq7wL4HY40mqbr3f0Z2A   \n",
              "2855        5982         512             73  UCQxWq7wL4HY40mqbr3f0Z2A   \n",
              "2856       23216        1782            158  UCQxWq7wL4HY40mqbr3f0Z2A   \n",
              "\n",
              "                                         thumbnail_url  \\\n",
              "0     https://i.ytimg.com/vi/XxXKz9GtACg/hqdefault.jpg   \n",
              "1     https://i.ytimg.com/vi/g63dqkcDOG4/hqdefault.jpg   \n",
              "2     https://i.ytimg.com/vi/pfCjJqTKvFY/hqdefault.jpg   \n",
              "3     https://i.ytimg.com/vi/xRkq-wMRHqk/hqdefault.jpg   \n",
              "4     https://i.ytimg.com/vi/JlHfhLQ2qrc/hqdefault.jpg   \n",
              "...                                                ...   \n",
              "2852  https://i.ytimg.com/vi/uo8-4cC87D0/hqdefault.jpg   \n",
              "2853  https://i.ytimg.com/vi/JMhTeemmnYs/hqdefault.jpg   \n",
              "2854  https://i.ytimg.com/vi/YtscNYNOz6k/hqdefault.jpg   \n",
              "2855  https://i.ytimg.com/vi/5mClePLmQOc/hqdefault.jpg   \n",
              "2856  https://i.ytimg.com/vi/jMT-cO9bsA0/hqdefault.jpg   \n",
              "\n",
              "              upload_date_time  n_words_title  n_question_marks_title  ...  \\\n",
              "0    2022-04-01 18:58:04+00:00              7                       0  ...   \n",
              "1    2022-02-28 13:35:14+00:00              4                       0  ...   \n",
              "2    2022-02-18 18:19:10+00:00              2                       0  ...   \n",
              "3    2022-02-08 19:02:58+00:00              6                       0  ...   \n",
              "4    2022-02-08 14:30:03+00:00              6                       0  ...   \n",
              "...                        ...            ...                     ...  ...   \n",
              "2852 2020-02-11 13:00:15+00:00              4                       0  ...   \n",
              "2853 2020-01-11 19:57:30+00:00              5                       0  ...   \n",
              "2854 2019-11-07 15:03:08+00:00              9                       0  ...   \n",
              "2855 2019-11-05 11:19:43+00:00              9                       0  ...   \n",
              "2856 2019-11-01 17:11:17+00:00             10                       0  ...   \n",
              "\n",
              "      thumb_red  thumb_green  thumb_blue  video_duration     channel_title  \\\n",
              "0            57           58          57            6170  Carla Quem Disse   \n",
              "1            32           27          25            1424  Carla Quem Disse   \n",
              "2            33           27          25            3204  Carla Quem Disse   \n",
              "3            20           22          21            1366  Carla Quem Disse   \n",
              "4            24           24          21             729  Carla Quem Disse   \n",
              "...         ...          ...         ...             ...               ...   \n",
              "2852        111          104         109             505        Caue Moura   \n",
              "2853        110          102         127             444        Caue Moura   \n",
              "2854        106          115         124            3680           UMotivo   \n",
              "2855         77           82          81            2498           UMotivo   \n",
              "2856        104          121         132            2816           UMotivo   \n",
              "\n",
              "      channel_country subscriber_count video_count  \\\n",
              "0                  BR             2950         231   \n",
              "1                  BR             2950         231   \n",
              "2                  BR             2950         231   \n",
              "3                  BR             2950         231   \n",
              "4                  BR             2950         231   \n",
              "...               ...              ...         ...   \n",
              "2852               BR          5200000         875   \n",
              "2853               BR          5200000         875   \n",
              "2854               BR           103000        2528   \n",
              "2855               BR           103000        2528   \n",
              "2856               BR           103000        2528   \n",
              "\n",
              "                                       topic_categories  total_view_count  \n",
              "0             {https://en.wikipedia.org/wiki/Knowledge}            273933  \n",
              "1             {https://en.wikipedia.org/wiki/Knowledge}            273933  \n",
              "2             {https://en.wikipedia.org/wiki/Knowledge}            273933  \n",
              "3             {https://en.wikipedia.org/wiki/Knowledge}            273933  \n",
              "4             {https://en.wikipedia.org/wiki/Knowledge}            273933  \n",
              "...                                                 ...               ...  \n",
              "2852  {https://en.wikipedia.org/wiki/Lifestyle_(soci...         726810307  \n",
              "2853  {https://en.wikipedia.org/wiki/Lifestyle_(soci...         726810307  \n",
              "2854  {https://en.wikipedia.org/wiki/Strategy_video_...          27752172  \n",
              "2855  {https://en.wikipedia.org/wiki/Strategy_video_...          27752172  \n",
              "2856  {https://en.wikipedia.org/wiki/Strategy_video_...          27752172  \n",
              "\n",
              "[2857 rows x 22 columns]"
            ],
            "text/html": [
              "\n",
              "  <div id=\"df-73648ce4-a2ce-4f32-86ba-d4b065b08840\">\n",
              "    <div class=\"colab-df-container\">\n",
              "      <div>\n",
              "<style scoped>\n",
              "    .dataframe tbody tr th:only-of-type {\n",
              "        vertical-align: middle;\n",
              "    }\n",
              "\n",
              "    .dataframe tbody tr th {\n",
              "        vertical-align: top;\n",
              "    }\n",
              "\n",
              "    .dataframe thead th {\n",
              "        text-align: right;\n",
              "    }\n",
              "</style>\n",
              "<table border=\"1\" class=\"dataframe\">\n",
              "  <thead>\n",
              "    <tr style=\"text-align: right;\">\n",
              "      <th></th>\n",
              "      <th>video_id</th>\n",
              "      <th>video_title</th>\n",
              "      <th>view_count</th>\n",
              "      <th>like_count</th>\n",
              "      <th>comment_count</th>\n",
              "      <th>channel_id</th>\n",
              "      <th>thumbnail_url</th>\n",
              "      <th>upload_date_time</th>\n",
              "      <th>n_words_title</th>\n",
              "      <th>n_question_marks_title</th>\n",
              "      <th>...</th>\n",
              "      <th>thumb_red</th>\n",
              "      <th>thumb_green</th>\n",
              "      <th>thumb_blue</th>\n",
              "      <th>video_duration</th>\n",
              "      <th>channel_title</th>\n",
              "      <th>channel_country</th>\n",
              "      <th>subscriber_count</th>\n",
              "      <th>video_count</th>\n",
              "      <th>topic_categories</th>\n",
              "      <th>total_view_count</th>\n",
              "    </tr>\n",
              "  </thead>\n",
              "  <tbody>\n",
              "    <tr>\n",
              "      <th>0</th>\n",
              "      <td>XxXKz9GtACg</td>\n",
              "      <td>LFA - Aula 13 - Dia 1/04/2022</td>\n",
              "      <td>350</td>\n",
              "      <td>11</td>\n",
              "      <td>3</td>\n",
              "      <td>UCYJv-TfmSU0xUuKI7N0zkJw</td>\n",
              "      <td>https://i.ytimg.com/vi/XxXKz9GtACg/hqdefault.jpg</td>\n",
              "      <td>2022-04-01 18:58:04+00:00</td>\n",
              "      <td>7</td>\n",
              "      <td>0</td>\n",
              "      <td>...</td>\n",
              "      <td>57</td>\n",
              "      <td>58</td>\n",
              "      <td>57</td>\n",
              "      <td>6170</td>\n",
              "      <td>Carla Quem Disse</td>\n",
              "      <td>BR</td>\n",
              "      <td>2950</td>\n",
              "      <td>231</td>\n",
              "      <td>{https://en.wikipedia.org/wiki/Knowledge}</td>\n",
              "      <td>273933</td>\n",
              "    </tr>\n",
              "    <tr>\n",
              "      <th>1</th>\n",
              "      <td>g63dqkcDOG4</td>\n",
              "      <td>Mergesort (corretude e tempo)</td>\n",
              "      <td>823</td>\n",
              "      <td>37</td>\n",
              "      <td>1</td>\n",
              "      <td>UCYJv-TfmSU0xUuKI7N0zkJw</td>\n",
              "      <td>https://i.ytimg.com/vi/g63dqkcDOG4/hqdefault.jpg</td>\n",
              "      <td>2022-02-28 13:35:14+00:00</td>\n",
              "      <td>4</td>\n",
              "      <td>0</td>\n",
              "      <td>...</td>\n",
              "      <td>32</td>\n",
              "      <td>27</td>\n",
              "      <td>25</td>\n",
              "      <td>1424</td>\n",
              "      <td>Carla Quem Disse</td>\n",
              "      <td>BR</td>\n",
              "      <td>2950</td>\n",
              "      <td>231</td>\n",
              "      <td>{https://en.wikipedia.org/wiki/Knowledge}</td>\n",
              "      <td>273933</td>\n",
              "    </tr>\n",
              "    <tr>\n",
              "      <th>2</th>\n",
              "      <td>pfCjJqTKvFY</td>\n",
              "      <td>Insertion Sort</td>\n",
              "      <td>1190</td>\n",
              "      <td>48</td>\n",
              "      <td>1</td>\n",
              "      <td>UCYJv-TfmSU0xUuKI7N0zkJw</td>\n",
              "      <td>https://i.ytimg.com/vi/pfCjJqTKvFY/hqdefault.jpg</td>\n",
              "      <td>2022-02-18 18:19:10+00:00</td>\n",
              "      <td>2</td>\n",
              "      <td>0</td>\n",
              "      <td>...</td>\n",
              "      <td>33</td>\n",
              "      <td>27</td>\n",
              "      <td>25</td>\n",
              "      <td>3204</td>\n",
              "      <td>Carla Quem Disse</td>\n",
              "      <td>BR</td>\n",
              "      <td>2950</td>\n",
              "      <td>231</td>\n",
              "      <td>{https://en.wikipedia.org/wiki/Knowledge}</td>\n",
              "      <td>273933</td>\n",
              "    </tr>\n",
              "    <tr>\n",
              "      <th>3</th>\n",
              "      <td>xRkq-wMRHqk</td>\n",
              "      <td>Tempo de execução com notação assintótica</td>\n",
              "      <td>1225</td>\n",
              "      <td>50</td>\n",
              "      <td>0</td>\n",
              "      <td>UCYJv-TfmSU0xUuKI7N0zkJw</td>\n",
              "      <td>https://i.ytimg.com/vi/xRkq-wMRHqk/hqdefault.jpg</td>\n",
              "      <td>2022-02-08 19:02:58+00:00</td>\n",
              "      <td>6</td>\n",
              "      <td>0</td>\n",
              "      <td>...</td>\n",
              "      <td>20</td>\n",
              "      <td>22</td>\n",
              "      <td>21</td>\n",
              "      <td>1366</td>\n",
              "      <td>Carla Quem Disse</td>\n",
              "      <td>BR</td>\n",
              "      <td>2950</td>\n",
              "      <td>231</td>\n",
              "      <td>{https://en.wikipedia.org/wiki/Knowledge}</td>\n",
              "      <td>273933</td>\n",
              "    </tr>\n",
              "    <tr>\n",
              "      <th>4</th>\n",
              "      <td>JlHfhLQ2qrc</td>\n",
              "      <td>Tempo de execução (análise de casos)</td>\n",
              "      <td>1285</td>\n",
              "      <td>66</td>\n",
              "      <td>2</td>\n",
              "      <td>UCYJv-TfmSU0xUuKI7N0zkJw</td>\n",
              "      <td>https://i.ytimg.com/vi/JlHfhLQ2qrc/hqdefault.jpg</td>\n",
              "      <td>2022-02-08 14:30:03+00:00</td>\n",
              "      <td>6</td>\n",
              "      <td>0</td>\n",
              "      <td>...</td>\n",
              "      <td>24</td>\n",
              "      <td>24</td>\n",
              "      <td>21</td>\n",
              "      <td>729</td>\n",
              "      <td>Carla Quem Disse</td>\n",
              "      <td>BR</td>\n",
              "      <td>2950</td>\n",
              "      <td>231</td>\n",
              "      <td>{https://en.wikipedia.org/wiki/Knowledge}</td>\n",
              "      <td>273933</td>\n",
              "    </tr>\n",
              "    <tr>\n",
              "      <th>...</th>\n",
              "      <td>...</td>\n",
              "      <td>...</td>\n",
              "      <td>...</td>\n",
              "      <td>...</td>\n",
              "      <td>...</td>\n",
              "      <td>...</td>\n",
              "      <td>...</td>\n",
              "      <td>...</td>\n",
              "      <td>...</td>\n",
              "      <td>...</td>\n",
              "      <td>...</td>\n",
              "      <td>...</td>\n",
              "      <td>...</td>\n",
              "      <td>...</td>\n",
              "      <td>...</td>\n",
              "      <td>...</td>\n",
              "      <td>...</td>\n",
              "      <td>...</td>\n",
              "      <td>...</td>\n",
              "      <td>...</td>\n",
              "      <td>...</td>\n",
              "    </tr>\n",
              "    <tr>\n",
              "      <th>2852</th>\n",
              "      <td>uo8-4cC87D0</td>\n",
              "      <td>FOI MAL, TAVA DOIDÃO! 🥴</td>\n",
              "      <td>848421</td>\n",
              "      <td>117096</td>\n",
              "      <td>1228</td>\n",
              "      <td>UCm2CE2YfpmobBmF8ARLPzAw</td>\n",
              "      <td>https://i.ytimg.com/vi/uo8-4cC87D0/hqdefault.jpg</td>\n",
              "      <td>2020-02-11 13:00:15+00:00</td>\n",
              "      <td>4</td>\n",
              "      <td>0</td>\n",
              "      <td>...</td>\n",
              "      <td>111</td>\n",
              "      <td>104</td>\n",
              "      <td>109</td>\n",
              "      <td>505</td>\n",
              "      <td>Caue Moura</td>\n",
              "      <td>BR</td>\n",
              "      <td>5200000</td>\n",
              "      <td>875</td>\n",
              "      <td>{https://en.wikipedia.org/wiki/Lifestyle_(soci...</td>\n",
              "      <td>726810307</td>\n",
              "    </tr>\n",
              "    <tr>\n",
              "      <th>2853</th>\n",
              "      <td>JMhTeemmnYs</td>\n",
              "      <td>OS MELHORES XINGAMENTOS CONTRA MIM</td>\n",
              "      <td>720839</td>\n",
              "      <td>105143</td>\n",
              "      <td>1846</td>\n",
              "      <td>UCm2CE2YfpmobBmF8ARLPzAw</td>\n",
              "      <td>https://i.ytimg.com/vi/JMhTeemmnYs/hqdefault.jpg</td>\n",
              "      <td>2020-01-11 19:57:30+00:00</td>\n",
              "      <td>5</td>\n",
              "      <td>0</td>\n",
              "      <td>...</td>\n",
              "      <td>110</td>\n",
              "      <td>102</td>\n",
              "      <td>127</td>\n",
              "      <td>444</td>\n",
              "      <td>Caue Moura</td>\n",
              "      <td>BR</td>\n",
              "      <td>5200000</td>\n",
              "      <td>875</td>\n",
              "      <td>{https://en.wikipedia.org/wiki/Lifestyle_(soci...</td>\n",
              "      <td>726810307</td>\n",
              "    </tr>\n",
              "    <tr>\n",
              "      <th>2854</th>\n",
              "      <td>YtscNYNOz6k</td>\n",
              "      <td>AZORIUS DRAW GO → Partidas ÉPICAS e INESQUECÍV...</td>\n",
              "      <td>15396</td>\n",
              "      <td>1071</td>\n",
              "      <td>85</td>\n",
              "      <td>UCQxWq7wL4HY40mqbr3f0Z2A</td>\n",
              "      <td>https://i.ytimg.com/vi/YtscNYNOz6k/hqdefault.jpg</td>\n",
              "      <td>2019-11-07 15:03:08+00:00</td>\n",
              "      <td>9</td>\n",
              "      <td>0</td>\n",
              "      <td>...</td>\n",
              "      <td>106</td>\n",
              "      <td>115</td>\n",
              "      <td>124</td>\n",
              "      <td>3680</td>\n",
              "      <td>UMotivo</td>\n",
              "      <td>BR</td>\n",
              "      <td>103000</td>\n",
              "      <td>2528</td>\n",
              "      <td>{https://en.wikipedia.org/wiki/Strategy_video_...</td>\n",
              "      <td>27752172</td>\n",
              "    </tr>\n",
              "    <tr>\n",
              "      <th>2855</th>\n",
              "      <td>5mClePLmQOc</td>\n",
              "      <td>Uma boa opção para o formato ARTESÃO! (Magic A...</td>\n",
              "      <td>5982</td>\n",
              "      <td>512</td>\n",
              "      <td>73</td>\n",
              "      <td>UCQxWq7wL4HY40mqbr3f0Z2A</td>\n",
              "      <td>https://i.ytimg.com/vi/5mClePLmQOc/hqdefault.jpg</td>\n",
              "      <td>2019-11-05 11:19:43+00:00</td>\n",
              "      <td>9</td>\n",
              "      <td>0</td>\n",
              "      <td>...</td>\n",
              "      <td>77</td>\n",
              "      <td>82</td>\n",
              "      <td>81</td>\n",
              "      <td>2498</td>\n",
              "      <td>UMotivo</td>\n",
              "      <td>BR</td>\n",
              "      <td>103000</td>\n",
              "      <td>2528</td>\n",
              "      <td>{https://en.wikipedia.org/wiki/Strategy_video_...</td>\n",
              "      <td>27752172</td>\n",
              "    </tr>\n",
              "    <tr>\n",
              "      <th>2856</th>\n",
              "      <td>jMT-cO9bsA0</td>\n",
              "      <td>FELIZES PARA SEMPRE → O deck das partidas ÉPIC...</td>\n",
              "      <td>23216</td>\n",
              "      <td>1782</td>\n",
              "      <td>158</td>\n",
              "      <td>UCQxWq7wL4HY40mqbr3f0Z2A</td>\n",
              "      <td>https://i.ytimg.com/vi/jMT-cO9bsA0/hqdefault.jpg</td>\n",
              "      <td>2019-11-01 17:11:17+00:00</td>\n",
              "      <td>10</td>\n",
              "      <td>0</td>\n",
              "      <td>...</td>\n",
              "      <td>104</td>\n",
              "      <td>121</td>\n",
              "      <td>132</td>\n",
              "      <td>2816</td>\n",
              "      <td>UMotivo</td>\n",
              "      <td>BR</td>\n",
              "      <td>103000</td>\n",
              "      <td>2528</td>\n",
              "      <td>{https://en.wikipedia.org/wiki/Strategy_video_...</td>\n",
              "      <td>27752172</td>\n",
              "    </tr>\n",
              "  </tbody>\n",
              "</table>\n",
              "<p>2857 rows × 22 columns</p>\n",
              "</div>\n",
              "      <button class=\"colab-df-convert\" onclick=\"convertToInteractive('df-73648ce4-a2ce-4f32-86ba-d4b065b08840')\"\n",
              "              title=\"Convert this dataframe to an interactive table.\"\n",
              "              style=\"display:none;\">\n",
              "        \n",
              "  <svg xmlns=\"http://www.w3.org/2000/svg\" height=\"24px\"viewBox=\"0 0 24 24\"\n",
              "       width=\"24px\">\n",
              "    <path d=\"M0 0h24v24H0V0z\" fill=\"none\"/>\n",
              "    <path d=\"M18.56 5.44l.94 2.06.94-2.06 2.06-.94-2.06-.94-.94-2.06-.94 2.06-2.06.94zm-11 1L8.5 8.5l.94-2.06 2.06-.94-2.06-.94L8.5 2.5l-.94 2.06-2.06.94zm10 10l.94 2.06.94-2.06 2.06-.94-2.06-.94-.94-2.06-.94 2.06-2.06.94z\"/><path d=\"M17.41 7.96l-1.37-1.37c-.4-.4-.92-.59-1.43-.59-.52 0-1.04.2-1.43.59L10.3 9.45l-7.72 7.72c-.78.78-.78 2.05 0 2.83L4 21.41c.39.39.9.59 1.41.59.51 0 1.02-.2 1.41-.59l7.78-7.78 2.81-2.81c.8-.78.8-2.07 0-2.86zM5.41 20L4 18.59l7.72-7.72 1.47 1.35L5.41 20z\"/>\n",
              "  </svg>\n",
              "      </button>\n",
              "      \n",
              "  <style>\n",
              "    .colab-df-container {\n",
              "      display:flex;\n",
              "      flex-wrap:wrap;\n",
              "      gap: 12px;\n",
              "    }\n",
              "\n",
              "    .colab-df-convert {\n",
              "      background-color: #E8F0FE;\n",
              "      border: none;\n",
              "      border-radius: 50%;\n",
              "      cursor: pointer;\n",
              "      display: none;\n",
              "      fill: #1967D2;\n",
              "      height: 32px;\n",
              "      padding: 0 0 0 0;\n",
              "      width: 32px;\n",
              "    }\n",
              "\n",
              "    .colab-df-convert:hover {\n",
              "      background-color: #E2EBFA;\n",
              "      box-shadow: 0px 1px 2px rgba(60, 64, 67, 0.3), 0px 1px 3px 1px rgba(60, 64, 67, 0.15);\n",
              "      fill: #174EA6;\n",
              "    }\n",
              "\n",
              "    [theme=dark] .colab-df-convert {\n",
              "      background-color: #3B4455;\n",
              "      fill: #D2E3FC;\n",
              "    }\n",
              "\n",
              "    [theme=dark] .colab-df-convert:hover {\n",
              "      background-color: #434B5C;\n",
              "      box-shadow: 0px 1px 3px 1px rgba(0, 0, 0, 0.15);\n",
              "      filter: drop-shadow(0px 1px 2px rgba(0, 0, 0, 0.3));\n",
              "      fill: #FFFFFF;\n",
              "    }\n",
              "  </style>\n",
              "\n",
              "      <script>\n",
              "        const buttonEl =\n",
              "          document.querySelector('#df-73648ce4-a2ce-4f32-86ba-d4b065b08840 button.colab-df-convert');\n",
              "        buttonEl.style.display =\n",
              "          google.colab.kernel.accessAllowed ? 'block' : 'none';\n",
              "\n",
              "        async function convertToInteractive(key) {\n",
              "          const element = document.querySelector('#df-73648ce4-a2ce-4f32-86ba-d4b065b08840');\n",
              "          const dataTable =\n",
              "            await google.colab.kernel.invokeFunction('convertToInteractive',\n",
              "                                                     [key], {});\n",
              "          if (!dataTable) return;\n",
              "\n",
              "          const docLinkHtml = 'Like what you see? Visit the ' +\n",
              "            '<a target=\"_blank\" href=https://colab.research.google.com/notebooks/data_table.ipynb>data table notebook</a>'\n",
              "            + ' to learn more about interactive tables.';\n",
              "          element.innerHTML = '';\n",
              "          dataTable['output_type'] = 'display_data';\n",
              "          await google.colab.output.renderOutput(dataTable, element);\n",
              "          const docLink = document.createElement('div');\n",
              "          docLink.innerHTML = docLinkHtml;\n",
              "          element.appendChild(docLink);\n",
              "        }\n",
              "      </script>\n",
              "    </div>\n",
              "  </div>\n",
              "  "
            ]
          },
          "metadata": {},
          "execution_count": 6
        }
      ]
    },
    {
      "cell_type": "markdown",
      "source": [
        "## 1.3) Simple transformations on data\n",
        "Get the name of the day and the local hour it was published (considering the timezone)."
      ],
      "metadata": {
        "id": "pJ8e4eDwj52t"
      }
    },
    {
      "cell_type": "markdown",
      "source": [
        "### 1.3.1) Get name of the day"
      ],
      "metadata": {
        "id": "lX39XWA5l5wR"
      }
    },
    {
      "cell_type": "code",
      "source": [
        "youtube_df['upload_day_name'] = youtube_df['upload_date_time'].dt.day_name()\n",
        "youtube_df[['video_title','upload_date_time','upload_day_name']].head()"
      ],
      "metadata": {
        "colab": {
          "base_uri": "https://localhost:8080/",
          "height": 0
        },
        "id": "Juvi8Cz7kFdH",
        "outputId": "4f2d89b9-5560-469a-a809-753ad30fd978"
      },
      "execution_count": 7,
      "outputs": [
        {
          "output_type": "execute_result",
          "data": {
            "text/plain": [
              "                                 video_title          upload_date_time  \\\n",
              "0              LFA - Aula 13 - Dia 1/04/2022 2022-04-01 18:58:04+00:00   \n",
              "1              Mergesort (corretude e tempo) 2022-02-28 13:35:14+00:00   \n",
              "2                             Insertion Sort 2022-02-18 18:19:10+00:00   \n",
              "3  Tempo de execução com notação assintótica 2022-02-08 19:02:58+00:00   \n",
              "4       Tempo de execução (análise de casos) 2022-02-08 14:30:03+00:00   \n",
              "\n",
              "  upload_day_name  \n",
              "0          Friday  \n",
              "1          Monday  \n",
              "2          Friday  \n",
              "3         Tuesday  \n",
              "4         Tuesday  "
            ],
            "text/html": [
              "\n",
              "  <div id=\"df-442a5206-81bc-44d1-9b93-0a06b1f804de\">\n",
              "    <div class=\"colab-df-container\">\n",
              "      <div>\n",
              "<style scoped>\n",
              "    .dataframe tbody tr th:only-of-type {\n",
              "        vertical-align: middle;\n",
              "    }\n",
              "\n",
              "    .dataframe tbody tr th {\n",
              "        vertical-align: top;\n",
              "    }\n",
              "\n",
              "    .dataframe thead th {\n",
              "        text-align: right;\n",
              "    }\n",
              "</style>\n",
              "<table border=\"1\" class=\"dataframe\">\n",
              "  <thead>\n",
              "    <tr style=\"text-align: right;\">\n",
              "      <th></th>\n",
              "      <th>video_title</th>\n",
              "      <th>upload_date_time</th>\n",
              "      <th>upload_day_name</th>\n",
              "    </tr>\n",
              "  </thead>\n",
              "  <tbody>\n",
              "    <tr>\n",
              "      <th>0</th>\n",
              "      <td>LFA - Aula 13 - Dia 1/04/2022</td>\n",
              "      <td>2022-04-01 18:58:04+00:00</td>\n",
              "      <td>Friday</td>\n",
              "    </tr>\n",
              "    <tr>\n",
              "      <th>1</th>\n",
              "      <td>Mergesort (corretude e tempo)</td>\n",
              "      <td>2022-02-28 13:35:14+00:00</td>\n",
              "      <td>Monday</td>\n",
              "    </tr>\n",
              "    <tr>\n",
              "      <th>2</th>\n",
              "      <td>Insertion Sort</td>\n",
              "      <td>2022-02-18 18:19:10+00:00</td>\n",
              "      <td>Friday</td>\n",
              "    </tr>\n",
              "    <tr>\n",
              "      <th>3</th>\n",
              "      <td>Tempo de execução com notação assintótica</td>\n",
              "      <td>2022-02-08 19:02:58+00:00</td>\n",
              "      <td>Tuesday</td>\n",
              "    </tr>\n",
              "    <tr>\n",
              "      <th>4</th>\n",
              "      <td>Tempo de execução (análise de casos)</td>\n",
              "      <td>2022-02-08 14:30:03+00:00</td>\n",
              "      <td>Tuesday</td>\n",
              "    </tr>\n",
              "  </tbody>\n",
              "</table>\n",
              "</div>\n",
              "      <button class=\"colab-df-convert\" onclick=\"convertToInteractive('df-442a5206-81bc-44d1-9b93-0a06b1f804de')\"\n",
              "              title=\"Convert this dataframe to an interactive table.\"\n",
              "              style=\"display:none;\">\n",
              "        \n",
              "  <svg xmlns=\"http://www.w3.org/2000/svg\" height=\"24px\"viewBox=\"0 0 24 24\"\n",
              "       width=\"24px\">\n",
              "    <path d=\"M0 0h24v24H0V0z\" fill=\"none\"/>\n",
              "    <path d=\"M18.56 5.44l.94 2.06.94-2.06 2.06-.94-2.06-.94-.94-2.06-.94 2.06-2.06.94zm-11 1L8.5 8.5l.94-2.06 2.06-.94-2.06-.94L8.5 2.5l-.94 2.06-2.06.94zm10 10l.94 2.06.94-2.06 2.06-.94-2.06-.94-.94-2.06-.94 2.06-2.06.94z\"/><path d=\"M17.41 7.96l-1.37-1.37c-.4-.4-.92-.59-1.43-.59-.52 0-1.04.2-1.43.59L10.3 9.45l-7.72 7.72c-.78.78-.78 2.05 0 2.83L4 21.41c.39.39.9.59 1.41.59.51 0 1.02-.2 1.41-.59l7.78-7.78 2.81-2.81c.8-.78.8-2.07 0-2.86zM5.41 20L4 18.59l7.72-7.72 1.47 1.35L5.41 20z\"/>\n",
              "  </svg>\n",
              "      </button>\n",
              "      \n",
              "  <style>\n",
              "    .colab-df-container {\n",
              "      display:flex;\n",
              "      flex-wrap:wrap;\n",
              "      gap: 12px;\n",
              "    }\n",
              "\n",
              "    .colab-df-convert {\n",
              "      background-color: #E8F0FE;\n",
              "      border: none;\n",
              "      border-radius: 50%;\n",
              "      cursor: pointer;\n",
              "      display: none;\n",
              "      fill: #1967D2;\n",
              "      height: 32px;\n",
              "      padding: 0 0 0 0;\n",
              "      width: 32px;\n",
              "    }\n",
              "\n",
              "    .colab-df-convert:hover {\n",
              "      background-color: #E2EBFA;\n",
              "      box-shadow: 0px 1px 2px rgba(60, 64, 67, 0.3), 0px 1px 3px 1px rgba(60, 64, 67, 0.15);\n",
              "      fill: #174EA6;\n",
              "    }\n",
              "\n",
              "    [theme=dark] .colab-df-convert {\n",
              "      background-color: #3B4455;\n",
              "      fill: #D2E3FC;\n",
              "    }\n",
              "\n",
              "    [theme=dark] .colab-df-convert:hover {\n",
              "      background-color: #434B5C;\n",
              "      box-shadow: 0px 1px 3px 1px rgba(0, 0, 0, 0.15);\n",
              "      filter: drop-shadow(0px 1px 2px rgba(0, 0, 0, 0.3));\n",
              "      fill: #FFFFFF;\n",
              "    }\n",
              "  </style>\n",
              "\n",
              "      <script>\n",
              "        const buttonEl =\n",
              "          document.querySelector('#df-442a5206-81bc-44d1-9b93-0a06b1f804de button.colab-df-convert');\n",
              "        buttonEl.style.display =\n",
              "          google.colab.kernel.accessAllowed ? 'block' : 'none';\n",
              "\n",
              "        async function convertToInteractive(key) {\n",
              "          const element = document.querySelector('#df-442a5206-81bc-44d1-9b93-0a06b1f804de');\n",
              "          const dataTable =\n",
              "            await google.colab.kernel.invokeFunction('convertToInteractive',\n",
              "                                                     [key], {});\n",
              "          if (!dataTable) return;\n",
              "\n",
              "          const docLinkHtml = 'Like what you see? Visit the ' +\n",
              "            '<a target=\"_blank\" href=https://colab.research.google.com/notebooks/data_table.ipynb>data table notebook</a>'\n",
              "            + ' to learn more about interactive tables.';\n",
              "          element.innerHTML = '';\n",
              "          dataTable['output_type'] = 'display_data';\n",
              "          await google.colab.output.renderOutput(dataTable, element);\n",
              "          const docLink = document.createElement('div');\n",
              "          docLink.innerHTML = docLinkHtml;\n",
              "          element.appendChild(docLink);\n",
              "        }\n",
              "      </script>\n",
              "    </div>\n",
              "  </div>\n",
              "  "
            ]
          },
          "metadata": {},
          "execution_count": 7
        }
      ]
    },
    {
      "cell_type": "markdown",
      "source": [
        "### 1.3.2) Get hour\n",
        "We need to pay close attention when dealing with time. Some channels are located in Brazil, while some are based in the US. When we extracted the data from Youtube's API, it gave us the time in UTC. We need to transform it to the local upload hour, that is, for a video from a brazilian channel, it should be the upload hour of Brazil (we will simplify and assume that there's only one timezone in Brazil). Similarly, for a video from a US channel, it should be the upload hour of the US (again, assuming only one timezone in the US).\n"
      ],
      "metadata": {
        "id": "YFJJot5al9qE"
      }
    },
    {
      "cell_type": "code",
      "source": [
        "# Group by country, convert the timezone to channel's country time, convert to string removing the timezone suffix and convert back to pandas datetime\n",
        "youtube_df['upload_hour_local'] = (pd.to_datetime(\\\n",
        "                                                youtube_df.groupby('channel_country')['upload_date_time']\\\n",
        "                                                .transform(lambda x: x.dt.tz_convert(country_timezones(x.name)[0]))\\\n",
        "                                                .astype(str).str[:-6]))\n",
        "youtube_df['upload_hour_local'] = youtube_df['upload_hour_local'].dt.strftime('%H').add(':00')\n",
        "youtube_df[['video_title','upload_date_time','upload_hour_local']]"
      ],
      "metadata": {
        "colab": {
          "base_uri": "https://localhost:8080/",
          "height": 424
        },
        "id": "9_EOELFQkO9l",
        "outputId": "88e4531e-e76c-4601-c63f-56d87ccbd775"
      },
      "execution_count": 8,
      "outputs": [
        {
          "output_type": "execute_result",
          "data": {
            "text/plain": [
              "                                            video_title  \\\n",
              "0                         LFA - Aula 13 - Dia 1/04/2022   \n",
              "1                         Mergesort (corretude e tempo)   \n",
              "2                                        Insertion Sort   \n",
              "3             Tempo de execução com notação assintótica   \n",
              "4                  Tempo de execução (análise de casos)   \n",
              "...                                                 ...   \n",
              "2852                            FOI MAL, TAVA DOIDÃO! 🥴   \n",
              "2853                 OS MELHORES XINGAMENTOS CONTRA MIM   \n",
              "2854  AZORIUS DRAW GO → Partidas ÉPICAS e INESQUECÍV...   \n",
              "2855  Uma boa opção para o formato ARTESÃO! (Magic A...   \n",
              "2856  FELIZES PARA SEMPRE → O deck das partidas ÉPIC...   \n",
              "\n",
              "              upload_date_time upload_hour_local  \n",
              "0    2022-04-01 18:58:04+00:00             16:00  \n",
              "1    2022-02-28 13:35:14+00:00             11:00  \n",
              "2    2022-02-18 18:19:10+00:00             16:00  \n",
              "3    2022-02-08 19:02:58+00:00             17:00  \n",
              "4    2022-02-08 14:30:03+00:00             12:00  \n",
              "...                        ...               ...  \n",
              "2852 2020-02-11 13:00:15+00:00             11:00  \n",
              "2853 2020-01-11 19:57:30+00:00             17:00  \n",
              "2854 2019-11-07 15:03:08+00:00             13:00  \n",
              "2855 2019-11-05 11:19:43+00:00             09:00  \n",
              "2856 2019-11-01 17:11:17+00:00             15:00  \n",
              "\n",
              "[2857 rows x 3 columns]"
            ],
            "text/html": [
              "\n",
              "  <div id=\"df-b943081a-cf4f-4210-9057-7baf3466006a\">\n",
              "    <div class=\"colab-df-container\">\n",
              "      <div>\n",
              "<style scoped>\n",
              "    .dataframe tbody tr th:only-of-type {\n",
              "        vertical-align: middle;\n",
              "    }\n",
              "\n",
              "    .dataframe tbody tr th {\n",
              "        vertical-align: top;\n",
              "    }\n",
              "\n",
              "    .dataframe thead th {\n",
              "        text-align: right;\n",
              "    }\n",
              "</style>\n",
              "<table border=\"1\" class=\"dataframe\">\n",
              "  <thead>\n",
              "    <tr style=\"text-align: right;\">\n",
              "      <th></th>\n",
              "      <th>video_title</th>\n",
              "      <th>upload_date_time</th>\n",
              "      <th>upload_hour_local</th>\n",
              "    </tr>\n",
              "  </thead>\n",
              "  <tbody>\n",
              "    <tr>\n",
              "      <th>0</th>\n",
              "      <td>LFA - Aula 13 - Dia 1/04/2022</td>\n",
              "      <td>2022-04-01 18:58:04+00:00</td>\n",
              "      <td>16:00</td>\n",
              "    </tr>\n",
              "    <tr>\n",
              "      <th>1</th>\n",
              "      <td>Mergesort (corretude e tempo)</td>\n",
              "      <td>2022-02-28 13:35:14+00:00</td>\n",
              "      <td>11:00</td>\n",
              "    </tr>\n",
              "    <tr>\n",
              "      <th>2</th>\n",
              "      <td>Insertion Sort</td>\n",
              "      <td>2022-02-18 18:19:10+00:00</td>\n",
              "      <td>16:00</td>\n",
              "    </tr>\n",
              "    <tr>\n",
              "      <th>3</th>\n",
              "      <td>Tempo de execução com notação assintótica</td>\n",
              "      <td>2022-02-08 19:02:58+00:00</td>\n",
              "      <td>17:00</td>\n",
              "    </tr>\n",
              "    <tr>\n",
              "      <th>4</th>\n",
              "      <td>Tempo de execução (análise de casos)</td>\n",
              "      <td>2022-02-08 14:30:03+00:00</td>\n",
              "      <td>12:00</td>\n",
              "    </tr>\n",
              "    <tr>\n",
              "      <th>...</th>\n",
              "      <td>...</td>\n",
              "      <td>...</td>\n",
              "      <td>...</td>\n",
              "    </tr>\n",
              "    <tr>\n",
              "      <th>2852</th>\n",
              "      <td>FOI MAL, TAVA DOIDÃO! 🥴</td>\n",
              "      <td>2020-02-11 13:00:15+00:00</td>\n",
              "      <td>11:00</td>\n",
              "    </tr>\n",
              "    <tr>\n",
              "      <th>2853</th>\n",
              "      <td>OS MELHORES XINGAMENTOS CONTRA MIM</td>\n",
              "      <td>2020-01-11 19:57:30+00:00</td>\n",
              "      <td>17:00</td>\n",
              "    </tr>\n",
              "    <tr>\n",
              "      <th>2854</th>\n",
              "      <td>AZORIUS DRAW GO → Partidas ÉPICAS e INESQUECÍV...</td>\n",
              "      <td>2019-11-07 15:03:08+00:00</td>\n",
              "      <td>13:00</td>\n",
              "    </tr>\n",
              "    <tr>\n",
              "      <th>2855</th>\n",
              "      <td>Uma boa opção para o formato ARTESÃO! (Magic A...</td>\n",
              "      <td>2019-11-05 11:19:43+00:00</td>\n",
              "      <td>09:00</td>\n",
              "    </tr>\n",
              "    <tr>\n",
              "      <th>2856</th>\n",
              "      <td>FELIZES PARA SEMPRE → O deck das partidas ÉPIC...</td>\n",
              "      <td>2019-11-01 17:11:17+00:00</td>\n",
              "      <td>15:00</td>\n",
              "    </tr>\n",
              "  </tbody>\n",
              "</table>\n",
              "<p>2857 rows × 3 columns</p>\n",
              "</div>\n",
              "      <button class=\"colab-df-convert\" onclick=\"convertToInteractive('df-b943081a-cf4f-4210-9057-7baf3466006a')\"\n",
              "              title=\"Convert this dataframe to an interactive table.\"\n",
              "              style=\"display:none;\">\n",
              "        \n",
              "  <svg xmlns=\"http://www.w3.org/2000/svg\" height=\"24px\"viewBox=\"0 0 24 24\"\n",
              "       width=\"24px\">\n",
              "    <path d=\"M0 0h24v24H0V0z\" fill=\"none\"/>\n",
              "    <path d=\"M18.56 5.44l.94 2.06.94-2.06 2.06-.94-2.06-.94-.94-2.06-.94 2.06-2.06.94zm-11 1L8.5 8.5l.94-2.06 2.06-.94-2.06-.94L8.5 2.5l-.94 2.06-2.06.94zm10 10l.94 2.06.94-2.06 2.06-.94-2.06-.94-.94-2.06-.94 2.06-2.06.94z\"/><path d=\"M17.41 7.96l-1.37-1.37c-.4-.4-.92-.59-1.43-.59-.52 0-1.04.2-1.43.59L10.3 9.45l-7.72 7.72c-.78.78-.78 2.05 0 2.83L4 21.41c.39.39.9.59 1.41.59.51 0 1.02-.2 1.41-.59l7.78-7.78 2.81-2.81c.8-.78.8-2.07 0-2.86zM5.41 20L4 18.59l7.72-7.72 1.47 1.35L5.41 20z\"/>\n",
              "  </svg>\n",
              "      </button>\n",
              "      \n",
              "  <style>\n",
              "    .colab-df-container {\n",
              "      display:flex;\n",
              "      flex-wrap:wrap;\n",
              "      gap: 12px;\n",
              "    }\n",
              "\n",
              "    .colab-df-convert {\n",
              "      background-color: #E8F0FE;\n",
              "      border: none;\n",
              "      border-radius: 50%;\n",
              "      cursor: pointer;\n",
              "      display: none;\n",
              "      fill: #1967D2;\n",
              "      height: 32px;\n",
              "      padding: 0 0 0 0;\n",
              "      width: 32px;\n",
              "    }\n",
              "\n",
              "    .colab-df-convert:hover {\n",
              "      background-color: #E2EBFA;\n",
              "      box-shadow: 0px 1px 2px rgba(60, 64, 67, 0.3), 0px 1px 3px 1px rgba(60, 64, 67, 0.15);\n",
              "      fill: #174EA6;\n",
              "    }\n",
              "\n",
              "    [theme=dark] .colab-df-convert {\n",
              "      background-color: #3B4455;\n",
              "      fill: #D2E3FC;\n",
              "    }\n",
              "\n",
              "    [theme=dark] .colab-df-convert:hover {\n",
              "      background-color: #434B5C;\n",
              "      box-shadow: 0px 1px 3px 1px rgba(0, 0, 0, 0.15);\n",
              "      filter: drop-shadow(0px 1px 2px rgba(0, 0, 0, 0.3));\n",
              "      fill: #FFFFFF;\n",
              "    }\n",
              "  </style>\n",
              "\n",
              "      <script>\n",
              "        const buttonEl =\n",
              "          document.querySelector('#df-b943081a-cf4f-4210-9057-7baf3466006a button.colab-df-convert');\n",
              "        buttonEl.style.display =\n",
              "          google.colab.kernel.accessAllowed ? 'block' : 'none';\n",
              "\n",
              "        async function convertToInteractive(key) {\n",
              "          const element = document.querySelector('#df-b943081a-cf4f-4210-9057-7baf3466006a');\n",
              "          const dataTable =\n",
              "            await google.colab.kernel.invokeFunction('convertToInteractive',\n",
              "                                                     [key], {});\n",
              "          if (!dataTable) return;\n",
              "\n",
              "          const docLinkHtml = 'Like what you see? Visit the ' +\n",
              "            '<a target=\"_blank\" href=https://colab.research.google.com/notebooks/data_table.ipynb>data table notebook</a>'\n",
              "            + ' to learn more about interactive tables.';\n",
              "          element.innerHTML = '';\n",
              "          dataTable['output_type'] = 'display_data';\n",
              "          await google.colab.output.renderOutput(dataTable, element);\n",
              "          const docLink = document.createElement('div');\n",
              "          docLink.innerHTML = docLinkHtml;\n",
              "          element.appendChild(docLink);\n",
              "        }\n",
              "      </script>\n",
              "    </div>\n",
              "  </div>\n",
              "  "
            ]
          },
          "metadata": {},
          "execution_count": 8
        }
      ]
    },
    {
      "cell_type": "markdown",
      "source": [
        "# **2) Create a prediction model of view count**\n",
        "We will create and compare different models:\n",
        "\n",
        "\n",
        "*   A dummy model (median of view count by channel)\n",
        "*   Baseline model: Decision Tree Regressor\n",
        "*   Challenger model: Histogram Gradient Boosting Regressor\n",
        "*   Challenger model: Random Forest\n",
        "\n"
      ],
      "metadata": {
        "id": "azJVd5v0s0w4"
      }
    },
    {
      "cell_type": "markdown",
      "source": [
        "## 2.0) Will the model output y or f(y)?\n",
        "If the model outputs f(y), you should set f(x) and f_inv(x) to the desired values.\n",
        "\n",
        "If the model outputs y, you should set f(x) = x and f_inv(x) = x."
      ],
      "metadata": {
        "id": "FKPdW_0AGI7-"
      }
    },
    {
      "cell_type": "code",
      "source": [
        "# def f(x):\n",
        "#     return x\n",
        "\n",
        "# def f_inv(x):\n",
        "#     return x\n",
        "\n",
        "f = np.log\n",
        "f_inv = np.exp"
      ],
      "metadata": {
        "id": "dsIJtINwGSnR"
      },
      "execution_count": 9,
      "outputs": []
    },
    {
      "cell_type": "markdown",
      "source": [
        "## 2.1) Separate train and test data"
      ],
      "metadata": {
        "id": "krrhZgskaoXU"
      }
    },
    {
      "cell_type": "code",
      "source": [
        "youtube_X = youtube_df.drop('view_count', axis=1)\n",
        "youtube_y = youtube_df['view_count']\n",
        "\n",
        "youtube_y_log = f(youtube_y)"
      ],
      "metadata": {
        "id": "wnC0_poPTLtH"
      },
      "execution_count": 10,
      "outputs": []
    },
    {
      "cell_type": "code",
      "source": [
        "yt_X_train, yt_X_test, yt_y_train, yt_y_test = train_test_split(youtube_X, youtube_y_log, random_state=42) # colocar uma seed\n",
        "yt_y_train_exp = np.exp(yt_y_train)\n",
        "yt_y_test_exp = np.exp(yt_y_test)"
      ],
      "metadata": {
        "id": "j9vBL6o6ah8D"
      },
      "execution_count": 11,
      "outputs": []
    },
    {
      "cell_type": "markdown",
      "source": [
        "## 2.2) Dummy model\n",
        "\n",
        "Assumptions:\n",
        "\n",
        "\n",
        "*   View count is dependent on channel it's going to be published on\n",
        "*   For each channel, predicted view count is simply the **median** of view count\n",
        "\n"
      ],
      "metadata": {
        "id": "94cXaCmkW1sB"
      }
    },
    {
      "cell_type": "markdown",
      "source": [
        "### 2.1.1) \"Train\" model"
      ],
      "metadata": {
        "id": "muOlTb3UGSgm"
      }
    },
    {
      "cell_type": "code",
      "source": [
        "dummy_model_df = yt_X_train[['channel_title']].join(yt_y_train).groupby('channel_title').median()\n",
        "dummy_model_df.style.format(thousands=',', precision=0)"
      ],
      "metadata": {
        "id": "FSiY6yKCVUqk",
        "colab": {
          "base_uri": "https://localhost:8080/",
          "height": 394
        },
        "outputId": "59239861-7440-439c-cb39-24d829af360e"
      },
      "execution_count": 12,
      "outputs": [
        {
          "output_type": "execute_result",
          "data": {
            "text/plain": [
              "<pandas.io.formats.style.Styler at 0x7f84714a3810>"
            ],
            "text/html": [
              "<style type=\"text/css\">\n",
              "</style>\n",
              "<table id=\"T_b7c0a_\" class=\"dataframe\">\n",
              "  <thead>\n",
              "    <tr>\n",
              "      <th class=\"blank level0\" >&nbsp;</th>\n",
              "      <th class=\"col_heading level0 col0\" >view_count</th>\n",
              "    </tr>\n",
              "    <tr>\n",
              "      <th class=\"index_name level0\" >channel_title</th>\n",
              "      <th class=\"blank col0\" >&nbsp;</th>\n",
              "    </tr>\n",
              "  </thead>\n",
              "  <tbody>\n",
              "    <tr>\n",
              "      <th id=\"T_b7c0a_level0_row0\" class=\"row_heading level0 row0\" >3Blue1Brown</th>\n",
              "      <td id=\"T_b7c0a_row0_col0\" class=\"data row0 col0\" >14</td>\n",
              "    </tr>\n",
              "    <tr>\n",
              "      <th id=\"T_b7c0a_level0_row1\" class=\"row_heading level0 row1\" >Carla Quem Disse</th>\n",
              "      <td id=\"T_b7c0a_row1_col0\" class=\"data row1 col0\" >7</td>\n",
              "    </tr>\n",
              "    <tr>\n",
              "      <th id=\"T_b7c0a_level0_row2\" class=\"row_heading level0 row2\" >Caue Moura</th>\n",
              "      <td id=\"T_b7c0a_row2_col0\" class=\"data row2 col0\" >13</td>\n",
              "    </tr>\n",
              "    <tr>\n",
              "      <th id=\"T_b7c0a_level0_row3\" class=\"row_heading level0 row3\" >Pipocando</th>\n",
              "      <td id=\"T_b7c0a_row3_col0\" class=\"data row3 col0\" >13</td>\n",
              "    </tr>\n",
              "    <tr>\n",
              "      <th id=\"T_b7c0a_level0_row4\" class=\"row_heading level0 row4\" >Sao Paulo Nas Alturas , por Raul Juste Lores</th>\n",
              "      <td id=\"T_b7c0a_row4_col0\" class=\"data row4 col0\" >10</td>\n",
              "    </tr>\n",
              "    <tr>\n",
              "      <th id=\"T_b7c0a_level0_row5\" class=\"row_heading level0 row5\" >SmarterEveryDay</th>\n",
              "      <td id=\"T_b7c0a_row5_col0\" class=\"data row5 col0\" >15</td>\n",
              "    </tr>\n",
              "    <tr>\n",
              "      <th id=\"T_b7c0a_level0_row6\" class=\"row_heading level0 row6\" >StrataScratch</th>\n",
              "      <td id=\"T_b7c0a_row6_col0\" class=\"data row6 col0\" >8</td>\n",
              "    </tr>\n",
              "    <tr>\n",
              "      <th id=\"T_b7c0a_level0_row7\" class=\"row_heading level0 row7\" >Tá Gravando</th>\n",
              "      <td id=\"T_b7c0a_row7_col0\" class=\"data row7 col0\" >14</td>\n",
              "    </tr>\n",
              "    <tr>\n",
              "      <th id=\"T_b7c0a_level0_row8\" class=\"row_heading level0 row8\" >UMotivo</th>\n",
              "      <td id=\"T_b7c0a_row8_col0\" class=\"data row8 col0\" >9</td>\n",
              "    </tr>\n",
              "    <tr>\n",
              "      <th id=\"T_b7c0a_level0_row9\" class=\"row_heading level0 row9\" >Veritasium</th>\n",
              "      <td id=\"T_b7c0a_row9_col0\" class=\"data row9 col0\" >16</td>\n",
              "    </tr>\n",
              "  </tbody>\n",
              "</table>\n"
            ]
          },
          "metadata": {},
          "execution_count": 12
        }
      ]
    },
    {
      "cell_type": "markdown",
      "source": [
        "### 2.1.2) Make predictions"
      ],
      "metadata": {
        "id": "MKys-ULDGZwm"
      }
    },
    {
      "cell_type": "code",
      "source": [
        "def dummy_predictor_view_count(video, model):\n",
        "    channel_title = video['channel_title']\n",
        "    \n",
        "    predicted_views = model.loc[channel_title]['view_count']\n",
        "\n",
        "    return predicted_views"
      ],
      "metadata": {
        "id": "Se4GZH38_Xux"
      },
      "execution_count": 13,
      "outputs": []
    },
    {
      "cell_type": "code",
      "source": [
        "def predictions_pretty_print_df(predictions, f_inv):\n",
        "    \"\"\" Creates a pandas df with video title, channel title, \n",
        "    ground truth view count, predicted view count and error.\n",
        "    \n",
        "    If the predictions are logs of the real value, it will take the exponential\n",
        "    of the prediction to output the real value without log.\n",
        "\n",
        "    Returns a pandas df.\n",
        "\n",
        "    \"\"\"\n",
        "    predictions_df = pd.DataFrame(columns=['video_title', 'channel_title', 'view_count', 'view_count_pred'])\n",
        "    predictions_df[['video_title','channel_title']] = yt_X_test[['video_title','channel_title']]\n",
        "\n",
        "    predictions_df['view_count'] = f_inv(yt_y_test)\n",
        "    predictions_df['view_count_pred'] = f_inv(predictions)\n",
        "    predictions_df['error'] = predictions_df['view_count_pred'] - f_inv(yt_y_test)\n",
        "\n",
        "    return predictions_df\n",
        "\n",
        "predictions_dummy = yt_X_test.apply(lambda x: dummy_predictor_view_count(x, dummy_model_df), axis=1) # make predictions\n",
        "predictions_dummy_pretty = predictions_pretty_print_df(predictions_dummy, f_inv)\n",
        "predictions_dummy_pretty.head()"
      ],
      "metadata": {
        "colab": {
          "base_uri": "https://localhost:8080/",
          "height": 206
        },
        "id": "dYsPorfLD4QI",
        "outputId": "dd8ca2be-831d-41d3-c879-03342f56d12c"
      },
      "execution_count": 14,
      "outputs": [
        {
          "output_type": "execute_result",
          "data": {
            "text/plain": [
              "                                            video_title     channel_title  \\\n",
              "1583  Trying to Catch a 1,000 MPH Baseball - Smarter...   SmarterEveryDay   \n",
              "1745  ⚡ TRIBAL DE RAIOS! → Izzet Spells no Alchemy c...           UMotivo   \n",
              "772   ⚪ O NOVO WHITE WEENIE → Basri Ket Aggro, com C...           UMotivo   \n",
              "1728                                PI - Comando \"para\"  Carla Quem Disse   \n",
              "387   The Best Test of General Relativity (by 2 Misp...        Veritasium   \n",
              "\n",
              "      view_count  view_count_pred         error  \n",
              "1583  15180905.0     2.833793e+06 -1.234711e+07  \n",
              "1745      8137.0     1.150850e+04  3.371500e+03  \n",
              "772      16050.0     1.150850e+04 -4.541500e+03  \n",
              "1728       160.0     6.738932e+02  5.138932e+02  \n",
              "387    1858083.0     7.747475e+06  5.889392e+06  "
            ],
            "text/html": [
              "\n",
              "  <div id=\"df-5176bd98-df46-4e3a-b3ec-081b971e64b0\">\n",
              "    <div class=\"colab-df-container\">\n",
              "      <div>\n",
              "<style scoped>\n",
              "    .dataframe tbody tr th:only-of-type {\n",
              "        vertical-align: middle;\n",
              "    }\n",
              "\n",
              "    .dataframe tbody tr th {\n",
              "        vertical-align: top;\n",
              "    }\n",
              "\n",
              "    .dataframe thead th {\n",
              "        text-align: right;\n",
              "    }\n",
              "</style>\n",
              "<table border=\"1\" class=\"dataframe\">\n",
              "  <thead>\n",
              "    <tr style=\"text-align: right;\">\n",
              "      <th></th>\n",
              "      <th>video_title</th>\n",
              "      <th>channel_title</th>\n",
              "      <th>view_count</th>\n",
              "      <th>view_count_pred</th>\n",
              "      <th>error</th>\n",
              "    </tr>\n",
              "  </thead>\n",
              "  <tbody>\n",
              "    <tr>\n",
              "      <th>1583</th>\n",
              "      <td>Trying to Catch a 1,000 MPH Baseball - Smarter...</td>\n",
              "      <td>SmarterEveryDay</td>\n",
              "      <td>15180905.0</td>\n",
              "      <td>2.833793e+06</td>\n",
              "      <td>-1.234711e+07</td>\n",
              "    </tr>\n",
              "    <tr>\n",
              "      <th>1745</th>\n",
              "      <td>⚡ TRIBAL DE RAIOS! → Izzet Spells no Alchemy c...</td>\n",
              "      <td>UMotivo</td>\n",
              "      <td>8137.0</td>\n",
              "      <td>1.150850e+04</td>\n",
              "      <td>3.371500e+03</td>\n",
              "    </tr>\n",
              "    <tr>\n",
              "      <th>772</th>\n",
              "      <td>⚪ O NOVO WHITE WEENIE → Basri Ket Aggro, com C...</td>\n",
              "      <td>UMotivo</td>\n",
              "      <td>16050.0</td>\n",
              "      <td>1.150850e+04</td>\n",
              "      <td>-4.541500e+03</td>\n",
              "    </tr>\n",
              "    <tr>\n",
              "      <th>1728</th>\n",
              "      <td>PI - Comando \"para\"</td>\n",
              "      <td>Carla Quem Disse</td>\n",
              "      <td>160.0</td>\n",
              "      <td>6.738932e+02</td>\n",
              "      <td>5.138932e+02</td>\n",
              "    </tr>\n",
              "    <tr>\n",
              "      <th>387</th>\n",
              "      <td>The Best Test of General Relativity (by 2 Misp...</td>\n",
              "      <td>Veritasium</td>\n",
              "      <td>1858083.0</td>\n",
              "      <td>7.747475e+06</td>\n",
              "      <td>5.889392e+06</td>\n",
              "    </tr>\n",
              "  </tbody>\n",
              "</table>\n",
              "</div>\n",
              "      <button class=\"colab-df-convert\" onclick=\"convertToInteractive('df-5176bd98-df46-4e3a-b3ec-081b971e64b0')\"\n",
              "              title=\"Convert this dataframe to an interactive table.\"\n",
              "              style=\"display:none;\">\n",
              "        \n",
              "  <svg xmlns=\"http://www.w3.org/2000/svg\" height=\"24px\"viewBox=\"0 0 24 24\"\n",
              "       width=\"24px\">\n",
              "    <path d=\"M0 0h24v24H0V0z\" fill=\"none\"/>\n",
              "    <path d=\"M18.56 5.44l.94 2.06.94-2.06 2.06-.94-2.06-.94-.94-2.06-.94 2.06-2.06.94zm-11 1L8.5 8.5l.94-2.06 2.06-.94-2.06-.94L8.5 2.5l-.94 2.06-2.06.94zm10 10l.94 2.06.94-2.06 2.06-.94-2.06-.94-.94-2.06-.94 2.06-2.06.94z\"/><path d=\"M17.41 7.96l-1.37-1.37c-.4-.4-.92-.59-1.43-.59-.52 0-1.04.2-1.43.59L10.3 9.45l-7.72 7.72c-.78.78-.78 2.05 0 2.83L4 21.41c.39.39.9.59 1.41.59.51 0 1.02-.2 1.41-.59l7.78-7.78 2.81-2.81c.8-.78.8-2.07 0-2.86zM5.41 20L4 18.59l7.72-7.72 1.47 1.35L5.41 20z\"/>\n",
              "  </svg>\n",
              "      </button>\n",
              "      \n",
              "  <style>\n",
              "    .colab-df-container {\n",
              "      display:flex;\n",
              "      flex-wrap:wrap;\n",
              "      gap: 12px;\n",
              "    }\n",
              "\n",
              "    .colab-df-convert {\n",
              "      background-color: #E8F0FE;\n",
              "      border: none;\n",
              "      border-radius: 50%;\n",
              "      cursor: pointer;\n",
              "      display: none;\n",
              "      fill: #1967D2;\n",
              "      height: 32px;\n",
              "      padding: 0 0 0 0;\n",
              "      width: 32px;\n",
              "    }\n",
              "\n",
              "    .colab-df-convert:hover {\n",
              "      background-color: #E2EBFA;\n",
              "      box-shadow: 0px 1px 2px rgba(60, 64, 67, 0.3), 0px 1px 3px 1px rgba(60, 64, 67, 0.15);\n",
              "      fill: #174EA6;\n",
              "    }\n",
              "\n",
              "    [theme=dark] .colab-df-convert {\n",
              "      background-color: #3B4455;\n",
              "      fill: #D2E3FC;\n",
              "    }\n",
              "\n",
              "    [theme=dark] .colab-df-convert:hover {\n",
              "      background-color: #434B5C;\n",
              "      box-shadow: 0px 1px 3px 1px rgba(0, 0, 0, 0.15);\n",
              "      filter: drop-shadow(0px 1px 2px rgba(0, 0, 0, 0.3));\n",
              "      fill: #FFFFFF;\n",
              "    }\n",
              "  </style>\n",
              "\n",
              "      <script>\n",
              "        const buttonEl =\n",
              "          document.querySelector('#df-5176bd98-df46-4e3a-b3ec-081b971e64b0 button.colab-df-convert');\n",
              "        buttonEl.style.display =\n",
              "          google.colab.kernel.accessAllowed ? 'block' : 'none';\n",
              "\n",
              "        async function convertToInteractive(key) {\n",
              "          const element = document.querySelector('#df-5176bd98-df46-4e3a-b3ec-081b971e64b0');\n",
              "          const dataTable =\n",
              "            await google.colab.kernel.invokeFunction('convertToInteractive',\n",
              "                                                     [key], {});\n",
              "          if (!dataTable) return;\n",
              "\n",
              "          const docLinkHtml = 'Like what you see? Visit the ' +\n",
              "            '<a target=\"_blank\" href=https://colab.research.google.com/notebooks/data_table.ipynb>data table notebook</a>'\n",
              "            + ' to learn more about interactive tables.';\n",
              "          element.innerHTML = '';\n",
              "          dataTable['output_type'] = 'display_data';\n",
              "          await google.colab.output.renderOutput(dataTable, element);\n",
              "          const docLink = document.createElement('div');\n",
              "          docLink.innerHTML = docLinkHtml;\n",
              "          element.appendChild(docLink);\n",
              "        }\n",
              "      </script>\n",
              "    </div>\n",
              "  </div>\n",
              "  "
            ]
          },
          "metadata": {},
          "execution_count": 14
        }
      ]
    },
    {
      "cell_type": "markdown",
      "source": [
        "### 2.1.3) Prediction metrics\n",
        "Coefficient of determination R^2 (\"The coefficient R^2 is defined as (1 - u/v), where u is the residual sum of squares ((y_true - y_pred) ** 2).sum() and v is the total sum of squares ((y_true - y_true.mean()) ** 2).sum(). The best possible score is 1.0 and it can be negative (because the model can be arbitrarily worse). A constant model that always predicts the expected value of y, disregarding the input features, would get a R^2 score of 0.0.\")"
      ],
      "metadata": {
        "id": "l_SNdegokwl_"
      }
    },
    {
      "cell_type": "code",
      "source": [
        "rss = ((yt_y_test - predictions_dummy)**2).sum() # residual sum of squares\n",
        "tss = ((yt_y_test - yt_y_test.mean())**2).sum() # total sum of squares\n",
        "\n",
        "model_score_dummy = (1-rss/tss)"
      ],
      "metadata": {
        "id": "dfHRdYxwOwGD"
      },
      "execution_count": 15,
      "outputs": []
    },
    {
      "cell_type": "code",
      "source": [
        "print(model_score_dummy)"
      ],
      "metadata": {
        "colab": {
          "base_uri": "https://localhost:8080/"
        },
        "id": "w0FjxEu3nJqC",
        "outputId": "b7870b8e-72e7-4a20-bfba-9a9c75c88061"
      },
      "execution_count": 16,
      "outputs": [
        {
          "output_type": "stream",
          "name": "stdout",
          "text": [
            "0.8986743311526758\n"
          ]
        }
      ]
    },
    {
      "cell_type": "markdown",
      "source": [
        "## 2.3) Baseline model\n",
        "\n",
        "We will use a Decision Tree Regressor.\n",
        "\n",
        "In this model we will **not** use the information of which channel the video was published on. This model relies simply on video title features, thumbnail color, video duration and upload day and hour."
      ],
      "metadata": {
        "id": "60D1OWt2W7Ac"
      }
    },
    {
      "cell_type": "markdown",
      "source": [
        "### 2.2.1) Let's select the features that we can actually use\n",
        "Note that likes_count and comments_count for example cannot be used because it would be considered data leakege. These features are highly correlated with view count because it actually comes **after** a video is watched.\n",
        "\n",
        "Also in this model we will **not** use the information of which channel the video was published on. This model relies simply on video title information, thumbnail color, video duration and upload day and hour."
      ],
      "metadata": {
        "id": "Sx9vZp12pd7u"
      }
    },
    {
      "cell_type": "code",
      "source": [
        "X_train_baseline1 = yt_X_train[['n_words_title', 'n_question_marks_title', 'n_exclamation_marks_title',\n",
        "                                            'n_ellipsis_title', 'thumb_red', 'thumb_green', 'thumb_blue', \n",
        "                                            'video_duration', 'upload_day_name', 'upload_hour_local']]\n",
        "\n",
        "X_test_baseline1 = yt_X_test[['n_words_title', 'n_question_marks_title', 'n_exclamation_marks_title',\n",
        "                                            'n_ellipsis_title', 'thumb_red', 'thumb_green', 'thumb_blue', \n",
        "                                            'video_duration', 'upload_day_name', 'upload_hour_local']]"
      ],
      "metadata": {
        "id": "8MtE7j-0W8mn"
      },
      "execution_count": 17,
      "outputs": []
    },
    {
      "cell_type": "markdown",
      "source": [
        "### 2.2.2) Build the model pipeline"
      ],
      "metadata": {
        "id": "jiBwzfyGSA2F"
      }
    },
    {
      "cell_type": "code",
      "source": [
        "numerical_columns_selector = selector(dtype_exclude=object)\n",
        "categorical_columns_selector = selector(dtype_include=object)\n",
        "\n",
        "numerical_columns_baseline1 = numerical_columns_selector(X_train_baseline1)\n",
        "categorical_columns_baseline1 = categorical_columns_selector(X_train_baseline1)"
      ],
      "metadata": {
        "id": "kxH4RLlDqjOT"
      },
      "execution_count": 18,
      "outputs": []
    },
    {
      "cell_type": "code",
      "source": [
        "categorical_preprocessor = OneHotEncoder(handle_unknown=\"ignore\")\n",
        "numerical_preprocessor = StandardScaler()\n",
        "\n",
        "preprocessor_baseline1 = ColumnTransformer([\n",
        "    ('one-hot-encoder', categorical_preprocessor, categorical_columns_baseline1),\n",
        "    ('standard_scaler', numerical_preprocessor, numerical_columns_baseline1)])"
      ],
      "metadata": {
        "id": "F6Ad5-aOtLVf"
      },
      "execution_count": 19,
      "outputs": []
    },
    {
      "cell_type": "code",
      "source": [
        "model_baseline1 = make_pipeline(preprocessor_baseline1, DecisionTreeRegressor(random_state=0))\n",
        "model_baseline1"
      ],
      "metadata": {
        "colab": {
          "base_uri": "https://localhost:8080/"
        },
        "id": "Hx84eJHitZr-",
        "outputId": "de7257dd-19be-4748-b6a8-2b2b761a123a"
      },
      "execution_count": 20,
      "outputs": [
        {
          "output_type": "execute_result",
          "data": {
            "text/plain": [
              "Pipeline(steps=[('columntransformer',\n",
              "                 ColumnTransformer(transformers=[('one-hot-encoder',\n",
              "                                                  OneHotEncoder(handle_unknown='ignore'),\n",
              "                                                  ['upload_day_name',\n",
              "                                                   'upload_hour_local']),\n",
              "                                                 ('standard_scaler',\n",
              "                                                  StandardScaler(),\n",
              "                                                  ['n_words_title',\n",
              "                                                   'n_question_marks_title',\n",
              "                                                   'n_exclamation_marks_title',\n",
              "                                                   'n_ellipsis_title',\n",
              "                                                   'thumb_red', 'thumb_green',\n",
              "                                                   'thumb_blue',\n",
              "                                                   'video_duration'])])),\n",
              "                ('decisiontreeregressor',\n",
              "                 DecisionTreeRegressor(random_state=0))])"
            ]
          },
          "metadata": {},
          "execution_count": 20
        }
      ]
    },
    {
      "cell_type": "markdown",
      "source": [
        "### 2.2.3) Train model"
      ],
      "metadata": {
        "id": "SW1VpdmAUU5I"
      }
    },
    {
      "cell_type": "code",
      "source": [
        "_ = model_baseline1.fit(X_train_baseline1, yt_y_train)"
      ],
      "metadata": {
        "id": "7dk1KvydtkNx"
      },
      "execution_count": 21,
      "outputs": []
    },
    {
      "cell_type": "markdown",
      "source": [
        "### 2.2.4) Make predictions"
      ],
      "metadata": {
        "id": "kzIeSPAKUcxz"
      }
    },
    {
      "cell_type": "code",
      "source": [
        "predictions_baseline1 = model_baseline1.predict(X_test_baseline1) # make predictions\n",
        "predictions_baseline1_pretty = predictions_pretty_print_df(predictions_baseline1, f_inv)\n",
        "predictions_baseline1_pretty.head()"
      ],
      "metadata": {
        "colab": {
          "base_uri": "https://localhost:8080/",
          "height": 206
        },
        "id": "gizPkZbWRvjp",
        "outputId": "ceed83d4-f4c1-4c6d-e0c9-075f8f8f633c"
      },
      "execution_count": 22,
      "outputs": [
        {
          "output_type": "execute_result",
          "data": {
            "text/plain": [
              "                                            video_title     channel_title  \\\n",
              "1583  Trying to Catch a 1,000 MPH Baseball - Smarter...   SmarterEveryDay   \n",
              "1745  ⚡ TRIBAL DE RAIOS! → Izzet Spells no Alchemy c...           UMotivo   \n",
              "772   ⚪ O NOVO WHITE WEENIE → Basri Ket Aggro, com C...           UMotivo   \n",
              "1728                                PI - Comando \"para\"  Carla Quem Disse   \n",
              "387   The Best Test of General Relativity (by 2 Misp...        Veritasium   \n",
              "\n",
              "      view_count  view_count_pred       error  \n",
              "1583  15180905.0        3357319.0 -11823586.0  \n",
              "1745      8137.0          11522.0      3385.0  \n",
              "772      16050.0          17638.0      1588.0  \n",
              "1728       160.0            147.0       -13.0  \n",
              "387    1858083.0           7246.0  -1850837.0  "
            ],
            "text/html": [
              "\n",
              "  <div id=\"df-665a66fe-4cc1-4524-99f3-8540bdf1c064\">\n",
              "    <div class=\"colab-df-container\">\n",
              "      <div>\n",
              "<style scoped>\n",
              "    .dataframe tbody tr th:only-of-type {\n",
              "        vertical-align: middle;\n",
              "    }\n",
              "\n",
              "    .dataframe tbody tr th {\n",
              "        vertical-align: top;\n",
              "    }\n",
              "\n",
              "    .dataframe thead th {\n",
              "        text-align: right;\n",
              "    }\n",
              "</style>\n",
              "<table border=\"1\" class=\"dataframe\">\n",
              "  <thead>\n",
              "    <tr style=\"text-align: right;\">\n",
              "      <th></th>\n",
              "      <th>video_title</th>\n",
              "      <th>channel_title</th>\n",
              "      <th>view_count</th>\n",
              "      <th>view_count_pred</th>\n",
              "      <th>error</th>\n",
              "    </tr>\n",
              "  </thead>\n",
              "  <tbody>\n",
              "    <tr>\n",
              "      <th>1583</th>\n",
              "      <td>Trying to Catch a 1,000 MPH Baseball - Smarter...</td>\n",
              "      <td>SmarterEveryDay</td>\n",
              "      <td>15180905.0</td>\n",
              "      <td>3357319.0</td>\n",
              "      <td>-11823586.0</td>\n",
              "    </tr>\n",
              "    <tr>\n",
              "      <th>1745</th>\n",
              "      <td>⚡ TRIBAL DE RAIOS! → Izzet Spells no Alchemy c...</td>\n",
              "      <td>UMotivo</td>\n",
              "      <td>8137.0</td>\n",
              "      <td>11522.0</td>\n",
              "      <td>3385.0</td>\n",
              "    </tr>\n",
              "    <tr>\n",
              "      <th>772</th>\n",
              "      <td>⚪ O NOVO WHITE WEENIE → Basri Ket Aggro, com C...</td>\n",
              "      <td>UMotivo</td>\n",
              "      <td>16050.0</td>\n",
              "      <td>17638.0</td>\n",
              "      <td>1588.0</td>\n",
              "    </tr>\n",
              "    <tr>\n",
              "      <th>1728</th>\n",
              "      <td>PI - Comando \"para\"</td>\n",
              "      <td>Carla Quem Disse</td>\n",
              "      <td>160.0</td>\n",
              "      <td>147.0</td>\n",
              "      <td>-13.0</td>\n",
              "    </tr>\n",
              "    <tr>\n",
              "      <th>387</th>\n",
              "      <td>The Best Test of General Relativity (by 2 Misp...</td>\n",
              "      <td>Veritasium</td>\n",
              "      <td>1858083.0</td>\n",
              "      <td>7246.0</td>\n",
              "      <td>-1850837.0</td>\n",
              "    </tr>\n",
              "  </tbody>\n",
              "</table>\n",
              "</div>\n",
              "      <button class=\"colab-df-convert\" onclick=\"convertToInteractive('df-665a66fe-4cc1-4524-99f3-8540bdf1c064')\"\n",
              "              title=\"Convert this dataframe to an interactive table.\"\n",
              "              style=\"display:none;\">\n",
              "        \n",
              "  <svg xmlns=\"http://www.w3.org/2000/svg\" height=\"24px\"viewBox=\"0 0 24 24\"\n",
              "       width=\"24px\">\n",
              "    <path d=\"M0 0h24v24H0V0z\" fill=\"none\"/>\n",
              "    <path d=\"M18.56 5.44l.94 2.06.94-2.06 2.06-.94-2.06-.94-.94-2.06-.94 2.06-2.06.94zm-11 1L8.5 8.5l.94-2.06 2.06-.94-2.06-.94L8.5 2.5l-.94 2.06-2.06.94zm10 10l.94 2.06.94-2.06 2.06-.94-2.06-.94-.94-2.06-.94 2.06-2.06.94z\"/><path d=\"M17.41 7.96l-1.37-1.37c-.4-.4-.92-.59-1.43-.59-.52 0-1.04.2-1.43.59L10.3 9.45l-7.72 7.72c-.78.78-.78 2.05 0 2.83L4 21.41c.39.39.9.59 1.41.59.51 0 1.02-.2 1.41-.59l7.78-7.78 2.81-2.81c.8-.78.8-2.07 0-2.86zM5.41 20L4 18.59l7.72-7.72 1.47 1.35L5.41 20z\"/>\n",
              "  </svg>\n",
              "      </button>\n",
              "      \n",
              "  <style>\n",
              "    .colab-df-container {\n",
              "      display:flex;\n",
              "      flex-wrap:wrap;\n",
              "      gap: 12px;\n",
              "    }\n",
              "\n",
              "    .colab-df-convert {\n",
              "      background-color: #E8F0FE;\n",
              "      border: none;\n",
              "      border-radius: 50%;\n",
              "      cursor: pointer;\n",
              "      display: none;\n",
              "      fill: #1967D2;\n",
              "      height: 32px;\n",
              "      padding: 0 0 0 0;\n",
              "      width: 32px;\n",
              "    }\n",
              "\n",
              "    .colab-df-convert:hover {\n",
              "      background-color: #E2EBFA;\n",
              "      box-shadow: 0px 1px 2px rgba(60, 64, 67, 0.3), 0px 1px 3px 1px rgba(60, 64, 67, 0.15);\n",
              "      fill: #174EA6;\n",
              "    }\n",
              "\n",
              "    [theme=dark] .colab-df-convert {\n",
              "      background-color: #3B4455;\n",
              "      fill: #D2E3FC;\n",
              "    }\n",
              "\n",
              "    [theme=dark] .colab-df-convert:hover {\n",
              "      background-color: #434B5C;\n",
              "      box-shadow: 0px 1px 3px 1px rgba(0, 0, 0, 0.15);\n",
              "      filter: drop-shadow(0px 1px 2px rgba(0, 0, 0, 0.3));\n",
              "      fill: #FFFFFF;\n",
              "    }\n",
              "  </style>\n",
              "\n",
              "      <script>\n",
              "        const buttonEl =\n",
              "          document.querySelector('#df-665a66fe-4cc1-4524-99f3-8540bdf1c064 button.colab-df-convert');\n",
              "        buttonEl.style.display =\n",
              "          google.colab.kernel.accessAllowed ? 'block' : 'none';\n",
              "\n",
              "        async function convertToInteractive(key) {\n",
              "          const element = document.querySelector('#df-665a66fe-4cc1-4524-99f3-8540bdf1c064');\n",
              "          const dataTable =\n",
              "            await google.colab.kernel.invokeFunction('convertToInteractive',\n",
              "                                                     [key], {});\n",
              "          if (!dataTable) return;\n",
              "\n",
              "          const docLinkHtml = 'Like what you see? Visit the ' +\n",
              "            '<a target=\"_blank\" href=https://colab.research.google.com/notebooks/data_table.ipynb>data table notebook</a>'\n",
              "            + ' to learn more about interactive tables.';\n",
              "          element.innerHTML = '';\n",
              "          dataTable['output_type'] = 'display_data';\n",
              "          await google.colab.output.renderOutput(dataTable, element);\n",
              "          const docLink = document.createElement('div');\n",
              "          docLink.innerHTML = docLinkHtml;\n",
              "          element.appendChild(docLink);\n",
              "        }\n",
              "      </script>\n",
              "    </div>\n",
              "  </div>\n",
              "  "
            ]
          },
          "metadata": {},
          "execution_count": 22
        }
      ]
    },
    {
      "cell_type": "markdown",
      "source": [
        "### 2.2.5) Prediction metrics"
      ],
      "metadata": {
        "id": "fLnsO6qRR-yw"
      }
    },
    {
      "cell_type": "code",
      "source": [
        "model_score_baseline1 = model_baseline1.score(X_test_baseline1, yt_y_test)\n",
        "model_score_baseline1"
      ],
      "metadata": {
        "colab": {
          "base_uri": "https://localhost:8080/"
        },
        "id": "ZRctniE_uUZK",
        "outputId": "6bcfea01-3da9-463a-d77a-0b7f0b5307a2"
      },
      "execution_count": 23,
      "outputs": [
        {
          "output_type": "execute_result",
          "data": {
            "text/plain": [
              "0.130234156464053"
            ]
          },
          "metadata": {},
          "execution_count": 23
        }
      ]
    },
    {
      "cell_type": "markdown",
      "source": [
        "Clearly a really bad model that we don't want to use. Let's try to improve it a little bit."
      ],
      "metadata": {
        "id": "79s6ZO1FS2m6"
      }
    },
    {
      "cell_type": "markdown",
      "source": [
        "## 2.4) Baseline model 2\n",
        "\n",
        "We will use a Decision Tree Regressor once again, but this time we will use the information of which channel the video was published on."
      ],
      "metadata": {
        "id": "Kai3MqL0UrcD"
      }
    },
    {
      "cell_type": "markdown",
      "source": [
        "### 2.3.1) Let's select the features that we can actually use\n",
        "Note that likes_count and comments_count for example cannot be used because it would be considered data leakege. These features are highly correlated with view count because it actually comes **after** a video is watched."
      ],
      "metadata": {
        "id": "DghK1JHGUrcF"
      }
    },
    {
      "cell_type": "code",
      "source": [
        "X_train_baseline2 = yt_X_train[['n_words_title', 'n_question_marks_title', 'n_exclamation_marks_title',\n",
        "                      'n_ellipsis_title', 'thumb_red', 'thumb_green', 'thumb_blue', \n",
        "                      'video_duration', 'upload_day_name', 'upload_hour_local', 'channel_title']]\n",
        "\n",
        "X_test_baseline2 = yt_X_test[['n_words_title', 'n_question_marks_title', 'n_exclamation_marks_title',\n",
        "                      'n_ellipsis_title', 'thumb_red', 'thumb_green', 'thumb_blue', \n",
        "                      'video_duration', 'upload_day_name', 'upload_hour_local', 'channel_title']]"
      ],
      "metadata": {
        "id": "dr9_HkL-UrcF"
      },
      "execution_count": 24,
      "outputs": []
    },
    {
      "cell_type": "markdown",
      "source": [
        "### 2.3.2) Build the model pipeline"
      ],
      "metadata": {
        "id": "mzLmSDCeUrcH"
      }
    },
    {
      "cell_type": "code",
      "source": [
        "numerical_columns_selector = selector(dtype_exclude=object)\n",
        "categorical_columns_selector = selector(dtype_include=object)\n",
        "\n",
        "numerical_columns_baseline2 = numerical_columns_selector(X_train_baseline2)\n",
        "categorical_columns_baseline2 = categorical_columns_selector(X_train_baseline2)"
      ],
      "metadata": {
        "id": "HeNOmuQ2UrcG"
      },
      "execution_count": 25,
      "outputs": []
    },
    {
      "cell_type": "code",
      "source": [
        "categorical_preprocessor = OneHotEncoder(handle_unknown=\"ignore\")\n",
        "numerical_preprocessor = StandardScaler()\n",
        "\n",
        "preprocessor_baseline2 = ColumnTransformer([\n",
        "    ('one-hot-encoder', categorical_preprocessor, categorical_columns_baseline2),\n",
        "    ('standard_scaler', numerical_preprocessor, numerical_columns_baseline2)])"
      ],
      "metadata": {
        "id": "5M3r03ojUrcI"
      },
      "execution_count": 26,
      "outputs": []
    },
    {
      "cell_type": "code",
      "source": [
        "model_baseline2 = make_pipeline(preprocessor_baseline2, DecisionTreeRegressor(random_state=0))\n",
        "model_baseline2"
      ],
      "metadata": {
        "colab": {
          "base_uri": "https://localhost:8080/"
        },
        "outputId": "eb9e2835-913c-4010-fd8a-bd80d53616d1",
        "id": "TKSKfFpTUrcI"
      },
      "execution_count": 27,
      "outputs": [
        {
          "output_type": "execute_result",
          "data": {
            "text/plain": [
              "Pipeline(steps=[('columntransformer',\n",
              "                 ColumnTransformer(transformers=[('one-hot-encoder',\n",
              "                                                  OneHotEncoder(handle_unknown='ignore'),\n",
              "                                                  ['upload_day_name',\n",
              "                                                   'upload_hour_local',\n",
              "                                                   'channel_title']),\n",
              "                                                 ('standard_scaler',\n",
              "                                                  StandardScaler(),\n",
              "                                                  ['n_words_title',\n",
              "                                                   'n_question_marks_title',\n",
              "                                                   'n_exclamation_marks_title',\n",
              "                                                   'n_ellipsis_title',\n",
              "                                                   'thumb_red', 'thumb_green',\n",
              "                                                   'thumb_blue',\n",
              "                                                   'video_duration'])])),\n",
              "                ('decisiontreeregressor',\n",
              "                 DecisionTreeRegressor(random_state=0))])"
            ]
          },
          "metadata": {},
          "execution_count": 27
        }
      ]
    },
    {
      "cell_type": "markdown",
      "source": [
        "### 2.3.3) Train model"
      ],
      "metadata": {
        "id": "YvIVmv0fUrcJ"
      }
    },
    {
      "cell_type": "code",
      "source": [
        "_ = model_baseline2.fit(X_train_baseline2, yt_y_train)"
      ],
      "metadata": {
        "id": "FQUD7cUOUrcK"
      },
      "execution_count": 28,
      "outputs": []
    },
    {
      "cell_type": "markdown",
      "source": [
        "### 2.3.4) Make predictions"
      ],
      "metadata": {
        "id": "fkJTwpxQUrcK"
      }
    },
    {
      "cell_type": "code",
      "source": [
        "predictions_baseline2 = model_baseline2.predict(X_test_baseline2) # make predictions\n",
        "predictions_baseline2_pretty = predictions_pretty_print_df(predictions_baseline2, f_inv)\n",
        "predictions_baseline2_pretty.head()"
      ],
      "metadata": {
        "colab": {
          "base_uri": "https://localhost:8080/",
          "height": 0
        },
        "outputId": "915e9b40-29d2-4cfe-f58a-c5fe96f01194",
        "id": "68Zrp9oFUrcL"
      },
      "execution_count": 29,
      "outputs": [
        {
          "output_type": "execute_result",
          "data": {
            "text/plain": [
              "                                            video_title     channel_title  \\\n",
              "1583  Trying to Catch a 1,000 MPH Baseball - Smarter...   SmarterEveryDay   \n",
              "1745  ⚡ TRIBAL DE RAIOS! → Izzet Spells no Alchemy c...           UMotivo   \n",
              "772   ⚪ O NOVO WHITE WEENIE → Basri Ket Aggro, com C...           UMotivo   \n",
              "1728                                PI - Comando \"para\"  Carla Quem Disse   \n",
              "387   The Best Test of General Relativity (by 2 Misp...        Veritasium   \n",
              "\n",
              "      view_count  view_count_pred       error  \n",
              "1583  15180905.0       13478418.0  -1702487.0  \n",
              "1745      8137.0          20214.0     12077.0  \n",
              "772      16050.0           6022.0    -10028.0  \n",
              "1728       160.0            147.0       -13.0  \n",
              "387    1858083.0       21720570.0  19862487.0  "
            ],
            "text/html": [
              "\n",
              "  <div id=\"df-669ce9ed-348b-4209-82f4-4ece1b539702\">\n",
              "    <div class=\"colab-df-container\">\n",
              "      <div>\n",
              "<style scoped>\n",
              "    .dataframe tbody tr th:only-of-type {\n",
              "        vertical-align: middle;\n",
              "    }\n",
              "\n",
              "    .dataframe tbody tr th {\n",
              "        vertical-align: top;\n",
              "    }\n",
              "\n",
              "    .dataframe thead th {\n",
              "        text-align: right;\n",
              "    }\n",
              "</style>\n",
              "<table border=\"1\" class=\"dataframe\">\n",
              "  <thead>\n",
              "    <tr style=\"text-align: right;\">\n",
              "      <th></th>\n",
              "      <th>video_title</th>\n",
              "      <th>channel_title</th>\n",
              "      <th>view_count</th>\n",
              "      <th>view_count_pred</th>\n",
              "      <th>error</th>\n",
              "    </tr>\n",
              "  </thead>\n",
              "  <tbody>\n",
              "    <tr>\n",
              "      <th>1583</th>\n",
              "      <td>Trying to Catch a 1,000 MPH Baseball - Smarter...</td>\n",
              "      <td>SmarterEveryDay</td>\n",
              "      <td>15180905.0</td>\n",
              "      <td>13478418.0</td>\n",
              "      <td>-1702487.0</td>\n",
              "    </tr>\n",
              "    <tr>\n",
              "      <th>1745</th>\n",
              "      <td>⚡ TRIBAL DE RAIOS! → Izzet Spells no Alchemy c...</td>\n",
              "      <td>UMotivo</td>\n",
              "      <td>8137.0</td>\n",
              "      <td>20214.0</td>\n",
              "      <td>12077.0</td>\n",
              "    </tr>\n",
              "    <tr>\n",
              "      <th>772</th>\n",
              "      <td>⚪ O NOVO WHITE WEENIE → Basri Ket Aggro, com C...</td>\n",
              "      <td>UMotivo</td>\n",
              "      <td>16050.0</td>\n",
              "      <td>6022.0</td>\n",
              "      <td>-10028.0</td>\n",
              "    </tr>\n",
              "    <tr>\n",
              "      <th>1728</th>\n",
              "      <td>PI - Comando \"para\"</td>\n",
              "      <td>Carla Quem Disse</td>\n",
              "      <td>160.0</td>\n",
              "      <td>147.0</td>\n",
              "      <td>-13.0</td>\n",
              "    </tr>\n",
              "    <tr>\n",
              "      <th>387</th>\n",
              "      <td>The Best Test of General Relativity (by 2 Misp...</td>\n",
              "      <td>Veritasium</td>\n",
              "      <td>1858083.0</td>\n",
              "      <td>21720570.0</td>\n",
              "      <td>19862487.0</td>\n",
              "    </tr>\n",
              "  </tbody>\n",
              "</table>\n",
              "</div>\n",
              "      <button class=\"colab-df-convert\" onclick=\"convertToInteractive('df-669ce9ed-348b-4209-82f4-4ece1b539702')\"\n",
              "              title=\"Convert this dataframe to an interactive table.\"\n",
              "              style=\"display:none;\">\n",
              "        \n",
              "  <svg xmlns=\"http://www.w3.org/2000/svg\" height=\"24px\"viewBox=\"0 0 24 24\"\n",
              "       width=\"24px\">\n",
              "    <path d=\"M0 0h24v24H0V0z\" fill=\"none\"/>\n",
              "    <path d=\"M18.56 5.44l.94 2.06.94-2.06 2.06-.94-2.06-.94-.94-2.06-.94 2.06-2.06.94zm-11 1L8.5 8.5l.94-2.06 2.06-.94-2.06-.94L8.5 2.5l-.94 2.06-2.06.94zm10 10l.94 2.06.94-2.06 2.06-.94-2.06-.94-.94-2.06-.94 2.06-2.06.94z\"/><path d=\"M17.41 7.96l-1.37-1.37c-.4-.4-.92-.59-1.43-.59-.52 0-1.04.2-1.43.59L10.3 9.45l-7.72 7.72c-.78.78-.78 2.05 0 2.83L4 21.41c.39.39.9.59 1.41.59.51 0 1.02-.2 1.41-.59l7.78-7.78 2.81-2.81c.8-.78.8-2.07 0-2.86zM5.41 20L4 18.59l7.72-7.72 1.47 1.35L5.41 20z\"/>\n",
              "  </svg>\n",
              "      </button>\n",
              "      \n",
              "  <style>\n",
              "    .colab-df-container {\n",
              "      display:flex;\n",
              "      flex-wrap:wrap;\n",
              "      gap: 12px;\n",
              "    }\n",
              "\n",
              "    .colab-df-convert {\n",
              "      background-color: #E8F0FE;\n",
              "      border: none;\n",
              "      border-radius: 50%;\n",
              "      cursor: pointer;\n",
              "      display: none;\n",
              "      fill: #1967D2;\n",
              "      height: 32px;\n",
              "      padding: 0 0 0 0;\n",
              "      width: 32px;\n",
              "    }\n",
              "\n",
              "    .colab-df-convert:hover {\n",
              "      background-color: #E2EBFA;\n",
              "      box-shadow: 0px 1px 2px rgba(60, 64, 67, 0.3), 0px 1px 3px 1px rgba(60, 64, 67, 0.15);\n",
              "      fill: #174EA6;\n",
              "    }\n",
              "\n",
              "    [theme=dark] .colab-df-convert {\n",
              "      background-color: #3B4455;\n",
              "      fill: #D2E3FC;\n",
              "    }\n",
              "\n",
              "    [theme=dark] .colab-df-convert:hover {\n",
              "      background-color: #434B5C;\n",
              "      box-shadow: 0px 1px 3px 1px rgba(0, 0, 0, 0.15);\n",
              "      filter: drop-shadow(0px 1px 2px rgba(0, 0, 0, 0.3));\n",
              "      fill: #FFFFFF;\n",
              "    }\n",
              "  </style>\n",
              "\n",
              "      <script>\n",
              "        const buttonEl =\n",
              "          document.querySelector('#df-669ce9ed-348b-4209-82f4-4ece1b539702 button.colab-df-convert');\n",
              "        buttonEl.style.display =\n",
              "          google.colab.kernel.accessAllowed ? 'block' : 'none';\n",
              "\n",
              "        async function convertToInteractive(key) {\n",
              "          const element = document.querySelector('#df-669ce9ed-348b-4209-82f4-4ece1b539702');\n",
              "          const dataTable =\n",
              "            await google.colab.kernel.invokeFunction('convertToInteractive',\n",
              "                                                     [key], {});\n",
              "          if (!dataTable) return;\n",
              "\n",
              "          const docLinkHtml = 'Like what you see? Visit the ' +\n",
              "            '<a target=\"_blank\" href=https://colab.research.google.com/notebooks/data_table.ipynb>data table notebook</a>'\n",
              "            + ' to learn more about interactive tables.';\n",
              "          element.innerHTML = '';\n",
              "          dataTable['output_type'] = 'display_data';\n",
              "          await google.colab.output.renderOutput(dataTable, element);\n",
              "          const docLink = document.createElement('div');\n",
              "          docLink.innerHTML = docLinkHtml;\n",
              "          element.appendChild(docLink);\n",
              "        }\n",
              "      </script>\n",
              "    </div>\n",
              "  </div>\n",
              "  "
            ]
          },
          "metadata": {},
          "execution_count": 29
        }
      ]
    },
    {
      "cell_type": "markdown",
      "source": [
        "### 2.3.5) Prediction metrics"
      ],
      "metadata": {
        "id": "38971aj3UrcN"
      }
    },
    {
      "cell_type": "code",
      "source": [
        "model_score_baseline2 = model_baseline2.score(X_test_baseline2, yt_y_test)\n",
        "model_score_baseline2"
      ],
      "metadata": {
        "colab": {
          "base_uri": "https://localhost:8080/"
        },
        "outputId": "51ede25a-9d95-43c1-ffb7-e161426d77de",
        "id": "vSRIjYNrUrcO"
      },
      "execution_count": 30,
      "outputs": [
        {
          "output_type": "execute_result",
          "data": {
            "text/plain": [
              "0.8767191632447643"
            ]
          },
          "metadata": {},
          "execution_count": 30
        }
      ]
    },
    {
      "cell_type": "markdown",
      "source": [
        "This is a way better model, but it is still worse than the dummy model, so we clearly don't want to use it either. \n",
        "\n",
        "Now we will try to use another model, a little bit more sophisticated."
      ],
      "metadata": {
        "id": "965Pu4-8UrcO"
      }
    },
    {
      "cell_type": "markdown",
      "source": [
        "## 2.5) Challenger model 1\n",
        "\n",
        "So far we have only used Decision Trees Regressor. Now we will use a Histogram Gradient Boosting Regressor."
      ],
      "metadata": {
        "id": "3xSLbCqvYGBZ"
      }
    },
    {
      "cell_type": "markdown",
      "source": [
        "### 2.4.1) Let's select the features that we can actually use"
      ],
      "metadata": {
        "id": "KkklYoVeYGBb"
      }
    },
    {
      "cell_type": "code",
      "source": [
        "X_train_challenger1 = yt_X_train[['n_words_title', 'n_question_marks_title', 'n_exclamation_marks_title',\n",
        "                      'n_ellipsis_title', 'thumb_red', 'thumb_green', 'thumb_blue', \n",
        "                      'video_duration', 'upload_day_name', 'upload_hour_local', 'channel_title']]\n",
        "\n",
        "X_test_challenger1 = yt_X_test[['n_words_title', 'n_question_marks_title', 'n_exclamation_marks_title',\n",
        "                      'n_ellipsis_title', 'thumb_red', 'thumb_green', 'thumb_blue', \n",
        "                      'video_duration', 'upload_day_name', 'upload_hour_local', 'channel_title']]"
      ],
      "metadata": {
        "id": "vCFmiWdzYGBb"
      },
      "execution_count": 31,
      "outputs": []
    },
    {
      "cell_type": "markdown",
      "source": [
        "### 2.4.2) Build the model pipeline"
      ],
      "metadata": {
        "id": "HvJUWrSZYGBe"
      }
    },
    {
      "cell_type": "code",
      "source": [
        "categorical_columns_selector = selector(dtype_include=object)\n",
        "\n",
        "categorical_columns_challenger1 = categorical_columns_selector(X_train_challenger1)"
      ],
      "metadata": {
        "id": "LeD1qIIbYGBc"
      },
      "execution_count": 32,
      "outputs": []
    },
    {
      "cell_type": "code",
      "source": [
        "categorical_preprocessor = OrdinalEncoder(handle_unknown=\"use_encoded_value\",\n",
        "                                          unknown_value=-1)\n",
        "\n",
        "preprocessor_challenger1 = ColumnTransformer([\n",
        "    ('categorical', categorical_preprocessor, categorical_columns_challenger1)],\n",
        "    remainder=\"passthrough\")"
      ],
      "metadata": {
        "id": "cKZmyG8-YGBe"
      },
      "execution_count": 33,
      "outputs": []
    },
    {
      "cell_type": "code",
      "source": [
        "model_challenger1 = make_pipeline(preprocessor_challenger1, HistGradientBoostingRegressor(loss='squared_error', max_iter=50, min_samples_leaf=30))\n",
        "model_challenger1"
      ],
      "metadata": {
        "colab": {
          "base_uri": "https://localhost:8080/"
        },
        "outputId": "8bb2ab2d-be30-4c71-f2d2-1b3c3357f6e8",
        "id": "VnrOfTd0YGBf"
      },
      "execution_count": 34,
      "outputs": [
        {
          "output_type": "execute_result",
          "data": {
            "text/plain": [
              "Pipeline(steps=[('columntransformer',\n",
              "                 ColumnTransformer(remainder='passthrough',\n",
              "                                   transformers=[('categorical',\n",
              "                                                  OrdinalEncoder(handle_unknown='use_encoded_value',\n",
              "                                                                 unknown_value=-1),\n",
              "                                                  ['upload_day_name',\n",
              "                                                   'upload_hour_local',\n",
              "                                                   'channel_title'])])),\n",
              "                ('histgradientboostingregressor',\n",
              "                 HistGradientBoostingRegressor(max_iter=50,\n",
              "                                               min_samples_leaf=30))])"
            ]
          },
          "metadata": {},
          "execution_count": 34
        }
      ]
    },
    {
      "cell_type": "markdown",
      "source": [
        "### 2.4.3) Train model"
      ],
      "metadata": {
        "id": "hGmKGHZoYGBf"
      }
    },
    {
      "cell_type": "code",
      "source": [
        "_ = model_challenger1.fit(X_train_challenger1, yt_y_train)"
      ],
      "metadata": {
        "id": "tWU3Ls2CYGBg"
      },
      "execution_count": 35,
      "outputs": []
    },
    {
      "cell_type": "markdown",
      "source": [
        "### 2.4.4) Make predictions"
      ],
      "metadata": {
        "id": "BrLQjoqfYGBg"
      }
    },
    {
      "cell_type": "code",
      "source": [
        "predictions_challenger1 = model_challenger1.predict(X_test_challenger1) # make predictions\n",
        "predictions_challenger1_pretty = predictions_pretty_print_df(predictions_challenger1, f_inv)\n",
        "predictions_challenger1_pretty.head()"
      ],
      "metadata": {
        "colab": {
          "base_uri": "https://localhost:8080/",
          "height": 0
        },
        "outputId": "c63ac3e2-2e5f-4e21-925b-923d70510f56",
        "id": "ic0Bwh-RYGBh"
      },
      "execution_count": 36,
      "outputs": [
        {
          "output_type": "execute_result",
          "data": {
            "text/plain": [
              "                                            video_title     channel_title  \\\n",
              "1583  Trying to Catch a 1,000 MPH Baseball - Smarter...   SmarterEveryDay   \n",
              "1745  ⚡ TRIBAL DE RAIOS! → Izzet Spells no Alchemy c...           UMotivo   \n",
              "772   ⚪ O NOVO WHITE WEENIE → Basri Ket Aggro, com C...           UMotivo   \n",
              "1728                                PI - Comando \"para\"  Carla Quem Disse   \n",
              "387   The Best Test of General Relativity (by 2 Misp...        Veritasium   \n",
              "\n",
              "      view_count  view_count_pred         error  \n",
              "1583  15180905.0     5.120980e+06 -1.005993e+07  \n",
              "1745      8137.0     1.379160e+04  5.654598e+03  \n",
              "772      16050.0     1.422500e+04 -1.825002e+03  \n",
              "1728       160.0     4.910519e+02  3.310519e+02  \n",
              "387    1858083.0     3.132567e+06  1.274484e+06  "
            ],
            "text/html": [
              "\n",
              "  <div id=\"df-d95b5491-6398-4e4d-933b-cd80d99779d9\">\n",
              "    <div class=\"colab-df-container\">\n",
              "      <div>\n",
              "<style scoped>\n",
              "    .dataframe tbody tr th:only-of-type {\n",
              "        vertical-align: middle;\n",
              "    }\n",
              "\n",
              "    .dataframe tbody tr th {\n",
              "        vertical-align: top;\n",
              "    }\n",
              "\n",
              "    .dataframe thead th {\n",
              "        text-align: right;\n",
              "    }\n",
              "</style>\n",
              "<table border=\"1\" class=\"dataframe\">\n",
              "  <thead>\n",
              "    <tr style=\"text-align: right;\">\n",
              "      <th></th>\n",
              "      <th>video_title</th>\n",
              "      <th>channel_title</th>\n",
              "      <th>view_count</th>\n",
              "      <th>view_count_pred</th>\n",
              "      <th>error</th>\n",
              "    </tr>\n",
              "  </thead>\n",
              "  <tbody>\n",
              "    <tr>\n",
              "      <th>1583</th>\n",
              "      <td>Trying to Catch a 1,000 MPH Baseball - Smarter...</td>\n",
              "      <td>SmarterEveryDay</td>\n",
              "      <td>15180905.0</td>\n",
              "      <td>5.120980e+06</td>\n",
              "      <td>-1.005993e+07</td>\n",
              "    </tr>\n",
              "    <tr>\n",
              "      <th>1745</th>\n",
              "      <td>⚡ TRIBAL DE RAIOS! → Izzet Spells no Alchemy c...</td>\n",
              "      <td>UMotivo</td>\n",
              "      <td>8137.0</td>\n",
              "      <td>1.379160e+04</td>\n",
              "      <td>5.654598e+03</td>\n",
              "    </tr>\n",
              "    <tr>\n",
              "      <th>772</th>\n",
              "      <td>⚪ O NOVO WHITE WEENIE → Basri Ket Aggro, com C...</td>\n",
              "      <td>UMotivo</td>\n",
              "      <td>16050.0</td>\n",
              "      <td>1.422500e+04</td>\n",
              "      <td>-1.825002e+03</td>\n",
              "    </tr>\n",
              "    <tr>\n",
              "      <th>1728</th>\n",
              "      <td>PI - Comando \"para\"</td>\n",
              "      <td>Carla Quem Disse</td>\n",
              "      <td>160.0</td>\n",
              "      <td>4.910519e+02</td>\n",
              "      <td>3.310519e+02</td>\n",
              "    </tr>\n",
              "    <tr>\n",
              "      <th>387</th>\n",
              "      <td>The Best Test of General Relativity (by 2 Misp...</td>\n",
              "      <td>Veritasium</td>\n",
              "      <td>1858083.0</td>\n",
              "      <td>3.132567e+06</td>\n",
              "      <td>1.274484e+06</td>\n",
              "    </tr>\n",
              "  </tbody>\n",
              "</table>\n",
              "</div>\n",
              "      <button class=\"colab-df-convert\" onclick=\"convertToInteractive('df-d95b5491-6398-4e4d-933b-cd80d99779d9')\"\n",
              "              title=\"Convert this dataframe to an interactive table.\"\n",
              "              style=\"display:none;\">\n",
              "        \n",
              "  <svg xmlns=\"http://www.w3.org/2000/svg\" height=\"24px\"viewBox=\"0 0 24 24\"\n",
              "       width=\"24px\">\n",
              "    <path d=\"M0 0h24v24H0V0z\" fill=\"none\"/>\n",
              "    <path d=\"M18.56 5.44l.94 2.06.94-2.06 2.06-.94-2.06-.94-.94-2.06-.94 2.06-2.06.94zm-11 1L8.5 8.5l.94-2.06 2.06-.94-2.06-.94L8.5 2.5l-.94 2.06-2.06.94zm10 10l.94 2.06.94-2.06 2.06-.94-2.06-.94-.94-2.06-.94 2.06-2.06.94z\"/><path d=\"M17.41 7.96l-1.37-1.37c-.4-.4-.92-.59-1.43-.59-.52 0-1.04.2-1.43.59L10.3 9.45l-7.72 7.72c-.78.78-.78 2.05 0 2.83L4 21.41c.39.39.9.59 1.41.59.51 0 1.02-.2 1.41-.59l7.78-7.78 2.81-2.81c.8-.78.8-2.07 0-2.86zM5.41 20L4 18.59l7.72-7.72 1.47 1.35L5.41 20z\"/>\n",
              "  </svg>\n",
              "      </button>\n",
              "      \n",
              "  <style>\n",
              "    .colab-df-container {\n",
              "      display:flex;\n",
              "      flex-wrap:wrap;\n",
              "      gap: 12px;\n",
              "    }\n",
              "\n",
              "    .colab-df-convert {\n",
              "      background-color: #E8F0FE;\n",
              "      border: none;\n",
              "      border-radius: 50%;\n",
              "      cursor: pointer;\n",
              "      display: none;\n",
              "      fill: #1967D2;\n",
              "      height: 32px;\n",
              "      padding: 0 0 0 0;\n",
              "      width: 32px;\n",
              "    }\n",
              "\n",
              "    .colab-df-convert:hover {\n",
              "      background-color: #E2EBFA;\n",
              "      box-shadow: 0px 1px 2px rgba(60, 64, 67, 0.3), 0px 1px 3px 1px rgba(60, 64, 67, 0.15);\n",
              "      fill: #174EA6;\n",
              "    }\n",
              "\n",
              "    [theme=dark] .colab-df-convert {\n",
              "      background-color: #3B4455;\n",
              "      fill: #D2E3FC;\n",
              "    }\n",
              "\n",
              "    [theme=dark] .colab-df-convert:hover {\n",
              "      background-color: #434B5C;\n",
              "      box-shadow: 0px 1px 3px 1px rgba(0, 0, 0, 0.15);\n",
              "      filter: drop-shadow(0px 1px 2px rgba(0, 0, 0, 0.3));\n",
              "      fill: #FFFFFF;\n",
              "    }\n",
              "  </style>\n",
              "\n",
              "      <script>\n",
              "        const buttonEl =\n",
              "          document.querySelector('#df-d95b5491-6398-4e4d-933b-cd80d99779d9 button.colab-df-convert');\n",
              "        buttonEl.style.display =\n",
              "          google.colab.kernel.accessAllowed ? 'block' : 'none';\n",
              "\n",
              "        async function convertToInteractive(key) {\n",
              "          const element = document.querySelector('#df-d95b5491-6398-4e4d-933b-cd80d99779d9');\n",
              "          const dataTable =\n",
              "            await google.colab.kernel.invokeFunction('convertToInteractive',\n",
              "                                                     [key], {});\n",
              "          if (!dataTable) return;\n",
              "\n",
              "          const docLinkHtml = 'Like what you see? Visit the ' +\n",
              "            '<a target=\"_blank\" href=https://colab.research.google.com/notebooks/data_table.ipynb>data table notebook</a>'\n",
              "            + ' to learn more about interactive tables.';\n",
              "          element.innerHTML = '';\n",
              "          dataTable['output_type'] = 'display_data';\n",
              "          await google.colab.output.renderOutput(dataTable, element);\n",
              "          const docLink = document.createElement('div');\n",
              "          docLink.innerHTML = docLinkHtml;\n",
              "          element.appendChild(docLink);\n",
              "        }\n",
              "      </script>\n",
              "    </div>\n",
              "  </div>\n",
              "  "
            ]
          },
          "metadata": {},
          "execution_count": 36
        }
      ]
    },
    {
      "cell_type": "markdown",
      "source": [
        "### 2.4.5) Prediction metrics\n"
      ],
      "metadata": {
        "id": "zdo8Wm0sYGBi"
      }
    },
    {
      "cell_type": "code",
      "source": [
        "model_score_challenger1 = model_challenger1.score(yt_X_test, yt_y_test)\n",
        "model_score_challenger1"
      ],
      "metadata": {
        "colab": {
          "base_uri": "https://localhost:8080/"
        },
        "outputId": "db4ef979-d28f-4598-c2e9-5f80562be363",
        "id": "94Cv1RvVYGBj"
      },
      "execution_count": 37,
      "outputs": [
        {
          "output_type": "execute_result",
          "data": {
            "text/plain": [
              "0.9161204265820342"
            ]
          },
          "metadata": {},
          "execution_count": 37
        }
      ]
    },
    {
      "cell_type": "markdown",
      "source": [
        "This is the first model that is actually better than the dummy model, but only with a really small margin. This means that it is actually better to implement the dummy model so far, i.e., it gives best compromise between effort and value."
      ],
      "metadata": {
        "id": "cI4amYMgYGBj"
      }
    },
    {
      "cell_type": "markdown",
      "source": [
        "## 2.6) Challenger model 2\n",
        "\n",
        "Histogram Gradient Boosting Regressor removing features associated with main thumbnail color."
      ],
      "metadata": {
        "id": "aJQRH37dckgL"
      }
    },
    {
      "cell_type": "markdown",
      "source": [
        "### 2.5.2) Let's select the features that we can actually use\n",
        "Note that likes_count and comments_count for example cannot be used because it would be considered data leakege. These features are highly correlated with view count because it actually comes **after** a video is watched."
      ],
      "metadata": {
        "id": "YdxxQ-dJckgl"
      }
    },
    {
      "cell_type": "code",
      "source": [
        "X_train_challenger2 = yt_X_train[['n_words_title', 'n_question_marks_title', 'n_exclamation_marks_title',\n",
        "                      'n_ellipsis_title', 'video_duration', 'upload_day_name', \n",
        "                   'upload_hour_local', 'channel_title']]\n",
        "\n",
        "X_test_challenger2 = yt_X_test[['n_words_title', 'n_question_marks_title', 'n_exclamation_marks_title',\n",
        "                      'n_ellipsis_title', 'video_duration', 'upload_day_name', \n",
        "                   'upload_hour_local', 'channel_title']]"
      ],
      "metadata": {
        "id": "2CB65Itjckgl"
      },
      "execution_count": 38,
      "outputs": []
    },
    {
      "cell_type": "markdown",
      "source": [
        "### 2.5.2) Build the model pipeline"
      ],
      "metadata": {
        "id": "-LpuyzLkckgm"
      }
    },
    {
      "cell_type": "code",
      "source": [
        "categorical_columns_selector = selector(dtype_include=object)\n",
        "\n",
        "categorical_columns_challenger2 = categorical_columns_selector(X_train_challenger2)"
      ],
      "metadata": {
        "id": "1W26XThzckgl"
      },
      "execution_count": 39,
      "outputs": []
    },
    {
      "cell_type": "code",
      "source": [
        "categorical_preprocessor = OrdinalEncoder(handle_unknown=\"use_encoded_value\",\n",
        "                                          unknown_value=-1)\n",
        "\n",
        "preprocessor_challenger2 = ColumnTransformer([\n",
        "    ('categorical', categorical_preprocessor, categorical_columns_challenger2)],\n",
        "    remainder=\"passthrough\")"
      ],
      "metadata": {
        "id": "qZAwxcnackgm"
      },
      "execution_count": 40,
      "outputs": []
    },
    {
      "cell_type": "code",
      "source": [
        "#Best Hyperparameters: {'HGBRegr__loss': 'absolute_error', 'HGBRegr__max_iter': 200, 'HGBRegr__min_samples_leaf': 5}\n",
        "model_challenger2 = make_pipeline(preprocessor_challenger2, HistGradientBoostingRegressor(loss = 'absolute_error', max_iter=200, min_samples_leaf=5))\n",
        "model_challenger2"
      ],
      "metadata": {
        "colab": {
          "base_uri": "https://localhost:8080/"
        },
        "outputId": "4fc1c00e-b1fd-4092-ff3c-9828a3744a6c",
        "id": "9EwuNHhWckgm"
      },
      "execution_count": 90,
      "outputs": [
        {
          "output_type": "execute_result",
          "data": {
            "text/plain": [
              "Pipeline(steps=[('columntransformer',\n",
              "                 ColumnTransformer(remainder='passthrough',\n",
              "                                   transformers=[('categorical',\n",
              "                                                  OrdinalEncoder(handle_unknown='use_encoded_value',\n",
              "                                                                 unknown_value=-1),\n",
              "                                                  ['upload_day_name',\n",
              "                                                   'upload_hour_local',\n",
              "                                                   'channel_title'])])),\n",
              "                ('histgradientboostingregressor',\n",
              "                 HistGradientBoostingRegressor(loss='absolute_error',\n",
              "                                               max_iter=200,\n",
              "                                               min_samples_leaf=5))])"
            ]
          },
          "metadata": {},
          "execution_count": 90
        }
      ]
    },
    {
      "cell_type": "markdown",
      "source": [
        "### 2.5.3) Train model"
      ],
      "metadata": {
        "id": "bbJc7shOckgn"
      }
    },
    {
      "cell_type": "code",
      "source": [
        "_ = model_challenger2.fit(X_train_challenger2, yt_y_train)"
      ],
      "metadata": {
        "id": "tR_soKu0ckgn"
      },
      "execution_count": 91,
      "outputs": []
    },
    {
      "cell_type": "markdown",
      "source": [
        "### 2.5.4) Make predictions"
      ],
      "metadata": {
        "id": "iJMFtIt-ckgn"
      }
    },
    {
      "cell_type": "code",
      "source": [
        "predictions_challenger2 = model_challenger2.predict(X_test_challenger2) # make predictions\n",
        "predictions_challenger2_pretty = predictions_pretty_print_df(predictions_challenger2, f_inv)\n",
        "predictions_challenger2_pretty.head()"
      ],
      "metadata": {
        "colab": {
          "base_uri": "https://localhost:8080/",
          "height": 206
        },
        "outputId": "45afcc78-cf57-491c-d548-f976626d809a",
        "id": "sX69PdLnckgn"
      },
      "execution_count": 92,
      "outputs": [
        {
          "output_type": "execute_result",
          "data": {
            "text/plain": [
              "                                            video_title     channel_title  \\\n",
              "1583  Trying to Catch a 1,000 MPH Baseball - Smarter...   SmarterEveryDay   \n",
              "1745  ⚡ TRIBAL DE RAIOS! → Izzet Spells no Alchemy c...           UMotivo   \n",
              "772   ⚪ O NOVO WHITE WEENIE → Basri Ket Aggro, com C...           UMotivo   \n",
              "1728                                PI - Comando \"para\"  Carla Quem Disse   \n",
              "387   The Best Test of General Relativity (by 2 Misp...        Veritasium   \n",
              "\n",
              "      view_count  view_count_pred         error  \n",
              "1583  15180905.0     3.505088e+06 -1.167582e+07  \n",
              "1745      8137.0     1.024787e+04  2.110873e+03  \n",
              "772      16050.0     1.289614e+04 -3.153863e+03  \n",
              "1728       160.0     3.627910e+02  2.027910e+02  \n",
              "387    1858083.0     5.092161e+06  3.234078e+06  "
            ],
            "text/html": [
              "\n",
              "  <div id=\"df-69d185f9-6420-4b6c-b259-d8d4c61d5a17\">\n",
              "    <div class=\"colab-df-container\">\n",
              "      <div>\n",
              "<style scoped>\n",
              "    .dataframe tbody tr th:only-of-type {\n",
              "        vertical-align: middle;\n",
              "    }\n",
              "\n",
              "    .dataframe tbody tr th {\n",
              "        vertical-align: top;\n",
              "    }\n",
              "\n",
              "    .dataframe thead th {\n",
              "        text-align: right;\n",
              "    }\n",
              "</style>\n",
              "<table border=\"1\" class=\"dataframe\">\n",
              "  <thead>\n",
              "    <tr style=\"text-align: right;\">\n",
              "      <th></th>\n",
              "      <th>video_title</th>\n",
              "      <th>channel_title</th>\n",
              "      <th>view_count</th>\n",
              "      <th>view_count_pred</th>\n",
              "      <th>error</th>\n",
              "    </tr>\n",
              "  </thead>\n",
              "  <tbody>\n",
              "    <tr>\n",
              "      <th>1583</th>\n",
              "      <td>Trying to Catch a 1,000 MPH Baseball - Smarter...</td>\n",
              "      <td>SmarterEveryDay</td>\n",
              "      <td>15180905.0</td>\n",
              "      <td>3.505088e+06</td>\n",
              "      <td>-1.167582e+07</td>\n",
              "    </tr>\n",
              "    <tr>\n",
              "      <th>1745</th>\n",
              "      <td>⚡ TRIBAL DE RAIOS! → Izzet Spells no Alchemy c...</td>\n",
              "      <td>UMotivo</td>\n",
              "      <td>8137.0</td>\n",
              "      <td>1.024787e+04</td>\n",
              "      <td>2.110873e+03</td>\n",
              "    </tr>\n",
              "    <tr>\n",
              "      <th>772</th>\n",
              "      <td>⚪ O NOVO WHITE WEENIE → Basri Ket Aggro, com C...</td>\n",
              "      <td>UMotivo</td>\n",
              "      <td>16050.0</td>\n",
              "      <td>1.289614e+04</td>\n",
              "      <td>-3.153863e+03</td>\n",
              "    </tr>\n",
              "    <tr>\n",
              "      <th>1728</th>\n",
              "      <td>PI - Comando \"para\"</td>\n",
              "      <td>Carla Quem Disse</td>\n",
              "      <td>160.0</td>\n",
              "      <td>3.627910e+02</td>\n",
              "      <td>2.027910e+02</td>\n",
              "    </tr>\n",
              "    <tr>\n",
              "      <th>387</th>\n",
              "      <td>The Best Test of General Relativity (by 2 Misp...</td>\n",
              "      <td>Veritasium</td>\n",
              "      <td>1858083.0</td>\n",
              "      <td>5.092161e+06</td>\n",
              "      <td>3.234078e+06</td>\n",
              "    </tr>\n",
              "  </tbody>\n",
              "</table>\n",
              "</div>\n",
              "      <button class=\"colab-df-convert\" onclick=\"convertToInteractive('df-69d185f9-6420-4b6c-b259-d8d4c61d5a17')\"\n",
              "              title=\"Convert this dataframe to an interactive table.\"\n",
              "              style=\"display:none;\">\n",
              "        \n",
              "  <svg xmlns=\"http://www.w3.org/2000/svg\" height=\"24px\"viewBox=\"0 0 24 24\"\n",
              "       width=\"24px\">\n",
              "    <path d=\"M0 0h24v24H0V0z\" fill=\"none\"/>\n",
              "    <path d=\"M18.56 5.44l.94 2.06.94-2.06 2.06-.94-2.06-.94-.94-2.06-.94 2.06-2.06.94zm-11 1L8.5 8.5l.94-2.06 2.06-.94-2.06-.94L8.5 2.5l-.94 2.06-2.06.94zm10 10l.94 2.06.94-2.06 2.06-.94-2.06-.94-.94-2.06-.94 2.06-2.06.94z\"/><path d=\"M17.41 7.96l-1.37-1.37c-.4-.4-.92-.59-1.43-.59-.52 0-1.04.2-1.43.59L10.3 9.45l-7.72 7.72c-.78.78-.78 2.05 0 2.83L4 21.41c.39.39.9.59 1.41.59.51 0 1.02-.2 1.41-.59l7.78-7.78 2.81-2.81c.8-.78.8-2.07 0-2.86zM5.41 20L4 18.59l7.72-7.72 1.47 1.35L5.41 20z\"/>\n",
              "  </svg>\n",
              "      </button>\n",
              "      \n",
              "  <style>\n",
              "    .colab-df-container {\n",
              "      display:flex;\n",
              "      flex-wrap:wrap;\n",
              "      gap: 12px;\n",
              "    }\n",
              "\n",
              "    .colab-df-convert {\n",
              "      background-color: #E8F0FE;\n",
              "      border: none;\n",
              "      border-radius: 50%;\n",
              "      cursor: pointer;\n",
              "      display: none;\n",
              "      fill: #1967D2;\n",
              "      height: 32px;\n",
              "      padding: 0 0 0 0;\n",
              "      width: 32px;\n",
              "    }\n",
              "\n",
              "    .colab-df-convert:hover {\n",
              "      background-color: #E2EBFA;\n",
              "      box-shadow: 0px 1px 2px rgba(60, 64, 67, 0.3), 0px 1px 3px 1px rgba(60, 64, 67, 0.15);\n",
              "      fill: #174EA6;\n",
              "    }\n",
              "\n",
              "    [theme=dark] .colab-df-convert {\n",
              "      background-color: #3B4455;\n",
              "      fill: #D2E3FC;\n",
              "    }\n",
              "\n",
              "    [theme=dark] .colab-df-convert:hover {\n",
              "      background-color: #434B5C;\n",
              "      box-shadow: 0px 1px 3px 1px rgba(0, 0, 0, 0.15);\n",
              "      filter: drop-shadow(0px 1px 2px rgba(0, 0, 0, 0.3));\n",
              "      fill: #FFFFFF;\n",
              "    }\n",
              "  </style>\n",
              "\n",
              "      <script>\n",
              "        const buttonEl =\n",
              "          document.querySelector('#df-69d185f9-6420-4b6c-b259-d8d4c61d5a17 button.colab-df-convert');\n",
              "        buttonEl.style.display =\n",
              "          google.colab.kernel.accessAllowed ? 'block' : 'none';\n",
              "\n",
              "        async function convertToInteractive(key) {\n",
              "          const element = document.querySelector('#df-69d185f9-6420-4b6c-b259-d8d4c61d5a17');\n",
              "          const dataTable =\n",
              "            await google.colab.kernel.invokeFunction('convertToInteractive',\n",
              "                                                     [key], {});\n",
              "          if (!dataTable) return;\n",
              "\n",
              "          const docLinkHtml = 'Like what you see? Visit the ' +\n",
              "            '<a target=\"_blank\" href=https://colab.research.google.com/notebooks/data_table.ipynb>data table notebook</a>'\n",
              "            + ' to learn more about interactive tables.';\n",
              "          element.innerHTML = '';\n",
              "          dataTable['output_type'] = 'display_data';\n",
              "          await google.colab.output.renderOutput(dataTable, element);\n",
              "          const docLink = document.createElement('div');\n",
              "          docLink.innerHTML = docLinkHtml;\n",
              "          element.appendChild(docLink);\n",
              "        }\n",
              "      </script>\n",
              "    </div>\n",
              "  </div>\n",
              "  "
            ]
          },
          "metadata": {},
          "execution_count": 92
        }
      ]
    },
    {
      "cell_type": "markdown",
      "source": [
        "### 2.5.5) Prediction metrics\n",
        "We will use \"model.score\", i.e., coefficient of determination R^2."
      ],
      "metadata": {
        "id": "4jR5YAXYckgo"
      }
    },
    {
      "cell_type": "code",
      "source": [
        "model_score_challenger2 = model_challenger2.score(X_test_challenger2, yt_y_test)\n",
        "model_score_challenger2"
      ],
      "metadata": {
        "id": "Lslc0BOUckgo",
        "colab": {
          "base_uri": "https://localhost:8080/"
        },
        "outputId": "b532f3e7-d1d4-4afb-d21c-fa6cd0073d30"
      },
      "execution_count": 93,
      "outputs": [
        {
          "output_type": "execute_result",
          "data": {
            "text/plain": [
              "0.9263967731200753"
            ]
          },
          "metadata": {},
          "execution_count": 93
        }
      ]
    },
    {
      "cell_type": "markdown",
      "source": [
        "Another small improvement here! Thumbnail main color was actually a bad feature for this model. It seems a good idea, maybe implementation is bad (we could use main color that CONTRASTS with background, or a pallette of colors)."
      ],
      "metadata": {
        "id": "koeAyN7Yckgp"
      }
    },
    {
      "cell_type": "markdown",
      "source": [
        "## 2.7) Challenger model 3\n",
        "\n",
        "Histogram Gradient Boosting Regressor using only video duration and channel title."
      ],
      "metadata": {
        "id": "BeUrialsdjJC"
      }
    },
    {
      "cell_type": "markdown",
      "source": [
        "### 2.5.1) Let's select the features that we can actually use\n",
        "Note that likes_count and comments_count for example cannot be used because it would be considered data leakege. These features are highly correlated with view count because it actually comes **after** a video is watched."
      ],
      "metadata": {
        "id": "xrb-9u4kdjJD"
      }
    },
    {
      "cell_type": "code",
      "source": [
        "X_train_challenger3 = yt_X_train[['video_duration', 'channel_title']]\n",
        "\n",
        "X_test_challenger3 = yt_X_test[['video_duration', 'channel_title']]"
      ],
      "metadata": {
        "id": "ouU_qZ-ZdjJE"
      },
      "execution_count": 45,
      "outputs": []
    },
    {
      "cell_type": "markdown",
      "source": [
        "### 2.5.2) Build the model pipeline"
      ],
      "metadata": {
        "id": "RR2mnbRGdjJG"
      }
    },
    {
      "cell_type": "code",
      "source": [
        "categorical_columns_selector = selector(dtype_include=object)\n",
        "\n",
        "categorical_columns_challenger3 = categorical_columns_selector(X_train_challenger3)"
      ],
      "metadata": {
        "id": "FGCs9qJ3djJE"
      },
      "execution_count": 46,
      "outputs": []
    },
    {
      "cell_type": "code",
      "source": [
        "categorical_preprocessor = OrdinalEncoder(handle_unknown=\"use_encoded_value\",\n",
        "                                          unknown_value=-1)\n",
        "\n",
        "preprocessor_challenger3 = ColumnTransformer([\n",
        "    ('categorical', categorical_preprocessor, categorical_columns_challenger3)],\n",
        "    remainder=\"passthrough\")"
      ],
      "metadata": {
        "id": "P26InIgrdjJG"
      },
      "execution_count": 47,
      "outputs": []
    },
    {
      "cell_type": "code",
      "source": [
        "# Best Hyperparameters: {'HGBRegr__loss': 'absolute_error', 'HGBRegr__max_iter': 50, 'HGBRegr__min_samples_leaf': 10} -> from Grid Search\n",
        "model_challenger3 = make_pipeline(preprocessor_challenger3, HistGradientBoostingRegressor(loss='absolute_error', max_iter=50, min_samples_leaf=10))\n",
        "model_challenger3"
      ],
      "metadata": {
        "colab": {
          "base_uri": "https://localhost:8080/"
        },
        "outputId": "ff1e340f-84c1-40d1-e6b8-23d01c1091b2",
        "id": "QeQDLXdWdjJH"
      },
      "execution_count": 48,
      "outputs": [
        {
          "output_type": "execute_result",
          "data": {
            "text/plain": [
              "Pipeline(steps=[('columntransformer',\n",
              "                 ColumnTransformer(remainder='passthrough',\n",
              "                                   transformers=[('categorical',\n",
              "                                                  OrdinalEncoder(handle_unknown='use_encoded_value',\n",
              "                                                                 unknown_value=-1),\n",
              "                                                  ['channel_title'])])),\n",
              "                ('histgradientboostingregressor',\n",
              "                 HistGradientBoostingRegressor(loss='absolute_error',\n",
              "                                               max_iter=50,\n",
              "                                               min_samples_leaf=10))])"
            ]
          },
          "metadata": {},
          "execution_count": 48
        }
      ]
    },
    {
      "cell_type": "markdown",
      "source": [
        "### 2.5.3) Train model"
      ],
      "metadata": {
        "id": "79OfmcjSdjJH"
      }
    },
    {
      "cell_type": "code",
      "source": [
        "_ = model_challenger3.fit(X_train_challenger3, yt_y_train)"
      ],
      "metadata": {
        "id": "KQSYrZkFdjJI"
      },
      "execution_count": 49,
      "outputs": []
    },
    {
      "cell_type": "markdown",
      "source": [
        "### 2.5.4) Make predictions"
      ],
      "metadata": {
        "id": "YF-BcfINdjJI"
      }
    },
    {
      "cell_type": "code",
      "source": [
        "predictions_challenger3 = model_challenger3.predict(X_test_challenger3) # make predictions\n",
        "predictions_challenger3_pretty = predictions_pretty_print_df(predictions_challenger3, f_inv)\n",
        "predictions_challenger3_pretty.head()"
      ],
      "metadata": {
        "colab": {
          "base_uri": "https://localhost:8080/",
          "height": 206
        },
        "outputId": "6568236d-9164-43fb-9478-fcf212ccca7a",
        "id": "I-OIc-MYdjJI"
      },
      "execution_count": 50,
      "outputs": [
        {
          "output_type": "execute_result",
          "data": {
            "text/plain": [
              "                                            video_title     channel_title  \\\n",
              "1583  Trying to Catch a 1,000 MPH Baseball - Smarter...   SmarterEveryDay   \n",
              "1745  ⚡ TRIBAL DE RAIOS! → Izzet Spells no Alchemy c...           UMotivo   \n",
              "772   ⚪ O NOVO WHITE WEENIE → Basri Ket Aggro, com C...           UMotivo   \n",
              "1728                                PI - Comando \"para\"  Carla Quem Disse   \n",
              "387   The Best Test of General Relativity (by 2 Misp...        Veritasium   \n",
              "\n",
              "      view_count  view_count_pred         error  \n",
              "1583  15180905.0     3.771049e+06 -1.140986e+07  \n",
              "1745      8137.0     1.117818e+04  3.041180e+03  \n",
              "772      16050.0     1.203054e+04 -4.019456e+03  \n",
              "1728       160.0     5.184557e+02  3.584557e+02  \n",
              "387    1858083.0     5.468570e+06  3.610487e+06  "
            ],
            "text/html": [
              "\n",
              "  <div id=\"df-40e2b040-6fef-4a19-9c9a-1723fc291b48\">\n",
              "    <div class=\"colab-df-container\">\n",
              "      <div>\n",
              "<style scoped>\n",
              "    .dataframe tbody tr th:only-of-type {\n",
              "        vertical-align: middle;\n",
              "    }\n",
              "\n",
              "    .dataframe tbody tr th {\n",
              "        vertical-align: top;\n",
              "    }\n",
              "\n",
              "    .dataframe thead th {\n",
              "        text-align: right;\n",
              "    }\n",
              "</style>\n",
              "<table border=\"1\" class=\"dataframe\">\n",
              "  <thead>\n",
              "    <tr style=\"text-align: right;\">\n",
              "      <th></th>\n",
              "      <th>video_title</th>\n",
              "      <th>channel_title</th>\n",
              "      <th>view_count</th>\n",
              "      <th>view_count_pred</th>\n",
              "      <th>error</th>\n",
              "    </tr>\n",
              "  </thead>\n",
              "  <tbody>\n",
              "    <tr>\n",
              "      <th>1583</th>\n",
              "      <td>Trying to Catch a 1,000 MPH Baseball - Smarter...</td>\n",
              "      <td>SmarterEveryDay</td>\n",
              "      <td>15180905.0</td>\n",
              "      <td>3.771049e+06</td>\n",
              "      <td>-1.140986e+07</td>\n",
              "    </tr>\n",
              "    <tr>\n",
              "      <th>1745</th>\n",
              "      <td>⚡ TRIBAL DE RAIOS! → Izzet Spells no Alchemy c...</td>\n",
              "      <td>UMotivo</td>\n",
              "      <td>8137.0</td>\n",
              "      <td>1.117818e+04</td>\n",
              "      <td>3.041180e+03</td>\n",
              "    </tr>\n",
              "    <tr>\n",
              "      <th>772</th>\n",
              "      <td>⚪ O NOVO WHITE WEENIE → Basri Ket Aggro, com C...</td>\n",
              "      <td>UMotivo</td>\n",
              "      <td>16050.0</td>\n",
              "      <td>1.203054e+04</td>\n",
              "      <td>-4.019456e+03</td>\n",
              "    </tr>\n",
              "    <tr>\n",
              "      <th>1728</th>\n",
              "      <td>PI - Comando \"para\"</td>\n",
              "      <td>Carla Quem Disse</td>\n",
              "      <td>160.0</td>\n",
              "      <td>5.184557e+02</td>\n",
              "      <td>3.584557e+02</td>\n",
              "    </tr>\n",
              "    <tr>\n",
              "      <th>387</th>\n",
              "      <td>The Best Test of General Relativity (by 2 Misp...</td>\n",
              "      <td>Veritasium</td>\n",
              "      <td>1858083.0</td>\n",
              "      <td>5.468570e+06</td>\n",
              "      <td>3.610487e+06</td>\n",
              "    </tr>\n",
              "  </tbody>\n",
              "</table>\n",
              "</div>\n",
              "      <button class=\"colab-df-convert\" onclick=\"convertToInteractive('df-40e2b040-6fef-4a19-9c9a-1723fc291b48')\"\n",
              "              title=\"Convert this dataframe to an interactive table.\"\n",
              "              style=\"display:none;\">\n",
              "        \n",
              "  <svg xmlns=\"http://www.w3.org/2000/svg\" height=\"24px\"viewBox=\"0 0 24 24\"\n",
              "       width=\"24px\">\n",
              "    <path d=\"M0 0h24v24H0V0z\" fill=\"none\"/>\n",
              "    <path d=\"M18.56 5.44l.94 2.06.94-2.06 2.06-.94-2.06-.94-.94-2.06-.94 2.06-2.06.94zm-11 1L8.5 8.5l.94-2.06 2.06-.94-2.06-.94L8.5 2.5l-.94 2.06-2.06.94zm10 10l.94 2.06.94-2.06 2.06-.94-2.06-.94-.94-2.06-.94 2.06-2.06.94z\"/><path d=\"M17.41 7.96l-1.37-1.37c-.4-.4-.92-.59-1.43-.59-.52 0-1.04.2-1.43.59L10.3 9.45l-7.72 7.72c-.78.78-.78 2.05 0 2.83L4 21.41c.39.39.9.59 1.41.59.51 0 1.02-.2 1.41-.59l7.78-7.78 2.81-2.81c.8-.78.8-2.07 0-2.86zM5.41 20L4 18.59l7.72-7.72 1.47 1.35L5.41 20z\"/>\n",
              "  </svg>\n",
              "      </button>\n",
              "      \n",
              "  <style>\n",
              "    .colab-df-container {\n",
              "      display:flex;\n",
              "      flex-wrap:wrap;\n",
              "      gap: 12px;\n",
              "    }\n",
              "\n",
              "    .colab-df-convert {\n",
              "      background-color: #E8F0FE;\n",
              "      border: none;\n",
              "      border-radius: 50%;\n",
              "      cursor: pointer;\n",
              "      display: none;\n",
              "      fill: #1967D2;\n",
              "      height: 32px;\n",
              "      padding: 0 0 0 0;\n",
              "      width: 32px;\n",
              "    }\n",
              "\n",
              "    .colab-df-convert:hover {\n",
              "      background-color: #E2EBFA;\n",
              "      box-shadow: 0px 1px 2px rgba(60, 64, 67, 0.3), 0px 1px 3px 1px rgba(60, 64, 67, 0.15);\n",
              "      fill: #174EA6;\n",
              "    }\n",
              "\n",
              "    [theme=dark] .colab-df-convert {\n",
              "      background-color: #3B4455;\n",
              "      fill: #D2E3FC;\n",
              "    }\n",
              "\n",
              "    [theme=dark] .colab-df-convert:hover {\n",
              "      background-color: #434B5C;\n",
              "      box-shadow: 0px 1px 3px 1px rgba(0, 0, 0, 0.15);\n",
              "      filter: drop-shadow(0px 1px 2px rgba(0, 0, 0, 0.3));\n",
              "      fill: #FFFFFF;\n",
              "    }\n",
              "  </style>\n",
              "\n",
              "      <script>\n",
              "        const buttonEl =\n",
              "          document.querySelector('#df-40e2b040-6fef-4a19-9c9a-1723fc291b48 button.colab-df-convert');\n",
              "        buttonEl.style.display =\n",
              "          google.colab.kernel.accessAllowed ? 'block' : 'none';\n",
              "\n",
              "        async function convertToInteractive(key) {\n",
              "          const element = document.querySelector('#df-40e2b040-6fef-4a19-9c9a-1723fc291b48');\n",
              "          const dataTable =\n",
              "            await google.colab.kernel.invokeFunction('convertToInteractive',\n",
              "                                                     [key], {});\n",
              "          if (!dataTable) return;\n",
              "\n",
              "          const docLinkHtml = 'Like what you see? Visit the ' +\n",
              "            '<a target=\"_blank\" href=https://colab.research.google.com/notebooks/data_table.ipynb>data table notebook</a>'\n",
              "            + ' to learn more about interactive tables.';\n",
              "          element.innerHTML = '';\n",
              "          dataTable['output_type'] = 'display_data';\n",
              "          await google.colab.output.renderOutput(dataTable, element);\n",
              "          const docLink = document.createElement('div');\n",
              "          docLink.innerHTML = docLinkHtml;\n",
              "          element.appendChild(docLink);\n",
              "        }\n",
              "      </script>\n",
              "    </div>\n",
              "  </div>\n",
              "  "
            ]
          },
          "metadata": {},
          "execution_count": 50
        }
      ]
    },
    {
      "cell_type": "markdown",
      "source": [
        "### 2.5.5) Prediction metrics\n",
        "We will use \"model.score\", i.e., coefficient of determination R^2."
      ],
      "metadata": {
        "id": "L2-T4gS7djJK"
      }
    },
    {
      "cell_type": "code",
      "source": [
        "model_score_challenger3 = model_challenger3.score(X_test_challenger3, yt_y_test)\n",
        "model_score_challenger3"
      ],
      "metadata": {
        "colab": {
          "base_uri": "https://localhost:8080/"
        },
        "outputId": "00e8cba3-269c-4164-db2e-78df1abaab5e",
        "id": "uC_m5sRadjJK"
      },
      "execution_count": 51,
      "outputs": [
        {
          "output_type": "execute_result",
          "data": {
            "text/plain": [
              "0.9146466707112778"
            ]
          },
          "metadata": {},
          "execution_count": 51
        }
      ]
    },
    {
      "cell_type": "markdown",
      "source": [
        "## 2.8) Challenger model 4\n",
        "\n",
        "We now switch to Random Forest, using all features."
      ],
      "metadata": {
        "id": "mTIstYAw1ba8"
      }
    },
    {
      "cell_type": "markdown",
      "source": [
        "### 2.4.1) Let's select the features that we can actually use"
      ],
      "metadata": {
        "id": "b7JQYITO1ba9"
      }
    },
    {
      "cell_type": "code",
      "source": [
        "X_train_challenger4 = yt_X_train[['n_words_title', 'n_question_marks_title', 'n_exclamation_marks_title',\n",
        "                      'n_ellipsis_title', 'thumb_red', 'thumb_green', 'thumb_blue', \n",
        "                      'video_duration', 'upload_day_name', 'upload_hour_local', 'channel_title']]\n",
        "\n",
        "X_test_challenger4 = yt_X_test[['n_words_title', 'n_question_marks_title', 'n_exclamation_marks_title',\n",
        "                      'n_ellipsis_title', 'thumb_red', 'thumb_green', 'thumb_blue', \n",
        "                      'video_duration', 'upload_day_name', 'upload_hour_local', 'channel_title']]"
      ],
      "metadata": {
        "id": "8Uj6yDkG1ba-"
      },
      "execution_count": 52,
      "outputs": []
    },
    {
      "cell_type": "markdown",
      "source": [
        "### 2.4.2) Build the model pipeline"
      ],
      "metadata": {
        "id": "kRWiuJPC1bbA"
      }
    },
    {
      "cell_type": "code",
      "source": [
        "numerical_columns_selector = selector(dtype_exclude=object)\n",
        "categorical_columns_selector = selector(dtype_include=object)\n",
        "\n",
        "numerical_columns_challenger4 = numerical_columns_selector(X_train_challenger4)\n",
        "categorical_columns_challenger4 = categorical_columns_selector(X_train_challenger4)"
      ],
      "metadata": {
        "id": "vZcIWdLL1ba_"
      },
      "execution_count": 102,
      "outputs": []
    },
    {
      "cell_type": "code",
      "source": [
        "categorical_preprocessor = OrdinalEncoder(handle_unknown=\"use_encoded_value\",\n",
        "                                          unknown_value=-1)\n",
        "numerical_preprocessor = StandardScaler()\n",
        "\n",
        "preprocessor_challenger4 = ColumnTransformer([\n",
        "    ('categorical', categorical_preprocessor, categorical_columns_challenger4),\n",
        "    ('standard_scaler', numerical_preprocessor, numerical_columns_challenger4)])"
      ],
      "metadata": {
        "id": "qAUoKt5F1bbB"
      },
      "execution_count": 103,
      "outputs": []
    },
    {
      "cell_type": "code",
      "source": [
        "# Best Hyperparameters: {'RFRegr__criterion': 'absolute_error', 'RFRegr__n_estimators': 75}\n",
        "model_challenger4 = make_pipeline(preprocessor_challenger4, RandomForestRegressor(criterion = 'absolute_error', n_estimators = 75, random_state=123))\n",
        "model_challenger4"
      ],
      "metadata": {
        "colab": {
          "base_uri": "https://localhost:8080/"
        },
        "outputId": "1f68144b-d41e-40ff-aef9-555b47619064",
        "id": "aUEow-jq1bbB"
      },
      "execution_count": 112,
      "outputs": [
        {
          "output_type": "execute_result",
          "data": {
            "text/plain": [
              "Pipeline(steps=[('columntransformer',\n",
              "                 ColumnTransformer(transformers=[('categorical',\n",
              "                                                  OrdinalEncoder(handle_unknown='use_encoded_value',\n",
              "                                                                 unknown_value=-1),\n",
              "                                                  ['upload_day_name',\n",
              "                                                   'upload_hour_local',\n",
              "                                                   'channel_title']),\n",
              "                                                 ('standard_scaler',\n",
              "                                                  StandardScaler(),\n",
              "                                                  ['n_words_title',\n",
              "                                                   'n_question_marks_title',\n",
              "                                                   'n_exclamation_marks_title',\n",
              "                                                   'n_ellipsis_title',\n",
              "                                                   'thumb_red', 'thumb_green',\n",
              "                                                   'thumb_blue',\n",
              "                                                   'video_duration'])])),\n",
              "                ('randomforestregressor',\n",
              "                 RandomForestRegressor(criterion='absolute_error',\n",
              "                                       n_estimators=75, random_state=123))])"
            ]
          },
          "metadata": {},
          "execution_count": 112
        }
      ]
    },
    {
      "cell_type": "markdown",
      "source": [
        "### 2.4.3) Train model"
      ],
      "metadata": {
        "id": "ELeRF_ML1bbC"
      }
    },
    {
      "cell_type": "code",
      "source": [
        "_ = model_challenger4.fit(X_train_challenger4, yt_y_train)"
      ],
      "metadata": {
        "id": "-OKArb0N1bbD"
      },
      "execution_count": 113,
      "outputs": []
    },
    {
      "cell_type": "markdown",
      "source": [
        "### 2.4.4) Make predictions"
      ],
      "metadata": {
        "id": "lnJr-2_r1bbD"
      }
    },
    {
      "cell_type": "code",
      "source": [
        "predictions_challenger4 = model_challenger4.predict(X_test_challenger4) # make predictions\n",
        "predictions_challenger4_pretty = predictions_pretty_print_df(predictions_challenger4, f_inv)\n",
        "predictions_challenger4_pretty.head()"
      ],
      "metadata": {
        "colab": {
          "base_uri": "https://localhost:8080/",
          "height": 206
        },
        "outputId": "d6e6a313-4546-4d8f-925e-3916ac6df88d",
        "id": "O2-Iva4k1bbE"
      },
      "execution_count": 114,
      "outputs": [
        {
          "output_type": "execute_result",
          "data": {
            "text/plain": [
              "                                            video_title     channel_title  \\\n",
              "1583  Trying to Catch a 1,000 MPH Baseball - Smarter...   SmarterEveryDay   \n",
              "1745  ⚡ TRIBAL DE RAIOS! → Izzet Spells no Alchemy c...           UMotivo   \n",
              "772   ⚪ O NOVO WHITE WEENIE → Basri Ket Aggro, com C...           UMotivo   \n",
              "1728                                PI - Comando \"para\"  Carla Quem Disse   \n",
              "387   The Best Test of General Relativity (by 2 Misp...        Veritasium   \n",
              "\n",
              "      view_count  view_count_pred         error  \n",
              "1583  15180905.0     4.645073e+06 -1.053583e+07  \n",
              "1745      8137.0     1.207850e+04  3.941502e+03  \n",
              "772      16050.0     1.200938e+04 -4.040622e+03  \n",
              "1728       160.0     2.267390e+02  6.673901e+01  \n",
              "387    1858083.0     5.454851e+06  3.596768e+06  "
            ],
            "text/html": [
              "\n",
              "  <div id=\"df-027de069-af0c-40a7-8ba5-96c66ef97fa3\">\n",
              "    <div class=\"colab-df-container\">\n",
              "      <div>\n",
              "<style scoped>\n",
              "    .dataframe tbody tr th:only-of-type {\n",
              "        vertical-align: middle;\n",
              "    }\n",
              "\n",
              "    .dataframe tbody tr th {\n",
              "        vertical-align: top;\n",
              "    }\n",
              "\n",
              "    .dataframe thead th {\n",
              "        text-align: right;\n",
              "    }\n",
              "</style>\n",
              "<table border=\"1\" class=\"dataframe\">\n",
              "  <thead>\n",
              "    <tr style=\"text-align: right;\">\n",
              "      <th></th>\n",
              "      <th>video_title</th>\n",
              "      <th>channel_title</th>\n",
              "      <th>view_count</th>\n",
              "      <th>view_count_pred</th>\n",
              "      <th>error</th>\n",
              "    </tr>\n",
              "  </thead>\n",
              "  <tbody>\n",
              "    <tr>\n",
              "      <th>1583</th>\n",
              "      <td>Trying to Catch a 1,000 MPH Baseball - Smarter...</td>\n",
              "      <td>SmarterEveryDay</td>\n",
              "      <td>15180905.0</td>\n",
              "      <td>4.645073e+06</td>\n",
              "      <td>-1.053583e+07</td>\n",
              "    </tr>\n",
              "    <tr>\n",
              "      <th>1745</th>\n",
              "      <td>⚡ TRIBAL DE RAIOS! → Izzet Spells no Alchemy c...</td>\n",
              "      <td>UMotivo</td>\n",
              "      <td>8137.0</td>\n",
              "      <td>1.207850e+04</td>\n",
              "      <td>3.941502e+03</td>\n",
              "    </tr>\n",
              "    <tr>\n",
              "      <th>772</th>\n",
              "      <td>⚪ O NOVO WHITE WEENIE → Basri Ket Aggro, com C...</td>\n",
              "      <td>UMotivo</td>\n",
              "      <td>16050.0</td>\n",
              "      <td>1.200938e+04</td>\n",
              "      <td>-4.040622e+03</td>\n",
              "    </tr>\n",
              "    <tr>\n",
              "      <th>1728</th>\n",
              "      <td>PI - Comando \"para\"</td>\n",
              "      <td>Carla Quem Disse</td>\n",
              "      <td>160.0</td>\n",
              "      <td>2.267390e+02</td>\n",
              "      <td>6.673901e+01</td>\n",
              "    </tr>\n",
              "    <tr>\n",
              "      <th>387</th>\n",
              "      <td>The Best Test of General Relativity (by 2 Misp...</td>\n",
              "      <td>Veritasium</td>\n",
              "      <td>1858083.0</td>\n",
              "      <td>5.454851e+06</td>\n",
              "      <td>3.596768e+06</td>\n",
              "    </tr>\n",
              "  </tbody>\n",
              "</table>\n",
              "</div>\n",
              "      <button class=\"colab-df-convert\" onclick=\"convertToInteractive('df-027de069-af0c-40a7-8ba5-96c66ef97fa3')\"\n",
              "              title=\"Convert this dataframe to an interactive table.\"\n",
              "              style=\"display:none;\">\n",
              "        \n",
              "  <svg xmlns=\"http://www.w3.org/2000/svg\" height=\"24px\"viewBox=\"0 0 24 24\"\n",
              "       width=\"24px\">\n",
              "    <path d=\"M0 0h24v24H0V0z\" fill=\"none\"/>\n",
              "    <path d=\"M18.56 5.44l.94 2.06.94-2.06 2.06-.94-2.06-.94-.94-2.06-.94 2.06-2.06.94zm-11 1L8.5 8.5l.94-2.06 2.06-.94-2.06-.94L8.5 2.5l-.94 2.06-2.06.94zm10 10l.94 2.06.94-2.06 2.06-.94-2.06-.94-.94-2.06-.94 2.06-2.06.94z\"/><path d=\"M17.41 7.96l-1.37-1.37c-.4-.4-.92-.59-1.43-.59-.52 0-1.04.2-1.43.59L10.3 9.45l-7.72 7.72c-.78.78-.78 2.05 0 2.83L4 21.41c.39.39.9.59 1.41.59.51 0 1.02-.2 1.41-.59l7.78-7.78 2.81-2.81c.8-.78.8-2.07 0-2.86zM5.41 20L4 18.59l7.72-7.72 1.47 1.35L5.41 20z\"/>\n",
              "  </svg>\n",
              "      </button>\n",
              "      \n",
              "  <style>\n",
              "    .colab-df-container {\n",
              "      display:flex;\n",
              "      flex-wrap:wrap;\n",
              "      gap: 12px;\n",
              "    }\n",
              "\n",
              "    .colab-df-convert {\n",
              "      background-color: #E8F0FE;\n",
              "      border: none;\n",
              "      border-radius: 50%;\n",
              "      cursor: pointer;\n",
              "      display: none;\n",
              "      fill: #1967D2;\n",
              "      height: 32px;\n",
              "      padding: 0 0 0 0;\n",
              "      width: 32px;\n",
              "    }\n",
              "\n",
              "    .colab-df-convert:hover {\n",
              "      background-color: #E2EBFA;\n",
              "      box-shadow: 0px 1px 2px rgba(60, 64, 67, 0.3), 0px 1px 3px 1px rgba(60, 64, 67, 0.15);\n",
              "      fill: #174EA6;\n",
              "    }\n",
              "\n",
              "    [theme=dark] .colab-df-convert {\n",
              "      background-color: #3B4455;\n",
              "      fill: #D2E3FC;\n",
              "    }\n",
              "\n",
              "    [theme=dark] .colab-df-convert:hover {\n",
              "      background-color: #434B5C;\n",
              "      box-shadow: 0px 1px 3px 1px rgba(0, 0, 0, 0.15);\n",
              "      filter: drop-shadow(0px 1px 2px rgba(0, 0, 0, 0.3));\n",
              "      fill: #FFFFFF;\n",
              "    }\n",
              "  </style>\n",
              "\n",
              "      <script>\n",
              "        const buttonEl =\n",
              "          document.querySelector('#df-027de069-af0c-40a7-8ba5-96c66ef97fa3 button.colab-df-convert');\n",
              "        buttonEl.style.display =\n",
              "          google.colab.kernel.accessAllowed ? 'block' : 'none';\n",
              "\n",
              "        async function convertToInteractive(key) {\n",
              "          const element = document.querySelector('#df-027de069-af0c-40a7-8ba5-96c66ef97fa3');\n",
              "          const dataTable =\n",
              "            await google.colab.kernel.invokeFunction('convertToInteractive',\n",
              "                                                     [key], {});\n",
              "          if (!dataTable) return;\n",
              "\n",
              "          const docLinkHtml = 'Like what you see? Visit the ' +\n",
              "            '<a target=\"_blank\" href=https://colab.research.google.com/notebooks/data_table.ipynb>data table notebook</a>'\n",
              "            + ' to learn more about interactive tables.';\n",
              "          element.innerHTML = '';\n",
              "          dataTable['output_type'] = 'display_data';\n",
              "          await google.colab.output.renderOutput(dataTable, element);\n",
              "          const docLink = document.createElement('div');\n",
              "          docLink.innerHTML = docLinkHtml;\n",
              "          element.appendChild(docLink);\n",
              "        }\n",
              "      </script>\n",
              "    </div>\n",
              "  </div>\n",
              "  "
            ]
          },
          "metadata": {},
          "execution_count": 114
        }
      ]
    },
    {
      "cell_type": "markdown",
      "source": [
        "### 2.4.5) Prediction metrics\n",
        "We will use \"model.score\", i.e., coefficient of determination R^2."
      ],
      "metadata": {
        "id": "-ljYGYEy1bbF"
      }
    },
    {
      "cell_type": "code",
      "source": [
        "model_score_challenger4 = model_challenger4.score(X_test_challenger4, yt_y_test)\n",
        "model_score_challenger4"
      ],
      "metadata": {
        "colab": {
          "base_uri": "https://localhost:8080/"
        },
        "outputId": "d4387079-6e55-417d-e1e2-de86eb72a4bf",
        "id": "dh8HtvGY1bbG"
      },
      "execution_count": 115,
      "outputs": [
        {
          "output_type": "execute_result",
          "data": {
            "text/plain": [
              "0.9143962874084941"
            ]
          },
          "metadata": {},
          "execution_count": 115
        }
      ]
    },
    {
      "cell_type": "markdown",
      "source": [
        "## 2.9) Challenger model 5\n",
        "\n",
        "Random Forest using all features but thumbnail color."
      ],
      "metadata": {
        "id": "jxSkFylwNvRR"
      }
    },
    {
      "cell_type": "markdown",
      "source": [
        "### 2.4.1) Let's select the features that we can actually use"
      ],
      "metadata": {
        "id": "QpLrJ1vvNvRS"
      }
    },
    {
      "cell_type": "code",
      "source": [
        "X_train_challenger5 = yt_X_train[['n_words_title', 'n_question_marks_title', 'n_exclamation_marks_title',\n",
        "                      'n_ellipsis_title',\n",
        "                      'video_duration', 'upload_day_name', 'upload_hour_local', 'channel_title']]\n",
        "\n",
        "X_test_challenger5 = yt_X_test[['n_words_title', 'n_question_marks_title', 'n_exclamation_marks_title',\n",
        "                      'n_ellipsis_title',\n",
        "                      'video_duration', 'upload_day_name', 'upload_hour_local', 'channel_title']]"
      ],
      "metadata": {
        "id": "ZxmtL0zbNvRT"
      },
      "execution_count": 59,
      "outputs": []
    },
    {
      "cell_type": "markdown",
      "source": [
        "### 2.4.2) Build the model pipeline"
      ],
      "metadata": {
        "id": "Egnj-bvONvRU"
      }
    },
    {
      "cell_type": "code",
      "source": [
        "numerical_columns_selector = selector(dtype_exclude=object)\n",
        "categorical_columns_selector = selector(dtype_include=object)\n",
        "\n",
        "numerical_columns_challenger5 = numerical_columns_selector(X_train_challenger5)\n",
        "categorical_columns_challenger5 = categorical_columns_selector(X_train_challenger5)"
      ],
      "metadata": {
        "id": "gCgQE1xSNvRU"
      },
      "execution_count": 60,
      "outputs": []
    },
    {
      "cell_type": "code",
      "source": [
        "categorical_preprocessor = OrdinalEncoder(handle_unknown=\"use_encoded_value\",\n",
        "                                          unknown_value=-1)\n",
        "numerical_preprocessor = StandardScaler()\n",
        "\n",
        "preprocessor_challenger5 = ColumnTransformer([\n",
        "    ('categorical', categorical_preprocessor, categorical_columns_challenger5),\n",
        "    ('standard_scaler', numerical_preprocessor, numerical_columns_challenger5)])"
      ],
      "metadata": {
        "id": "FI6zIbRcNvRV"
      },
      "execution_count": 61,
      "outputs": []
    },
    {
      "cell_type": "code",
      "source": [
        "# Best Hyperparameters: {'RFRegr__criterion': 'absolute_error', 'RFRegr__n_estimators': 75}\n",
        "model_challenger5 = make_pipeline(preprocessor_challenger5, RandomForestRegressor(criterion = 'absolute_error', n_estimators = 75, random_state=123))\n",
        "model_challenger5"
      ],
      "metadata": {
        "colab": {
          "base_uri": "https://localhost:8080/"
        },
        "outputId": "3a74610f-5663-4f6f-c6d8-ae446670dbb9",
        "id": "523UygyGNvRW"
      },
      "execution_count": 78,
      "outputs": [
        {
          "output_type": "execute_result",
          "data": {
            "text/plain": [
              "Pipeline(steps=[('columntransformer',\n",
              "                 ColumnTransformer(transformers=[('categorical',\n",
              "                                                  OrdinalEncoder(handle_unknown='use_encoded_value',\n",
              "                                                                 unknown_value=-1),\n",
              "                                                  ['upload_day_name',\n",
              "                                                   'upload_hour_local',\n",
              "                                                   'channel_title']),\n",
              "                                                 ('standard_scaler',\n",
              "                                                  StandardScaler(),\n",
              "                                                  ['n_words_title',\n",
              "                                                   'n_question_marks_title',\n",
              "                                                   'n_exclamation_marks_title',\n",
              "                                                   'n_ellipsis_title',\n",
              "                                                   'video_duration'])])),\n",
              "                ('randomforestregressor',\n",
              "                 RandomForestRegressor(criterion='absolute_error',\n",
              "                                       n_estimators=75, random_state=123))])"
            ]
          },
          "metadata": {},
          "execution_count": 78
        }
      ]
    },
    {
      "cell_type": "markdown",
      "source": [
        "### 2.4.3) Train model"
      ],
      "metadata": {
        "id": "90SXf5ieNvRW"
      }
    },
    {
      "cell_type": "code",
      "source": [
        "_ = model_challenger5.fit(X_train_challenger5, yt_y_train)"
      ],
      "metadata": {
        "id": "EP3rja7CNvRX"
      },
      "execution_count": 79,
      "outputs": []
    },
    {
      "cell_type": "markdown",
      "source": [
        "### 2.4.4) Make predictions"
      ],
      "metadata": {
        "id": "F3oZBLRbNvRX"
      }
    },
    {
      "cell_type": "code",
      "source": [
        "predictions_challenger5 = model_challenger5.predict(X_test_challenger5) # make predictions\n",
        "predictions_challenger5_pretty = predictions_pretty_print_df(predictions_challenger5, f_inv)\n",
        "predictions_challenger5_pretty.head()"
      ],
      "metadata": {
        "colab": {
          "base_uri": "https://localhost:8080/",
          "height": 206
        },
        "outputId": "e9aae2dc-4a28-4020-c869-8311fb192cc0",
        "id": "sYswbvlvNvRY"
      },
      "execution_count": 80,
      "outputs": [
        {
          "output_type": "execute_result",
          "data": {
            "text/plain": [
              "                                            video_title     channel_title  \\\n",
              "1583  Trying to Catch a 1,000 MPH Baseball - Smarter...   SmarterEveryDay   \n",
              "1745  ⚡ TRIBAL DE RAIOS! → Izzet Spells no Alchemy c...           UMotivo   \n",
              "772   ⚪ O NOVO WHITE WEENIE → Basri Ket Aggro, com C...           UMotivo   \n",
              "1728                                PI - Comando \"para\"  Carla Quem Disse   \n",
              "387   The Best Test of General Relativity (by 2 Misp...        Veritasium   \n",
              "\n",
              "      view_count  view_count_pred         error  \n",
              "1583  15180905.0     5.180683e+06 -1.000022e+07  \n",
              "1745      8137.0     1.099616e+04  2.859162e+03  \n",
              "772      16050.0     1.189686e+04 -4.153138e+03  \n",
              "1728       160.0     3.045910e+02  1.445910e+02  \n",
              "387    1858083.0     9.852416e+06  7.994333e+06  "
            ],
            "text/html": [
              "\n",
              "  <div id=\"df-586d5681-2e8c-4586-8da8-42f78b23b011\">\n",
              "    <div class=\"colab-df-container\">\n",
              "      <div>\n",
              "<style scoped>\n",
              "    .dataframe tbody tr th:only-of-type {\n",
              "        vertical-align: middle;\n",
              "    }\n",
              "\n",
              "    .dataframe tbody tr th {\n",
              "        vertical-align: top;\n",
              "    }\n",
              "\n",
              "    .dataframe thead th {\n",
              "        text-align: right;\n",
              "    }\n",
              "</style>\n",
              "<table border=\"1\" class=\"dataframe\">\n",
              "  <thead>\n",
              "    <tr style=\"text-align: right;\">\n",
              "      <th></th>\n",
              "      <th>video_title</th>\n",
              "      <th>channel_title</th>\n",
              "      <th>view_count</th>\n",
              "      <th>view_count_pred</th>\n",
              "      <th>error</th>\n",
              "    </tr>\n",
              "  </thead>\n",
              "  <tbody>\n",
              "    <tr>\n",
              "      <th>1583</th>\n",
              "      <td>Trying to Catch a 1,000 MPH Baseball - Smarter...</td>\n",
              "      <td>SmarterEveryDay</td>\n",
              "      <td>15180905.0</td>\n",
              "      <td>5.180683e+06</td>\n",
              "      <td>-1.000022e+07</td>\n",
              "    </tr>\n",
              "    <tr>\n",
              "      <th>1745</th>\n",
              "      <td>⚡ TRIBAL DE RAIOS! → Izzet Spells no Alchemy c...</td>\n",
              "      <td>UMotivo</td>\n",
              "      <td>8137.0</td>\n",
              "      <td>1.099616e+04</td>\n",
              "      <td>2.859162e+03</td>\n",
              "    </tr>\n",
              "    <tr>\n",
              "      <th>772</th>\n",
              "      <td>⚪ O NOVO WHITE WEENIE → Basri Ket Aggro, com C...</td>\n",
              "      <td>UMotivo</td>\n",
              "      <td>16050.0</td>\n",
              "      <td>1.189686e+04</td>\n",
              "      <td>-4.153138e+03</td>\n",
              "    </tr>\n",
              "    <tr>\n",
              "      <th>1728</th>\n",
              "      <td>PI - Comando \"para\"</td>\n",
              "      <td>Carla Quem Disse</td>\n",
              "      <td>160.0</td>\n",
              "      <td>3.045910e+02</td>\n",
              "      <td>1.445910e+02</td>\n",
              "    </tr>\n",
              "    <tr>\n",
              "      <th>387</th>\n",
              "      <td>The Best Test of General Relativity (by 2 Misp...</td>\n",
              "      <td>Veritasium</td>\n",
              "      <td>1858083.0</td>\n",
              "      <td>9.852416e+06</td>\n",
              "      <td>7.994333e+06</td>\n",
              "    </tr>\n",
              "  </tbody>\n",
              "</table>\n",
              "</div>\n",
              "      <button class=\"colab-df-convert\" onclick=\"convertToInteractive('df-586d5681-2e8c-4586-8da8-42f78b23b011')\"\n",
              "              title=\"Convert this dataframe to an interactive table.\"\n",
              "              style=\"display:none;\">\n",
              "        \n",
              "  <svg xmlns=\"http://www.w3.org/2000/svg\" height=\"24px\"viewBox=\"0 0 24 24\"\n",
              "       width=\"24px\">\n",
              "    <path d=\"M0 0h24v24H0V0z\" fill=\"none\"/>\n",
              "    <path d=\"M18.56 5.44l.94 2.06.94-2.06 2.06-.94-2.06-.94-.94-2.06-.94 2.06-2.06.94zm-11 1L8.5 8.5l.94-2.06 2.06-.94-2.06-.94L8.5 2.5l-.94 2.06-2.06.94zm10 10l.94 2.06.94-2.06 2.06-.94-2.06-.94-.94-2.06-.94 2.06-2.06.94z\"/><path d=\"M17.41 7.96l-1.37-1.37c-.4-.4-.92-.59-1.43-.59-.52 0-1.04.2-1.43.59L10.3 9.45l-7.72 7.72c-.78.78-.78 2.05 0 2.83L4 21.41c.39.39.9.59 1.41.59.51 0 1.02-.2 1.41-.59l7.78-7.78 2.81-2.81c.8-.78.8-2.07 0-2.86zM5.41 20L4 18.59l7.72-7.72 1.47 1.35L5.41 20z\"/>\n",
              "  </svg>\n",
              "      </button>\n",
              "      \n",
              "  <style>\n",
              "    .colab-df-container {\n",
              "      display:flex;\n",
              "      flex-wrap:wrap;\n",
              "      gap: 12px;\n",
              "    }\n",
              "\n",
              "    .colab-df-convert {\n",
              "      background-color: #E8F0FE;\n",
              "      border: none;\n",
              "      border-radius: 50%;\n",
              "      cursor: pointer;\n",
              "      display: none;\n",
              "      fill: #1967D2;\n",
              "      height: 32px;\n",
              "      padding: 0 0 0 0;\n",
              "      width: 32px;\n",
              "    }\n",
              "\n",
              "    .colab-df-convert:hover {\n",
              "      background-color: #E2EBFA;\n",
              "      box-shadow: 0px 1px 2px rgba(60, 64, 67, 0.3), 0px 1px 3px 1px rgba(60, 64, 67, 0.15);\n",
              "      fill: #174EA6;\n",
              "    }\n",
              "\n",
              "    [theme=dark] .colab-df-convert {\n",
              "      background-color: #3B4455;\n",
              "      fill: #D2E3FC;\n",
              "    }\n",
              "\n",
              "    [theme=dark] .colab-df-convert:hover {\n",
              "      background-color: #434B5C;\n",
              "      box-shadow: 0px 1px 3px 1px rgba(0, 0, 0, 0.15);\n",
              "      filter: drop-shadow(0px 1px 2px rgba(0, 0, 0, 0.3));\n",
              "      fill: #FFFFFF;\n",
              "    }\n",
              "  </style>\n",
              "\n",
              "      <script>\n",
              "        const buttonEl =\n",
              "          document.querySelector('#df-586d5681-2e8c-4586-8da8-42f78b23b011 button.colab-df-convert');\n",
              "        buttonEl.style.display =\n",
              "          google.colab.kernel.accessAllowed ? 'block' : 'none';\n",
              "\n",
              "        async function convertToInteractive(key) {\n",
              "          const element = document.querySelector('#df-586d5681-2e8c-4586-8da8-42f78b23b011');\n",
              "          const dataTable =\n",
              "            await google.colab.kernel.invokeFunction('convertToInteractive',\n",
              "                                                     [key], {});\n",
              "          if (!dataTable) return;\n",
              "\n",
              "          const docLinkHtml = 'Like what you see? Visit the ' +\n",
              "            '<a target=\"_blank\" href=https://colab.research.google.com/notebooks/data_table.ipynb>data table notebook</a>'\n",
              "            + ' to learn more about interactive tables.';\n",
              "          element.innerHTML = '';\n",
              "          dataTable['output_type'] = 'display_data';\n",
              "          await google.colab.output.renderOutput(dataTable, element);\n",
              "          const docLink = document.createElement('div');\n",
              "          docLink.innerHTML = docLinkHtml;\n",
              "          element.appendChild(docLink);\n",
              "        }\n",
              "      </script>\n",
              "    </div>\n",
              "  </div>\n",
              "  "
            ]
          },
          "metadata": {},
          "execution_count": 80
        }
      ]
    },
    {
      "cell_type": "markdown",
      "source": [
        "### 2.4.5) Prediction metrics\n",
        "We will use \"model.score\", i.e., coefficient of determination R^2."
      ],
      "metadata": {
        "id": "Lz6cPoBwNvRY"
      }
    },
    {
      "cell_type": "code",
      "source": [
        "model_score_challenger5 = model_challenger5.score(X_test_challenger5, yt_y_test)\n",
        "model_score_challenger5"
      ],
      "metadata": {
        "colab": {
          "base_uri": "https://localhost:8080/"
        },
        "outputId": "63014bf9-78b3-491e-81d7-90c4fae2efd9",
        "id": "QDUYVGJdNvRZ"
      },
      "execution_count": 81,
      "outputs": [
        {
          "output_type": "execute_result",
          "data": {
            "text/plain": [
              "0.9267171187408957"
            ]
          },
          "metadata": {},
          "execution_count": 81
        }
      ]
    },
    {
      "cell_type": "markdown",
      "source": [
        "# **3) Grid search**\n",
        "Now we will select the most promising models and do a Grid Search on them, in order to tune hyper parameters. Then we will train it again with those parameters."
      ],
      "metadata": {
        "id": "7Qqt3CAcv8tJ"
      }
    },
    {
      "cell_type": "markdown",
      "source": [
        "## 3.1) Grid search for Challenger model 2"
      ],
      "metadata": {
        "id": "f8J6NYOMJAg9"
      }
    },
    {
      "cell_type": "code",
      "source": [
        "hgbr_regr = Pipeline(steps=[(\"preprocessor\", preprocessor_challenger2), (\"HGBRegr\", HistGradientBoostingRegressor())])"
      ],
      "metadata": {
        "id": "i9i0QP7jKCBK"
      },
      "execution_count": 85,
      "outputs": []
    },
    {
      "cell_type": "code",
      "source": [
        "parameters_hgbr = {'HGBRegr__max_iter': [10, 25, 50, 75, 100, 200],\n",
        "                    'HGBRegr__min_samples_leaf': [5, 10, 20, 30],\n",
        "                    'HGBRegr__loss': ('squared_error', 'absolute_error', 'poisson')} "
      ],
      "metadata": {
        "id": "AbFSlWRTKafk"
      },
      "execution_count": 86,
      "outputs": []
    },
    {
      "cell_type": "code",
      "source": [
        "hgbr_regr_grid = GridSearchCV(estimator = hgbr_regr, \n",
        "                            param_grid = parameters_hgbr,\n",
        "                            scoring='r2',         # score metric for regression\n",
        "                            cv=20,\n",
        "                            n_jobs=-1)"
      ],
      "metadata": {
        "id": "ImLwYhQ_Kfyn"
      },
      "execution_count": 87,
      "outputs": []
    },
    {
      "cell_type": "code",
      "source": [
        "hgbr_regr_grid.fit(X_train_challenger2, yt_y_train)"
      ],
      "metadata": {
        "colab": {
          "base_uri": "https://localhost:8080/"
        },
        "id": "OBD7IOzfKpIJ",
        "outputId": "ae92735b-77bd-46df-f1c8-859310707ac3"
      },
      "execution_count": 88,
      "outputs": [
        {
          "output_type": "execute_result",
          "data": {
            "text/plain": [
              "GridSearchCV(cv=20,\n",
              "             estimator=Pipeline(steps=[('preprocessor',\n",
              "                                        ColumnTransformer(remainder='passthrough',\n",
              "                                                          transformers=[('categorical',\n",
              "                                                                         OrdinalEncoder(handle_unknown='use_encoded_value',\n",
              "                                                                                        unknown_value=-1),\n",
              "                                                                         ['upload_day_name',\n",
              "                                                                          'upload_hour_local',\n",
              "                                                                          'channel_title'])])),\n",
              "                                       ('HGBRegr',\n",
              "                                        HistGradientBoostingRegressor())]),\n",
              "             n_jobs=-1,\n",
              "             param_grid={'HGBRegr__loss': ('squared_error', 'absolute_error',\n",
              "                                           'poisson'),\n",
              "                         'HGBRegr__max_iter': [10, 25, 50, 75, 100, 200],\n",
              "                         'HGBRegr__min_samples_leaf': [5, 10, 20, 30]},\n",
              "             scoring='r2')"
            ]
          },
          "metadata": {},
          "execution_count": 88
        }
      ]
    },
    {
      "cell_type": "code",
      "source": [
        "print(f\"Best Score: {hgbr_regr_grid.best_score_}\")\n",
        "print(f\"Best Hyperparameters: {hgbr_regr_grid.best_params_}\")\n",
        "\n",
        "#pd.DataFrame(hgbr_regr_grid.cv_results_)"
      ],
      "metadata": {
        "colab": {
          "base_uri": "https://localhost:8080/"
        },
        "id": "oaJJTXoQKuDN",
        "outputId": "ba325e50-ea18-4c06-bd11-a884346a8950"
      },
      "execution_count": 89,
      "outputs": [
        {
          "output_type": "stream",
          "name": "stdout",
          "text": [
            "Best Score: 0.9329296034272913\n",
            "Best Hyperparameters: {'HGBRegr__loss': 'absolute_error', 'HGBRegr__max_iter': 200, 'HGBRegr__min_samples_leaf': 5}\n"
          ]
        }
      ]
    },
    {
      "cell_type": "markdown",
      "source": [
        "## 3.2) Grid search for Challenger model 4"
      ],
      "metadata": {
        "id": "FFuqqVO99Tkd"
      }
    },
    {
      "cell_type": "code",
      "source": [
        "rf_regr = Pipeline(steps=[(\"preprocessor\", preprocessor_challenger4), (\"RFRegr\", RandomForestRegressor())])"
      ],
      "metadata": {
        "id": "fDwOyANh9Tkg"
      },
      "execution_count": 97,
      "outputs": []
    },
    {
      "cell_type": "code",
      "source": [
        "parameters_rf = {'RFRegr__n_estimators': [10, 25, 50, 75, 100, 200],\n",
        "              'RFRegr__criterion': ('squared_error', 'absolute_error', 'poisson')}"
      ],
      "metadata": {
        "id": "OEO7nlND6eJd"
      },
      "execution_count": 98,
      "outputs": []
    },
    {
      "cell_type": "code",
      "source": [
        "rf_regr_grid = GridSearchCV(estimator = rf_regr, \n",
        "                            param_grid = parameters_rf,\n",
        "                            scoring='r2',         # score metric for regression\n",
        "                            cv=20,\n",
        "                            n_jobs=-1)"
      ],
      "metadata": {
        "id": "2xTX4Rtn7lDs"
      },
      "execution_count": 99,
      "outputs": []
    },
    {
      "cell_type": "code",
      "source": [
        "rf_regr_grid.fit(X_train_challenger4, yt_y_train)"
      ],
      "metadata": {
        "colab": {
          "base_uri": "https://localhost:8080/"
        },
        "id": "NuFf0Kdd77AJ",
        "outputId": "e0af1b23-44d4-42c5-defc-ac486ba2af45"
      },
      "execution_count": 100,
      "outputs": [
        {
          "output_type": "execute_result",
          "data": {
            "text/plain": [
              "GridSearchCV(cv=20,\n",
              "             estimator=Pipeline(steps=[('preprocessor',\n",
              "                                        ColumnTransformer(transformers=[('categorical',\n",
              "                                                                         OrdinalEncoder(handle_unknown='use_encoded_value',\n",
              "                                                                                        unknown_value=-1),\n",
              "                                                                         ['upload_day_name',\n",
              "                                                                          'upload_hour_local',\n",
              "                                                                          'channel_title']),\n",
              "                                                                        ('standard_scaler',\n",
              "                                                                         StandardScaler(),\n",
              "                                                                         ['n_words_title',\n",
              "                                                                          'n_question_marks_title',\n",
              "                                                                          'n_exclamation_marks_title',\n",
              "                                                                          'n_ellipsis_title',\n",
              "                                                                          'thumb_red',\n",
              "                                                                          'thumb_green',\n",
              "                                                                          'thumb_blue',\n",
              "                                                                          'video_duration'])])),\n",
              "                                       ('RFRegr', RandomForestRegressor())]),\n",
              "             n_jobs=-1,\n",
              "             param_grid={'RFRegr__criterion': ('squared_error',\n",
              "                                               'absolute_error', 'poisson'),\n",
              "                         'RFRegr__n_estimators': [10, 25, 50, 75, 100, 200]},\n",
              "             scoring='r2')"
            ]
          },
          "metadata": {},
          "execution_count": 100
        }
      ]
    },
    {
      "cell_type": "code",
      "source": [
        "print(f\"Best Score: {rf_regr_grid.best_score_}\")\n",
        "print(f\"Best Hyperparameters: {rf_regr_grid.best_params_}\")\n",
        "\n",
        "#pd.DataFrame(rf_regr_grid.cv_results_)"
      ],
      "metadata": {
        "colab": {
          "base_uri": "https://localhost:8080/"
        },
        "id": "85BQXirfDXGZ",
        "outputId": "95561ff0-21ad-42bc-bcf3-d953ab98791f"
      },
      "execution_count": 77,
      "outputs": [
        {
          "output_type": "stream",
          "name": "stdout",
          "text": [
            "Best Score: 0.9342203687930267\n",
            "Best Hyperparameters: {'RFRegr__criterion': 'absolute_error', 'RFRegr__n_estimators': 75}\n"
          ]
        }
      ]
    },
    {
      "cell_type": "markdown",
      "source": [
        "# **4) Compare models**"
      ],
      "metadata": {
        "id": "TH0yWMNEjihQ"
      }
    },
    {
      "cell_type": "code",
      "source": [
        "print(f\"Dummy model score:\\n {model_score_dummy}\")\n",
        "print(f\"Baseline model 1 (decision tree, w/o channel_title feature) score:\\n {model_score_baseline1}\")       # Decision tree, w/o channel_title feature\n",
        "print(f\"Baseline model 2 (Decision tree, with channel_title feature) score:\\n {model_score_baseline2}\")       # Decision tree, with channel_title feature\n",
        "print(f\"Challenger model 1 (HGBR, all features) score:\\n {model_score_challenger1}\")   # HGBR, all features\n",
        "print(f\"Challenger model 2 (HGBR, all features but thumbnail color) score:\\n {model_score_challenger2}\")   # HGBR, all features but thumbnail color\n",
        "print(f\"Challenger model 3 (HGBR, only video duration and channel_title) score:\\n {model_score_challenger3}\")   # HGBR, only video duration and channel_title\n",
        "print(f\"Challenger model 4 (Random Forest, all features) score:\\n {model_score_challenger4}\")   # Random Forest, all features\n",
        "print(f\"Challenger model 5 (Random Forest, all features but thumbnail color) score:\\n {model_score_challenger5}\")   # Random Forest, all features but thumbnail color"
      ],
      "metadata": {
        "colab": {
          "base_uri": "https://localhost:8080/"
        },
        "id": "99AdJPWmjyQj",
        "outputId": "5efe3c90-f4d2-4b23-8341-3720f2f8b992"
      },
      "execution_count": 116,
      "outputs": [
        {
          "output_type": "stream",
          "name": "stdout",
          "text": [
            "Dummy model score:\n",
            " 0.8986743311526758\n",
            "Baseline model 1 (decision tree, w/o channel_title feature) score:\n",
            " 0.130234156464053\n",
            "Baseline model 2 (Decision tree, with channel_title feature) score:\n",
            " 0.8767191632447643\n",
            "Challenger model 1 (HGBR, all features) score:\n",
            " 0.9161204265820342\n",
            "Challenger model 2 (HGBR, all features but thumbnail color) score:\n",
            " 0.9263967731200753\n",
            "Challenger model 3 (HGBR, only video duration and channel_title) score:\n",
            " 0.9146466707112778\n",
            "Challenger model 4 (Random Forest, all features) score:\n",
            " 0.9143962874084941\n",
            "Challenger model 5 (Random Forest, all features but thumbnail color) score:\n",
            " 0.9267171187408957\n"
          ]
        }
      ]
    },
    {
      "cell_type": "markdown",
      "source": [
        "Best models are HGBR using all feature but thumbnail color, and Random Forest using all features but thumbnail color. That's the expected result when we analyzed the correlation matrix of features. Thumbnail color wasn't correlated to view count.\n",
        "\n",
        "Based on that, and the ease-of-use of implementation of this techniques, I would choose any of them over the Dummy model. But in an ideal scenario, more features would need to be extracted in order to increase prediction quality."
      ],
      "metadata": {
        "id": "lZB4lZQxVwmy"
      }
    }
  ]
}